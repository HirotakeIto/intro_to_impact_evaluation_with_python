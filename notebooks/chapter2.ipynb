{
 "cells": [
  {
   "cell_type": "markdown",
   "id": "7b523eeb-a707-4e88-aa61-32b9dbc695eb",
   "metadata": {},
   "source": [
    "# 前準備"
   ]
  },
  {
   "cell_type": "code",
   "execution_count": 1,
   "id": "b27a9a10-6354-442d-96a5-40dd36413d35",
   "metadata": {},
   "outputs": [],
   "source": [
    "# 用いるライブラリのインポート\n",
    "import hashlib\n",
    "\n",
    "import numpy as np\n",
    "import pandas as pd\n",
    "import statsmodels.formula.api as smf\n",
    "\n",
    "URL_CH2_LOGDATA = \"https://raw.githubusercontent.com/HirotakeIto/intro_to_impact_evaluation_with_python/main/data/ch2_logdata.csv\"\n",
    "URL_LENTA_DATA = \"https://raw.githubusercontent.com/HirotakeIto/intro_to_impact_evaluation_with_python/main/data/lenta_dataset.csv\""
   ]
  },
  {
   "cell_type": "markdown",
   "id": "8fcd94af-69dd-4018-9783-9412455e56f7",
   "metadata": {
    "tags": []
   },
   "source": [
    "# A/Bテストを用いてクリーンに効果検証を行う\n",
    "## Prelude"
   ]
  },
  {
   "cell_type": "markdown",
   "id": "dc80213c-bc6e-46d2-b732-69434fc52406",
   "metadata": {},
   "source": [
    "#### プログラム2.1 太郎くんの分析の再現\n",
    "\n",
    "書籍上では次のようなコードになっています。\n",
    "``` python\n",
    "import pandas as pd\n",
    "\n",
    "df = pd.read_csv(URL_CH2_LOGDATA)\n",
    "df_result = df.groupby(\"is_treatment\")[\"response_att\"].mean() * 100\n",
    "```"
   ]
  },
  {
   "cell_type": "code",
   "execution_count": 2,
   "id": "922747da-69f3-4536-95ab-7c06c2d3ab3a",
   "metadata": {},
   "outputs": [],
   "source": [
    "df = pd.read_csv(URL_CH2_LOGDATA)\n",
    "df_result = df.groupby(\"is_treatment\")[\"response_att\"].mean() * 100"
   ]
  },
  {
   "cell_type": "code",
   "execution_count": 3,
   "id": "0c64cb20-fb60-4ed1-ab15-e1a08c835bd9",
   "metadata": {},
   "outputs": [
    {
     "data": {
      "text/plain": [
       "is_treatment\n",
       "0    10.236412\n",
       "1     5.658671\n",
       "Name: response_att, dtype: float64"
      ]
     },
     "execution_count": 3,
     "metadata": {},
     "output_type": "execute_result"
    }
   ],
   "source": [
    "df_result"
   ]
  },
  {
   "cell_type": "markdown",
   "id": "b3c2c3a8-e2e5-45cb-9752-6c8d4a0dd565",
   "metadata": {},
   "source": [
    "図表のプロット"
   ]
  },
  {
   "cell_type": "code",
   "execution_count": 4,
   "id": "0fe4b5ff-1a00-47d3-83b3-6d7533e1e8b3",
   "metadata": {},
   "outputs": [
    {
     "data": {
      "text/plain": [
       "<Axes: ylabel='is_treatment'>"
      ]
     },
     "execution_count": 4,
     "metadata": {},
     "output_type": "execute_result"
    },
    {
     "data": {
      "image/png": "[encoded data removed]",
      "text/plain": [
       "<Figure size 640x480 with 1 Axes>"
      ]
     },
     "metadata": {},
     "output_type": "display_data"
    }
   ],
   "source": [
    "df_result.plot.barh()"
   ]
  },
  {
   "cell_type": "markdown",
   "id": "ab45410b-5c3b-403f-9c94-553cb631a811",
   "metadata": {},
   "source": [
    "# A/Bテストの基本的な発想"
   ]
  },
  {
   "cell_type": "code",
   "execution_count": 5,
   "id": "91f9ee6b-6d05-4e2b-b201-0cf566c4d1b6",
   "metadata": {},
   "outputs": [
    {
     "data": {
      "text/plain": [
       "<Axes: ylabel='is_treatment'>"
      ]
     },
     "execution_count": 5,
     "metadata": {},
     "output_type": "execute_result"
    },
    {
     "data": {
      "image/png": "[encoded data removed]",
      "text/plain": [
       "<Figure size 640x480 with 1 Axes>"
      ]
     },
     "metadata": {},
     "output_type": "display_data"
    }
   ],
   "source": [
    "df_result_food_share = (\n",
    "    pd.read_csv(URL_CH2_LOGDATA)\n",
    "    .groupby(\"is_treatment\")[\"food_share_15d\"]\n",
    "    .mean()\n",
    "    * 100\n",
    ")\n",
    "df_result_food_share.plot.barh()"
   ]
  },
  {
   "cell_type": "code",
   "execution_count": 6,
   "id": "6b83ccc6-1f8a-4e5b-85b9-58cb346019b7",
   "metadata": {},
   "outputs": [
    {
     "data": {
      "text/plain": [
       "is_treatment\n",
       "0    34.558005\n",
       "1    34.887180\n",
       "Name: food_share_15d, dtype: float64"
      ]
     },
     "execution_count": 6,
     "metadata": {},
     "output_type": "execute_result"
    }
   ],
   "source": [
    "pd.read_csv(URL_LENTA_DATA).groupby(\"is_treatment\")[\n",
    "    \"food_share_15d\"\n",
    "].mean() * 100"
   ]
  },
  {
   "cell_type": "markdown",
   "id": "fa24218b",
   "metadata": {},
   "source": [
    "# A/Bテストの設計と分析\n",
    "## A/Bテストの設計\n",
    "### 割当"
   ]
  },
  {
   "cell_type": "markdown",
   "id": "65a8ff68-07ab-4a51-bf98-e0eb5636fa7e",
   "metadata": {},
   "source": [
    "#### プログラム2.2 NumPy パッケージのchoice を使ったランダム割当\n",
    "書籍上では次のようなコードになっています。\n",
    "\n",
    "``` python\n",
    "import numpy as np\n",
    "\n",
    "rng = np.random.default_rng()\n",
    "is_treatment = rng.choice([0, 1], p=[0.3, 0.7])\n",
    "```"
   ]
  },
  {
   "cell_type": "code",
   "execution_count": 7,
   "id": "83cb481a-f1a0-4620-80cf-bcfa98b358ff",
   "metadata": {},
   "outputs": [],
   "source": [
    "rng = np.random.default_rng(seed=0)\n",
    "is_treatment = rng.choice([0, 1], p=[0.3, 0.7])"
   ]
  },
  {
   "cell_type": "code",
   "execution_count": 8,
   "id": "36a395e5-c923-4140-bd74-6b13e89a511a",
   "metadata": {},
   "outputs": [
    {
     "data": {
      "text/plain": [
       "1"
      ]
     },
     "execution_count": 8,
     "metadata": {},
     "output_type": "execute_result"
    }
   ],
   "source": [
    "is_treatment"
   ]
  },
  {
   "cell_type": "markdown",
   "id": "ef612267-1402-4ab6-a6f3-01af61aa7596",
   "metadata": {},
   "source": [
    "#### プログラム2.3 ハッシュ化を通じたランダム割当\n",
    "\n",
    "書籍上では次のようなコードになっています。\n",
    "\n",
    "``` python\n",
    "import hashlib\n",
    "\n",
    "uid = \"hogehoge\"\n",
    "hash_value = int(\n",
    "    hashlib.sha256(f\"salt0_{uid}\".encode()).hexdigest(), 16\n",
    ")\n",
    "if (hash_value % 10) < 3:\n",
    "    is_treatment = 1\n",
    "else:\n",
    "    is_treatment = 0\n",
    "```"
   ]
  },
  {
   "cell_type": "code",
   "execution_count": 9,
   "id": "7be0da4e-7437-4eea-81ac-e5f0c13122ef",
   "metadata": {},
   "outputs": [],
   "source": [
    "uid = \"hogehoge\"\n",
    "hash_value = int(\n",
    "    hashlib.sha256(f\"salt0_{uid}\".encode()).hexdigest(), 16\n",
    ")\n",
    "if (hash_value % 10) < 3:\n",
    "    is_treatment = 1\n",
    "else:\n",
    "    is_treatment = 0"
   ]
  },
  {
   "cell_type": "code",
   "execution_count": 10,
   "id": "4cad28ee-b77a-4ddc-bb72-fcae048a0b31",
   "metadata": {},
   "outputs": [
    {
     "data": {
      "text/plain": [
       "1"
      ]
     },
     "execution_count": 10,
     "metadata": {},
     "output_type": "execute_result"
    }
   ],
   "source": [
    "is_treatment"
   ]
  },
  {
   "cell_type": "markdown",
   "id": "aae53378-3dbc-469a-8d6f-0e0c92105fc3",
   "metadata": {},
   "source": [
    "# A/Bテスト"
   ]
  },
  {
   "cell_type": "markdown",
   "id": "b1200e04-7173-4248-a211-36b5b64ea519",
   "metadata": {},
   "source": [
    "太郎くんのストーリーにある図表の再現"
   ]
  },
  {
   "cell_type": "code",
   "execution_count": 11,
   "id": "6200c5c4-4f2a-49d9-9552-451464f7fb2c",
   "metadata": {},
   "outputs": [
    {
     "name": "stdout",
     "output_type": "stream",
     "text": [
      "is_treatment\n",
      "0    10.236412\n",
      "1    11.145897\n",
      "Name: response_att, dtype: float64\n"
     ]
    },
    {
     "data": {
      "text/plain": [
       "<Axes: ylabel='is_treatment'>"
      ]
     },
     "execution_count": 11,
     "metadata": {},
     "output_type": "execute_result"
    },
    {
     "data": {
      "image/png": "[encoded data removed]",
      "text/plain": [
       "<Figure size 640x480 with 1 Axes>"
      ]
     },
     "metadata": {},
     "output_type": "display_data"
    }
   ],
   "source": [
    "df_result_response = (\n",
    "    pd.read_csv(URL_LENTA_DATA)\n",
    "    .groupby(\"is_treatment\")[\"response_att\"]\n",
    "    .mean()\n",
    "    * 100\n",
    ")\n",
    "print(df_result_response)\n",
    "df_result_response.plot.barh()"
   ]
  },
  {
   "cell_type": "markdown",
   "id": "80a062aa-0333-437b-b58d-15bcd25fbd20",
   "metadata": {},
   "source": [
    "# pythonによるプッシュ通知施策効果の検証"
   ]
  },
  {
   "cell_type": "markdown",
   "id": "de352e7e-9dc9-4c9a-b0e4-0f92475ba8bd",
   "metadata": {},
   "source": [
    "#### プログラム2.4 A/B テストによるプッシュ通知施策の効果検証\n",
    "書籍上では次のようなコードになっています。\n",
    "``` python\n",
    "import statsmodels.formula.api as smf\n",
    "\n",
    "# データの取得\n",
    "df = pd.read_csv(URL_LENTA_DATA)\n",
    "# 共変量がバランスしているかを調べる\n",
    "df_balance_test = df.groupby(\"is_treatment\")[\n",
    "    [\"food_share_15d\", \"age\", \"is_women\"]\n",
    "].mean()\n",
    "# 回帰分析\n",
    "result = smf.ols(formula=\"response_att ~ is_treatment\", data=df).fit()\n",
    "result.summary()\n",
    "```"
   ]
  },
  {
   "cell_type": "markdown",
   "id": "fcd02f41-8543-44f1-b6cc-2558adb9d1e1",
   "metadata": {},
   "source": [
    "前準備：データの取得と確認"
   ]
  },
  {
   "cell_type": "code",
   "execution_count": 12,
   "id": "21933ecb-0289-4855-a820-dee853a4b7f4",
   "metadata": {},
   "outputs": [
    {
     "data": {
      "text/html": [
       "<table class=\"simpletable\">\n",
       "<caption>OLS Regression Results</caption>\n",
       "<tr>\n",
       "  <th>Dep. Variable:</th>      <td>response_att</td>   <th>  R-squared:         </th> <td>   0.000</td> \n",
       "</tr>\n",
       "<tr>\n",
       "  <th>Model:</th>                   <td>OLS</td>       <th>  Adj. R-squared:    </th> <td>   0.000</td> \n",
       "</tr>\n",
       "<tr>\n",
       "  <th>Method:</th>             <td>Least Squares</td>  <th>  F-statistic:       </th> <td>   7.890</td> \n",
       "</tr>\n",
       "<tr>\n",
       "  <th>Date:</th>             <td>Mon, 26 Feb 2024</td> <th>  Prob (F-statistic):</th>  <td>0.00497</td> \n",
       "</tr>\n",
       "<tr>\n",
       "  <th>Time:</th>                 <td>17:40:12</td>     <th>  Log-Likelihood:    </th> <td> -12692.</td> \n",
       "</tr>\n",
       "<tr>\n",
       "  <th>No. Observations:</th>      <td> 50000</td>      <th>  AIC:               </th> <td>2.539e+04</td>\n",
       "</tr>\n",
       "<tr>\n",
       "  <th>Df Residuals:</th>          <td> 49998</td>      <th>  BIC:               </th> <td>2.541e+04</td>\n",
       "</tr>\n",
       "<tr>\n",
       "  <th>Df Model:</th>              <td>     1</td>      <th>                     </th>     <td> </td>    \n",
       "</tr>\n",
       "<tr>\n",
       "  <th>Covariance Type:</th>      <td>nonrobust</td>    <th>                     </th>     <td> </td>    \n",
       "</tr>\n",
       "</table>\n",
       "<table class=\"simpletable\">\n",
       "<tr>\n",
       "        <td></td>          <th>coef</th>     <th>std err</th>      <th>t</th>      <th>P>|t|</th>  <th>[0.025</th>    <th>0.975]</th>  \n",
       "</tr>\n",
       "<tr>\n",
       "  <th>Intercept</th>    <td>    0.1024</td> <td>    0.003</td> <td>   36.412</td> <td> 0.000</td> <td>    0.097</td> <td>    0.108</td>\n",
       "</tr>\n",
       "<tr>\n",
       "  <th>is_treatment</th> <td>    0.0091</td> <td>    0.003</td> <td>    2.809</td> <td> 0.005</td> <td>    0.003</td> <td>    0.015</td>\n",
       "</tr>\n",
       "</table>\n",
       "<table class=\"simpletable\">\n",
       "<tr>\n",
       "  <th>Omnibus:</th>       <td>23649.035</td> <th>  Durbin-Watson:     </th> <td>   1.998</td> \n",
       "</tr>\n",
       "<tr>\n",
       "  <th>Prob(Omnibus):</th>  <td> 0.000</td>   <th>  Jarque-Bera (JB):  </th> <td>90406.287</td>\n",
       "</tr>\n",
       "<tr>\n",
       "  <th>Skew:</th>           <td> 2.505</td>   <th>  Prob(JB):          </th> <td>    0.00</td> \n",
       "</tr>\n",
       "<tr>\n",
       "  <th>Kurtosis:</th>       <td> 7.277</td>   <th>  Cond. No.          </th> <td>    3.81</td> \n",
       "</tr>\n",
       "</table><br/><br/>Notes:<br/>[1] Standard Errors assume that the covariance matrix of the errors is correctly specified."
      ],
      "text/latex": [
       "\\begin{center}\n",
       "\\begin{tabular}{lclc}\n",
       "\\toprule\n",
       "\\textbf{Dep. Variable:}    &  response\\_att   & \\textbf{  R-squared:         } &     0.000   \\\\\n",
       "\\textbf{Model:}            &       OLS        & \\textbf{  Adj. R-squared:    } &     0.000   \\\\\n",
       "\\textbf{Method:}           &  Least Squares   & \\textbf{  F-statistic:       } &     7.890   \\\\\n",
       "\\textbf{Date:}             & Mon, 26 Feb 2024 & \\textbf{  Prob (F-statistic):} &  0.00497    \\\\\n",
       "\\textbf{Time:}             &     17:40:12     & \\textbf{  Log-Likelihood:    } &   -12692.   \\\\\n",
       "\\textbf{No. Observations:} &       50000      & \\textbf{  AIC:               } & 2.539e+04   \\\\\n",
       "\\textbf{Df Residuals:}     &       49998      & \\textbf{  BIC:               } & 2.541e+04   \\\\\n",
       "\\textbf{Df Model:}         &           1      & \\textbf{                     } &             \\\\\n",
       "\\textbf{Covariance Type:}  &    nonrobust     & \\textbf{                     } &             \\\\\n",
       "\\bottomrule\n",
       "\\end{tabular}\n",
       "\\begin{tabular}{lcccccc}\n",
       "                       & \\textbf{coef} & \\textbf{std err} & \\textbf{t} & \\textbf{P$> |$t$|$} & \\textbf{[0.025} & \\textbf{0.975]}  \\\\\n",
       "\\midrule\n",
       "\\textbf{Intercept}     &       0.1024  &        0.003     &    36.412  &         0.000        &        0.097    &        0.108     \\\\\n",
       "\\textbf{is\\_treatment} &       0.0091  &        0.003     &     2.809  &         0.005        &        0.003    &        0.015     \\\\\n",
       "\\bottomrule\n",
       "\\end{tabular}\n",
       "\\begin{tabular}{lclc}\n",
       "\\textbf{Omnibus:}       & 23649.035 & \\textbf{  Durbin-Watson:     } &     1.998  \\\\\n",
       "\\textbf{Prob(Omnibus):} &    0.000  & \\textbf{  Jarque-Bera (JB):  } & 90406.287  \\\\\n",
       "\\textbf{Skew:}          &    2.505  & \\textbf{  Prob(JB):          } &      0.00  \\\\\n",
       "\\textbf{Kurtosis:}      &    7.277  & \\textbf{  Cond. No.          } &      3.81  \\\\\n",
       "\\bottomrule\n",
       "\\end{tabular}\n",
       "%\\caption{OLS Regression Results}\n",
       "\\end{center}\n",
       "\n",
       "Notes: \\newline\n",
       " [1] Standard Errors assume that the covariance matrix of the errors is correctly specified."
      ],
      "text/plain": [
       "<class 'statsmodels.iolib.summary.Summary'>\n",
       "\"\"\"\n",
       "                            OLS Regression Results                            \n",
       "==============================================================================\n",
       "Dep. Variable:           response_att   R-squared:                       0.000\n",
       "Model:                            OLS   Adj. R-squared:                  0.000\n",
       "Method:                 Least Squares   F-statistic:                     7.890\n",
       "Date:                Mon, 26 Feb 2024   Prob (F-statistic):            0.00497\n",
       "Time:                        17:40:12   Log-Likelihood:                -12692.\n",
       "No. Observations:               50000   AIC:                         2.539e+04\n",
       "Df Residuals:                   49998   BIC:                         2.541e+04\n",
       "Df Model:                           1                                         \n",
       "Covariance Type:            nonrobust                                         \n",
       "================================================================================\n",
       "                   coef    std err          t      P>|t|      [0.025      0.975]\n",
       "--------------------------------------------------------------------------------\n",
       "Intercept        0.1024      0.003     36.412      0.000       0.097       0.108\n",
       "is_treatment     0.0091      0.003      2.809      0.005       0.003       0.015\n",
       "==============================================================================\n",
       "Omnibus:                    23649.035   Durbin-Watson:                   1.998\n",
       "Prob(Omnibus):                  0.000   Jarque-Bera (JB):            90406.287\n",
       "Skew:                           2.505   Prob(JB):                         0.00\n",
       "Kurtosis:                       7.277   Cond. No.                         3.81\n",
       "==============================================================================\n",
       "\n",
       "Notes:\n",
       "[1] Standard Errors assume that the covariance matrix of the errors is correctly specified.\n",
       "\"\"\""
      ]
     },
     "execution_count": 12,
     "metadata": {},
     "output_type": "execute_result"
    }
   ],
   "source": [
    "# データの取得\n",
    "df = pd.read_csv(URL_LENTA_DATA)\n",
    "# 共変量がバランスしているかを調べる\n",
    "df_balance_test = df.groupby(\"is_treatment\")[\n",
    "    [\"food_share_15d\", \"age\", \"is_women\"]\n",
    "].mean()\n",
    "# 回帰分析\n",
    "result = smf.ols(formula=\"response_att ~ is_treatment\", data=df).fit()\n",
    "result.summary()"
   ]
  },
  {
   "cell_type": "code",
   "execution_count": 13,
   "id": "de7df562-4adc-4985-a10b-5cc26f537676",
   "metadata": {},
   "outputs": [
    {
     "data": {
      "text/html": [
       "<div>\n",
       "<style scoped>\n",
       "    .dataframe tbody tr th:only-of-type {\n",
       "        vertical-align: middle;\n",
       "    }\n",
       "\n",
       "    .dataframe tbody tr th {\n",
       "        vertical-align: top;\n",
       "    }\n",
       "\n",
       "    .dataframe thead th {\n",
       "        text-align: right;\n",
       "    }\n",
       "</style>\n",
       "<table border=\"1\" class=\"dataframe\">\n",
       "  <thead>\n",
       "    <tr style=\"text-align: right;\">\n",
       "      <th></th>\n",
       "      <th>is_treatment</th>\n",
       "      <th>response_att</th>\n",
       "      <th>food_share_15d</th>\n",
       "      <th>age</th>\n",
       "      <th>is_women</th>\n",
       "    </tr>\n",
       "  </thead>\n",
       "  <tbody>\n",
       "    <tr>\n",
       "      <th>0</th>\n",
       "      <td>1</td>\n",
       "      <td>0</td>\n",
       "      <td>0.0000</td>\n",
       "      <td>33.0</td>\n",
       "      <td>1</td>\n",
       "    </tr>\n",
       "    <tr>\n",
       "      <th>1</th>\n",
       "      <td>0</td>\n",
       "      <td>0</td>\n",
       "      <td>0.0000</td>\n",
       "      <td>63.0</td>\n",
       "      <td>1</td>\n",
       "    </tr>\n",
       "    <tr>\n",
       "      <th>2</th>\n",
       "      <td>1</td>\n",
       "      <td>0</td>\n",
       "      <td>0.0000</td>\n",
       "      <td>51.0</td>\n",
       "      <td>1</td>\n",
       "    </tr>\n",
       "    <tr>\n",
       "      <th>3</th>\n",
       "      <td>0</td>\n",
       "      <td>0</td>\n",
       "      <td>0.0000</td>\n",
       "      <td>38.0</td>\n",
       "      <td>1</td>\n",
       "    </tr>\n",
       "    <tr>\n",
       "      <th>4</th>\n",
       "      <td>1</td>\n",
       "      <td>0</td>\n",
       "      <td>0.5105</td>\n",
       "      <td>20.0</td>\n",
       "      <td>1</td>\n",
       "    </tr>\n",
       "  </tbody>\n",
       "</table>\n",
       "</div>"
      ],
      "text/plain": [
       "   is_treatment  response_att  food_share_15d   age  is_women\n",
       "0             1             0          0.0000  33.0         1\n",
       "1             0             0          0.0000  63.0         1\n",
       "2             1             0          0.0000  51.0         1\n",
       "3             0             0          0.0000  38.0         1\n",
       "4             1             0          0.5105  20.0         1"
      ]
     },
     "execution_count": 13,
     "metadata": {},
     "output_type": "execute_result"
    }
   ],
   "source": [
    "df.head(5)"
   ]
  },
  {
   "cell_type": "code",
   "execution_count": 14,
   "id": "d2cf0a62-bb55-4d86-b5ad-b5f7ff24850f",
   "metadata": {},
   "outputs": [
    {
     "data": {
      "text/html": [
       "<div>\n",
       "<style scoped>\n",
       "    .dataframe tbody tr th:only-of-type {\n",
       "        vertical-align: middle;\n",
       "    }\n",
       "\n",
       "    .dataframe tbody tr th {\n",
       "        vertical-align: top;\n",
       "    }\n",
       "\n",
       "    .dataframe thead th {\n",
       "        text-align: right;\n",
       "    }\n",
       "</style>\n",
       "<table border=\"1\" class=\"dataframe\">\n",
       "  <thead>\n",
       "    <tr style=\"text-align: right;\">\n",
       "      <th></th>\n",
       "      <th>food_share_15d</th>\n",
       "      <th>age</th>\n",
       "      <th>is_women</th>\n",
       "    </tr>\n",
       "    <tr>\n",
       "      <th>is_treatment</th>\n",
       "      <th></th>\n",
       "      <th></th>\n",
       "      <th></th>\n",
       "    </tr>\n",
       "  </thead>\n",
       "  <tbody>\n",
       "    <tr>\n",
       "      <th>0</th>\n",
       "      <td>0.345580</td>\n",
       "      <td>43.578986</td>\n",
       "      <td>0.618734</td>\n",
       "    </tr>\n",
       "    <tr>\n",
       "      <th>1</th>\n",
       "      <td>0.348872</td>\n",
       "      <td>43.803353</td>\n",
       "      <td>0.629673</td>\n",
       "    </tr>\n",
       "  </tbody>\n",
       "</table>\n",
       "</div>"
      ],
      "text/plain": [
       "              food_share_15d        age  is_women\n",
       "is_treatment                                     \n",
       "0                   0.345580  43.578986  0.618734\n",
       "1                   0.348872  43.803353  0.629673"
      ]
     },
     "execution_count": 14,
     "metadata": {},
     "output_type": "execute_result"
    }
   ],
   "source": [
    "df_balance_test"
   ]
  },
  {
   "cell_type": "markdown",
   "id": "c6241651-d0f1-46c4-b7a3-844e47437dd0",
   "metadata": {},
   "source": [
    "## （未収録） 共変量を加えても結果が大きく変わらないことを確認する"
   ]
  },
  {
   "cell_type": "code",
   "execution_count": 15,
   "id": "5650027a-68c3-410b-a06c-f91f4fbf664d",
   "metadata": {},
   "outputs": [
    {
     "data": {
      "text/html": [
       "<table class=\"simpletable\">\n",
       "<caption>OLS Regression Results</caption>\n",
       "<tr>\n",
       "  <th>Dep. Variable:</th>      <td>response_att</td>   <th>  R-squared:         </th> <td>   0.051</td> \n",
       "</tr>\n",
       "<tr>\n",
       "  <th>Model:</th>                   <td>OLS</td>       <th>  Adj. R-squared:    </th> <td>   0.051</td> \n",
       "</tr>\n",
       "<tr>\n",
       "  <th>Method:</th>             <td>Least Squares</td>  <th>  F-statistic:       </th> <td>   655.4</td> \n",
       "</tr>\n",
       "<tr>\n",
       "  <th>Date:</th>             <td>Mon, 26 Feb 2024</td> <th>  Prob (F-statistic):</th>  <td>  0.00</td>  \n",
       "</tr>\n",
       "<tr>\n",
       "  <th>Time:</th>                 <td>17:40:12</td>     <th>  Log-Likelihood:    </th> <td> -11048.</td> \n",
       "</tr>\n",
       "<tr>\n",
       "  <th>No. Observations:</th>      <td> 49152</td>      <th>  AIC:               </th> <td>2.211e+04</td>\n",
       "</tr>\n",
       "<tr>\n",
       "  <th>Df Residuals:</th>          <td> 49147</td>      <th>  BIC:               </th> <td>2.215e+04</td>\n",
       "</tr>\n",
       "<tr>\n",
       "  <th>Df Model:</th>              <td>     4</td>      <th>                     </th>     <td> </td>    \n",
       "</tr>\n",
       "<tr>\n",
       "  <th>Covariance Type:</th>      <td>nonrobust</td>    <th>                     </th>     <td> </td>    \n",
       "</tr>\n",
       "</table>\n",
       "<table class=\"simpletable\">\n",
       "<tr>\n",
       "         <td></td>           <th>coef</th>     <th>std err</th>      <th>t</th>      <th>P>|t|</th>  <th>[0.025</th>    <th>0.975]</th>  \n",
       "</tr>\n",
       "<tr>\n",
       "  <th>Intercept</th>      <td>    0.0539</td> <td>    0.005</td> <td>   10.555</td> <td> 0.000</td> <td>    0.044</td> <td>    0.064</td>\n",
       "</tr>\n",
       "<tr>\n",
       "  <th>is_treatment</th>   <td>    0.0072</td> <td>    0.003</td> <td>    2.285</td> <td> 0.022</td> <td>    0.001</td> <td>    0.013</td>\n",
       "</tr>\n",
       "<tr>\n",
       "  <th>food_share_15d</th> <td>    0.1713</td> <td>    0.003</td> <td>   51.131</td> <td> 0.000</td> <td>    0.165</td> <td>    0.178</td>\n",
       "</tr>\n",
       "<tr>\n",
       "  <th>age</th>            <td>   -0.0003</td> <td>  9.3e-05</td> <td>   -3.047</td> <td> 0.002</td> <td>   -0.000</td> <td>   -0.000</td>\n",
       "</tr>\n",
       "<tr>\n",
       "  <th>is_women</th>       <td>    0.0033</td> <td>    0.003</td> <td>    1.157</td> <td> 0.247</td> <td>   -0.002</td> <td>    0.009</td>\n",
       "</tr>\n",
       "</table>\n",
       "<table class=\"simpletable\">\n",
       "<tr>\n",
       "  <th>Omnibus:</th>       <td>21428.610</td> <th>  Durbin-Watson:     </th> <td>   2.002</td> \n",
       "</tr>\n",
       "<tr>\n",
       "  <th>Prob(Omnibus):</th>  <td> 0.000</td>   <th>  Jarque-Bera (JB):  </th> <td>75038.647</td>\n",
       "</tr>\n",
       "<tr>\n",
       "  <th>Skew:</th>           <td> 2.317</td>   <th>  Prob(JB):          </th> <td>    0.00</td> \n",
       "</tr>\n",
       "<tr>\n",
       "  <th>Kurtosis:</th>       <td> 6.895</td>   <th>  Cond. No.          </th> <td>    185.</td> \n",
       "</tr>\n",
       "</table><br/><br/>Notes:<br/>[1] Standard Errors assume that the covariance matrix of the errors is correctly specified."
      ],
      "text/latex": [
       "\\begin{center}\n",
       "\\begin{tabular}{lclc}\n",
       "\\toprule\n",
       "\\textbf{Dep. Variable:}    &  response\\_att   & \\textbf{  R-squared:         } &     0.051   \\\\\n",
       "\\textbf{Model:}            &       OLS        & \\textbf{  Adj. R-squared:    } &     0.051   \\\\\n",
       "\\textbf{Method:}           &  Least Squares   & \\textbf{  F-statistic:       } &     655.4   \\\\\n",
       "\\textbf{Date:}             & Mon, 26 Feb 2024 & \\textbf{  Prob (F-statistic):} &     0.00    \\\\\n",
       "\\textbf{Time:}             &     17:40:12     & \\textbf{  Log-Likelihood:    } &   -11048.   \\\\\n",
       "\\textbf{No. Observations:} &       49152      & \\textbf{  AIC:               } & 2.211e+04   \\\\\n",
       "\\textbf{Df Residuals:}     &       49147      & \\textbf{  BIC:               } & 2.215e+04   \\\\\n",
       "\\textbf{Df Model:}         &           4      & \\textbf{                     } &             \\\\\n",
       "\\textbf{Covariance Type:}  &    nonrobust     & \\textbf{                     } &             \\\\\n",
       "\\bottomrule\n",
       "\\end{tabular}\n",
       "\\begin{tabular}{lcccccc}\n",
       "                          & \\textbf{coef} & \\textbf{std err} & \\textbf{t} & \\textbf{P$> |$t$|$} & \\textbf{[0.025} & \\textbf{0.975]}  \\\\\n",
       "\\midrule\n",
       "\\textbf{Intercept}        &       0.0539  &        0.005     &    10.555  &         0.000        &        0.044    &        0.064     \\\\\n",
       "\\textbf{is\\_treatment}    &       0.0072  &        0.003     &     2.285  &         0.022        &        0.001    &        0.013     \\\\\n",
       "\\textbf{food\\_share\\_15d} &       0.1713  &        0.003     &    51.131  &         0.000        &        0.165    &        0.178     \\\\\n",
       "\\textbf{age}              &      -0.0003  &      9.3e-05     &    -3.047  &         0.002        &       -0.000    &       -0.000     \\\\\n",
       "\\textbf{is\\_women}        &       0.0033  &        0.003     &     1.157  &         0.247        &       -0.002    &        0.009     \\\\\n",
       "\\bottomrule\n",
       "\\end{tabular}\n",
       "\\begin{tabular}{lclc}\n",
       "\\textbf{Omnibus:}       & 21428.610 & \\textbf{  Durbin-Watson:     } &     2.002  \\\\\n",
       "\\textbf{Prob(Omnibus):} &    0.000  & \\textbf{  Jarque-Bera (JB):  } & 75038.647  \\\\\n",
       "\\textbf{Skew:}          &    2.317  & \\textbf{  Prob(JB):          } &      0.00  \\\\\n",
       "\\textbf{Kurtosis:}      &    6.895  & \\textbf{  Cond. No.          } &      185.  \\\\\n",
       "\\bottomrule\n",
       "\\end{tabular}\n",
       "%\\caption{OLS Regression Results}\n",
       "\\end{center}\n",
       "\n",
       "Notes: \\newline\n",
       " [1] Standard Errors assume that the covariance matrix of the errors is correctly specified."
      ],
      "text/plain": [
       "<class 'statsmodels.iolib.summary.Summary'>\n",
       "\"\"\"\n",
       "                            OLS Regression Results                            \n",
       "==============================================================================\n",
       "Dep. Variable:           response_att   R-squared:                       0.051\n",
       "Model:                            OLS   Adj. R-squared:                  0.051\n",
       "Method:                 Least Squares   F-statistic:                     655.4\n",
       "Date:                Mon, 26 Feb 2024   Prob (F-statistic):               0.00\n",
       "Time:                        17:40:12   Log-Likelihood:                -11048.\n",
       "No. Observations:               49152   AIC:                         2.211e+04\n",
       "Df Residuals:                   49147   BIC:                         2.215e+04\n",
       "Df Model:                           4                                         \n",
       "Covariance Type:            nonrobust                                         \n",
       "==================================================================================\n",
       "                     coef    std err          t      P>|t|      [0.025      0.975]\n",
       "----------------------------------------------------------------------------------\n",
       "Intercept          0.0539      0.005     10.555      0.000       0.044       0.064\n",
       "is_treatment       0.0072      0.003      2.285      0.022       0.001       0.013\n",
       "food_share_15d     0.1713      0.003     51.131      0.000       0.165       0.178\n",
       "age               -0.0003    9.3e-05     -3.047      0.002      -0.000      -0.000\n",
       "is_women           0.0033      0.003      1.157      0.247      -0.002       0.009\n",
       "==============================================================================\n",
       "Omnibus:                    21428.610   Durbin-Watson:                   2.002\n",
       "Prob(Omnibus):                  0.000   Jarque-Bera (JB):            75038.647\n",
       "Skew:                           2.317   Prob(JB):                         0.00\n",
       "Kurtosis:                       6.895   Cond. No.                         185.\n",
       "==============================================================================\n",
       "\n",
       "Notes:\n",
       "[1] Standard Errors assume that the covariance matrix of the errors is correctly specified.\n",
       "\"\"\""
      ]
     },
     "execution_count": 15,
     "metadata": {},
     "output_type": "execute_result"
    }
   ],
   "source": [
    "# 回帰分析\n",
    "result = smf.ols(\n",
    "    \"response_att ~ is_treatment + food_share_15d + age + is_women\",\n",
    "    data=df,\n",
    ").fit()\n",
    "result.summary()"
   ]
  }
 ],
 "metadata": {
  "kernelspec": {
   "display_name": "Python 3 (ipykernel)",
   "language": "python",
   "name": "python3"
  },
  "language_info": {
   "codemirror_mode": {
    "name": "ipython",
    "version": 3
   },
   "file_extension": ".py",
   "mimetype": "text/x-python",
   "name": "python",
   "nbconvert_exporter": "python",
   "pygments_lexer": "ipython3",
   "version": "3.8.5"
  }
 },
 "nbformat": 4,
 "nbformat_minor": 5
}
