{
 "cells": [
  {
   "cell_type": "code",
   "execution_count": 130,
   "id": "f81c5a48-cc8f-4472-9730-c4683ec3f63a",
   "metadata": {},
   "outputs": [],
   "source": [
    "import hashlib\n",
    "\n",
    "import pandas as pd\n",
    "import seaborn as sns\n",
    "import numpy as np\n",
    "import statsmodels.formula.api as smf\n",
    "from statsmodels.iolib.summary2 import summary_col\n",
    "from linearmodels.iv import IV2SLS\n",
    "import matplotlib.pyplot as plt\n",
    "\n",
    "\n",
    "from tqdm import tqdm\n",
    "from scipy import stats"
   ]
  },
  {
   "cell_type": "markdown",
   "id": "d9f7bfde-3748-49f7-a834-7261f8f47e39",
   "metadata": {
    "tags": []
   },
   "source": [
    "# A/Bテストについての発展的な話題"
   ]
  },
  {
   "cell_type": "markdown",
   "id": "4e2838b6-13e6-4091-b1c6-0a3222b290e8",
   "metadata": {},
   "source": [
    "## A/Aテスト：A/Bテスト設計の妥当性を確認する\n",
    "### A/Bテストは頻繁に「失敗」する"
   ]
  },
  {
   "cell_type": "code",
   "execution_count": 2,
   "id": "cbe4fade-1a09-4360-9b97-9fea0ce791c2",
   "metadata": {},
   "outputs": [
    {
     "data": {
      "text/html": [
       "<div>\n",
       "<style scoped>\n",
       "    .dataframe tbody tr th:only-of-type {\n",
       "        vertical-align: middle;\n",
       "    }\n",
       "\n",
       "    .dataframe tbody tr th {\n",
       "        vertical-align: top;\n",
       "    }\n",
       "\n",
       "    .dataframe thead th {\n",
       "        text-align: right;\n",
       "    }\n",
       "</style>\n",
       "<table border=\"1\" class=\"dataframe\">\n",
       "  <thead>\n",
       "    <tr style=\"text-align: right;\">\n",
       "      <th></th>\n",
       "      <th>uid</th>\n",
       "      <th>is_treatment</th>\n",
       "      <th>is_click</th>\n",
       "    </tr>\n",
       "  </thead>\n",
       "  <tbody>\n",
       "    <tr>\n",
       "      <th>0</th>\n",
       "      <td>0</td>\n",
       "      <td>1</td>\n",
       "      <td>1</td>\n",
       "    </tr>\n",
       "    <tr>\n",
       "      <th>1</th>\n",
       "      <td>0</td>\n",
       "      <td>1</td>\n",
       "      <td>1</td>\n",
       "    </tr>\n",
       "    <tr>\n",
       "      <th>2</th>\n",
       "      <td>0</td>\n",
       "      <td>1</td>\n",
       "      <td>1</td>\n",
       "    </tr>\n",
       "    <tr>\n",
       "      <th>3</th>\n",
       "      <td>0</td>\n",
       "      <td>1</td>\n",
       "      <td>0</td>\n",
       "    </tr>\n",
       "    <tr>\n",
       "      <th>4</th>\n",
       "      <td>0</td>\n",
       "      <td>1</td>\n",
       "      <td>1</td>\n",
       "    </tr>\n",
       "    <tr>\n",
       "      <th>...</th>\n",
       "      <td>...</td>\n",
       "      <td>...</td>\n",
       "      <td>...</td>\n",
       "    </tr>\n",
       "    <tr>\n",
       "      <th>10405</th>\n",
       "      <td>199</td>\n",
       "      <td>0</td>\n",
       "      <td>0</td>\n",
       "    </tr>\n",
       "    <tr>\n",
       "      <th>10406</th>\n",
       "      <td>199</td>\n",
       "      <td>0</td>\n",
       "      <td>0</td>\n",
       "    </tr>\n",
       "    <tr>\n",
       "      <th>10407</th>\n",
       "      <td>199</td>\n",
       "      <td>0</td>\n",
       "      <td>0</td>\n",
       "    </tr>\n",
       "    <tr>\n",
       "      <th>10408</th>\n",
       "      <td>199</td>\n",
       "      <td>0</td>\n",
       "      <td>0</td>\n",
       "    </tr>\n",
       "    <tr>\n",
       "      <th>10409</th>\n",
       "      <td>199</td>\n",
       "      <td>0</td>\n",
       "      <td>1</td>\n",
       "    </tr>\n",
       "  </tbody>\n",
       "</table>\n",
       "<p>10410 rows × 3 columns</p>\n",
       "</div>"
      ],
      "text/plain": [
       "       uid  is_treatment  is_click\n",
       "0        0             1         1\n",
       "1        0             1         1\n",
       "2        0             1         1\n",
       "3        0             1         0\n",
       "4        0             1         1\n",
       "...    ...           ...       ...\n",
       "10405  199             0         0\n",
       "10406  199             0         0\n",
       "10407  199             0         0\n",
       "10408  199             0         0\n",
       "10409  199             0         1\n",
       "\n",
       "[10410 rows x 3 columns]"
      ]
     },
     "execution_count": 2,
     "metadata": {},
     "output_type": "execute_result"
    }
   ],
   "source": [
    "df_cluster_trial= pd.read_csv('../data/ch3_cluster_trial.csv')\n",
    "df_cluster_trial"
   ]
  },
  {
   "cell_type": "code",
   "execution_count": 3,
   "id": "48d0e6e8-de6f-452b-88d1-ab4d2decdad5",
   "metadata": {},
   "outputs": [
    {
     "data": {
      "text/html": [
       "<table class=\"simpletable\">\n",
       "<caption>OLS Regression Results</caption>\n",
       "<tr>\n",
       "  <th>Dep. Variable:</th>        <td>is_click</td>     <th>  R-squared:         </th> <td>   0.009</td> \n",
       "</tr>\n",
       "<tr>\n",
       "  <th>Model:</th>                   <td>OLS</td>       <th>  Adj. R-squared:    </th> <td>   0.009</td> \n",
       "</tr>\n",
       "<tr>\n",
       "  <th>Method:</th>             <td>Least Squares</td>  <th>  F-statistic:       </th> <td>   92.32</td> \n",
       "</tr>\n",
       "<tr>\n",
       "  <th>Date:</th>             <td>Mon, 22 May 2023</td> <th>  Prob (F-statistic):</th> <td>9.06e-22</td> \n",
       "</tr>\n",
       "<tr>\n",
       "  <th>Time:</th>                 <td>22:46:58</td>     <th>  Log-Likelihood:    </th> <td> -7508.9</td> \n",
       "</tr>\n",
       "<tr>\n",
       "  <th>No. Observations:</th>      <td> 10410</td>      <th>  AIC:               </th> <td>1.502e+04</td>\n",
       "</tr>\n",
       "<tr>\n",
       "  <th>Df Residuals:</th>          <td> 10408</td>      <th>  BIC:               </th> <td>1.504e+04</td>\n",
       "</tr>\n",
       "<tr>\n",
       "  <th>Df Model:</th>              <td>     1</td>      <th>                     </th>     <td> </td>    \n",
       "</tr>\n",
       "<tr>\n",
       "  <th>Covariance Type:</th>      <td>nonrobust</td>    <th>                     </th>     <td> </td>    \n",
       "</tr>\n",
       "</table>\n",
       "<table class=\"simpletable\">\n",
       "<tr>\n",
       "        <td></td>          <th>coef</th>     <th>std err</th>      <th>t</th>      <th>P>|t|</th>  <th>[0.025</th>    <th>0.975]</th>  \n",
       "</tr>\n",
       "<tr>\n",
       "  <th>Intercept</th>    <td>    0.4592</td> <td>    0.007</td> <td>   67.130</td> <td> 0.000</td> <td>    0.446</td> <td>    0.473</td>\n",
       "</tr>\n",
       "<tr>\n",
       "  <th>is_treatment</th> <td>    0.0938</td> <td>    0.010</td> <td>    9.609</td> <td> 0.000</td> <td>    0.075</td> <td>    0.113</td>\n",
       "</tr>\n",
       "</table>\n",
       "<table class=\"simpletable\">\n",
       "<tr>\n",
       "  <th>Omnibus:</th>       <td>36547.924</td> <th>  Durbin-Watson:     </th> <td>   1.357</td>\n",
       "</tr>\n",
       "<tr>\n",
       "  <th>Prob(Omnibus):</th>  <td> 0.000</td>   <th>  Jarque-Bera (JB):  </th> <td>1673.995</td>\n",
       "</tr>\n",
       "<tr>\n",
       "  <th>Skew:</th>           <td>-0.021</td>   <th>  Prob(JB):          </th> <td>    0.00</td>\n",
       "</tr>\n",
       "<tr>\n",
       "  <th>Kurtosis:</th>       <td> 1.036</td>   <th>  Cond. No.          </th> <td>    2.60</td>\n",
       "</tr>\n",
       "</table><br/><br/>Notes:<br/>[1] Standard Errors assume that the covariance matrix of the errors is correctly specified."
      ],
      "text/plain": [
       "<class 'statsmodels.iolib.summary.Summary'>\n",
       "\"\"\"\n",
       "                            OLS Regression Results                            \n",
       "==============================================================================\n",
       "Dep. Variable:               is_click   R-squared:                       0.009\n",
       "Model:                            OLS   Adj. R-squared:                  0.009\n",
       "Method:                 Least Squares   F-statistic:                     92.32\n",
       "Date:                Mon, 22 May 2023   Prob (F-statistic):           9.06e-22\n",
       "Time:                        22:46:58   Log-Likelihood:                -7508.9\n",
       "No. Observations:               10410   AIC:                         1.502e+04\n",
       "Df Residuals:                   10408   BIC:                         1.504e+04\n",
       "Df Model:                           1                                         \n",
       "Covariance Type:            nonrobust                                         \n",
       "================================================================================\n",
       "                   coef    std err          t      P>|t|      [0.025      0.975]\n",
       "--------------------------------------------------------------------------------\n",
       "Intercept        0.4592      0.007     67.130      0.000       0.446       0.473\n",
       "is_treatment     0.0938      0.010      9.609      0.000       0.075       0.113\n",
       "==============================================================================\n",
       "Omnibus:                    36547.924   Durbin-Watson:                   1.357\n",
       "Prob(Omnibus):                  0.000   Jarque-Bera (JB):             1673.995\n",
       "Skew:                          -0.021   Prob(JB):                         0.00\n",
       "Kurtosis:                       1.036   Cond. No.                         2.60\n",
       "==============================================================================\n",
       "\n",
       "Notes:\n",
       "[1] Standard Errors assume that the covariance matrix of the errors is correctly specified.\n",
       "\"\"\""
      ]
     },
     "execution_count": 3,
     "metadata": {},
     "output_type": "execute_result"
    }
   ],
   "source": [
    "result = smf.ols(\"is_click ~ is_treatment\", data=df_cluster_trial).fit()\n",
    "result.summary()"
   ]
  },
  {
   "cell_type": "markdown",
   "id": "bda447d8-1fca-4c35-b427-ebea2e9e0407",
   "metadata": {},
   "source": [
    "### A/Aテストをやってみる\n",
    "読み込み"
   ]
  },
  {
   "cell_type": "code",
   "execution_count": 4,
   "id": "478346d1-c7f5-4582-a5b7-2674eb3b06ab",
   "metadata": {},
   "outputs": [
    {
     "data": {
      "text/html": [
       "<div>\n",
       "<style scoped>\n",
       "    .dataframe tbody tr th:only-of-type {\n",
       "        vertical-align: middle;\n",
       "    }\n",
       "\n",
       "    .dataframe tbody tr th {\n",
       "        vertical-align: top;\n",
       "    }\n",
       "\n",
       "    .dataframe thead th {\n",
       "        text-align: right;\n",
       "    }\n",
       "</style>\n",
       "<table border=\"1\" class=\"dataframe\">\n",
       "  <thead>\n",
       "    <tr style=\"text-align: right;\">\n",
       "      <th></th>\n",
       "      <th>uid</th>\n",
       "      <th>is_treatment</th>\n",
       "      <th>is_click</th>\n",
       "    </tr>\n",
       "  </thead>\n",
       "  <tbody>\n",
       "    <tr>\n",
       "      <th>0</th>\n",
       "      <td>0</td>\n",
       "      <td>1</td>\n",
       "      <td>0</td>\n",
       "    </tr>\n",
       "    <tr>\n",
       "      <th>1</th>\n",
       "      <td>1</td>\n",
       "      <td>1</td>\n",
       "      <td>0</td>\n",
       "    </tr>\n",
       "    <tr>\n",
       "      <th>2</th>\n",
       "      <td>2</td>\n",
       "      <td>1</td>\n",
       "      <td>1</td>\n",
       "    </tr>\n",
       "    <tr>\n",
       "      <th>3</th>\n",
       "      <td>3</td>\n",
       "      <td>0</td>\n",
       "      <td>1</td>\n",
       "    </tr>\n",
       "    <tr>\n",
       "      <th>4</th>\n",
       "      <td>4</td>\n",
       "      <td>0</td>\n",
       "      <td>1</td>\n",
       "    </tr>\n",
       "    <tr>\n",
       "      <th>...</th>\n",
       "      <td>...</td>\n",
       "      <td>...</td>\n",
       "      <td>...</td>\n",
       "    </tr>\n",
       "    <tr>\n",
       "      <th>9995</th>\n",
       "      <td>9995</td>\n",
       "      <td>1</td>\n",
       "      <td>1</td>\n",
       "    </tr>\n",
       "    <tr>\n",
       "      <th>9996</th>\n",
       "      <td>9996</td>\n",
       "      <td>1</td>\n",
       "      <td>1</td>\n",
       "    </tr>\n",
       "    <tr>\n",
       "      <th>9997</th>\n",
       "      <td>9997</td>\n",
       "      <td>0</td>\n",
       "      <td>1</td>\n",
       "    </tr>\n",
       "    <tr>\n",
       "      <th>9998</th>\n",
       "      <td>9998</td>\n",
       "      <td>1</td>\n",
       "      <td>0</td>\n",
       "    </tr>\n",
       "    <tr>\n",
       "      <th>9999</th>\n",
       "      <td>9999</td>\n",
       "      <td>1</td>\n",
       "      <td>1</td>\n",
       "    </tr>\n",
       "  </tbody>\n",
       "</table>\n",
       "<p>10000 rows × 3 columns</p>\n",
       "</div>"
      ],
      "text/plain": [
       "       uid  is_treatment  is_click\n",
       "0        0             1         0\n",
       "1        1             1         0\n",
       "2        2             1         1\n",
       "3        3             0         1\n",
       "4        4             0         1\n",
       "...    ...           ...       ...\n",
       "9995  9995             1         1\n",
       "9996  9996             1         1\n",
       "9997  9997             0         1\n",
       "9998  9998             1         0\n",
       "9999  9999             1         1\n",
       "\n",
       "[10000 rows x 3 columns]"
      ]
     },
     "execution_count": 4,
     "metadata": {},
     "output_type": "execute_result"
    }
   ],
   "source": [
    "df_aatest = pd.read_csv('../data/ch3_aatest_trial.csv')\n",
    "df_aatest"
   ]
  },
  {
   "cell_type": "markdown",
   "id": "c22f223b-947a-4bad-8951-2e85fff8e8bc",
   "metadata": {},
   "source": [
    "A/Aテストの分析"
   ]
  },
  {
   "cell_type": "code",
   "execution_count": 5,
   "id": "fddcee69-b035-410a-b008-ab440ee9f3dc",
   "metadata": {},
   "outputs": [
    {
     "data": {
      "text/html": [
       "<table class=\"simpletable\">\n",
       "<tr>\n",
       "        <td></td>          <th>coef</th>     <th>std err</th>      <th>t</th>      <th>P>|t|</th>  <th>[0.025</th>    <th>0.975]</th>  \n",
       "</tr>\n",
       "<tr>\n",
       "  <th>Intercept</th>    <td>    0.4988</td> <td>    0.007</td> <td>   70.327</td> <td> 0.000</td> <td>    0.485</td> <td>    0.513</td>\n",
       "</tr>\n",
       "<tr>\n",
       "  <th>is_treatment</th> <td>    0.0102</td> <td>    0.010</td> <td>    1.015</td> <td> 0.310</td> <td>   -0.009</td> <td>    0.030</td>\n",
       "</tr>\n",
       "</table>"
      ],
      "text/plain": [
       "<class 'statsmodels.iolib.table.SimpleTable'>"
      ]
     },
     "execution_count": 5,
     "metadata": {},
     "output_type": "execute_result"
    }
   ],
   "source": [
    "result = smf.ols(\"is_click ~ is_treatment\", data =df_aatest).fit()\n",
    "result.summary().tables[1]"
   ]
  },
  {
   "cell_type": "markdown",
   "id": "df6430bb-7a76-42c9-b61c-b555e0ab53c2",
   "metadata": {},
   "source": [
    "### 例：A/Aテストのリプレイ(成功ケース)"
   ]
  },
  {
   "cell_type": "code",
   "execution_count": 67,
   "id": "dff7f3ff-e84d-429e-8e4d-714c4cf7ca42",
   "metadata": {},
   "outputs": [
    {
     "name": "stderr",
     "output_type": "stream",
     "text": [
      "100%|█████████████████████████████████████████████████████████████████████████████████████████████████████████████████████████████████████████████████████████████████████████████████████████████████████████████| 300/300 [00:09<00:00, 31.92it/s]\n"
     ]
    }
   ],
   "source": [
    "def assign_treatment_randomly(uid: int, salt: str):\n",
    "    return int(hashlib.sha256(f\"{salt}_{uid}\".encode()).hexdigest(), 16) % 2\n",
    "\n",
    "\n",
    "df_aatest = pd.read_csv('../data/ch3_aatest_trial.csv')\n",
    "rng = np.random.default_rng(seed=0)\n",
    "replays = []\n",
    "for i in tqdm(range(300)):\n",
    "    # 擬似的な割当\n",
    "    salt = f'salt{rng.integers(0, 99999)}'\n",
    "    df_aatest['is_treatment_in_aa'] = df_aatest['uid'].apply(assign_treatment_randomly, salt=salt)\n",
    "    # 擬似的な割当の下での分析\n",
    "    result = smf.ols(\"is_click ~ is_treatment_in_aa\", data=df_aatest).fit()\n",
    "    pvalue = result.pvalues['is_treatment_in_aa']\n",
    "    # 情報の格納\n",
    "    replays.append(pvalue)"
   ]
  },
  {
   "cell_type": "code",
   "execution_count": 68,
   "id": "6abfb07b-bc98-4c57-9a03-44c4b2557355",
   "metadata": {},
   "outputs": [
    {
     "data": {
      "image/png": "[encoded data removed]",
      "text/plain": [
       "<Figure size 360x288 with 1 Axes>"
      ]
     },
     "metadata": {
      "needs_background": "light"
     },
     "output_type": "display_data"
    }
   ],
   "source": [
    "fig, ax = plt.subplots(1, 1, figsize=(5, 4))\n",
    "ax.hist(replays)\n",
    "ax.spines['top'].set_visible(False)\n",
    "ax.spines['right'].set_visible(False)\n",
    "ax.set_facecolor(\"none\")\n",
    "ax.set_xlabel('pvalue')\n",
    "ax.set_title('distribution of pvalue')\n",
    "plt.show()"
   ]
  },
  {
   "cell_type": "code",
   "execution_count": 70,
   "id": "b702f169-9471-4d72-aab7-032b60edae72",
   "metadata": {},
   "outputs": [
    {
     "data": {
      "text/plain": [
       "KstestResult(statistic=0.04413487466257898, pvalue=0.5872365643652379)"
      ]
     },
     "execution_count": 70,
     "metadata": {},
     "output_type": "execute_result"
    }
   ],
   "source": [
    "stats.kstest(replays, 'uniform', args=(0, 1))"
   ]
  },
  {
   "cell_type": "markdown",
   "id": "be2388ca-6db4-4987-88a4-90cf152d3034",
   "metadata": {},
   "source": [
    "## 状況に応じたA/Bテストのモデリング"
   ]
  },
  {
   "cell_type": "markdown",
   "id": "fb7eca9a-1c24-446e-b743-bdc280e100c8",
   "metadata": {},
   "source": [
    "### クラスターA/BテストCluster A/B Test "
   ]
  },
  {
   "cell_type": "markdown",
   "id": "8c247c36-4463-4a0d-9870-73d19af7d2a7",
   "metadata": {},
   "source": [
    "#### クラスターA/BテストデータにおけるA/Aテストのリプレー(失敗ケース)"
   ]
  },
  {
   "cell_type": "code",
   "execution_count": 3,
   "id": "981020b9-47ab-4adf-8dfe-d481650eeef3",
   "metadata": {},
   "outputs": [
    {
     "data": {
      "text/html": [
       "<div>\n",
       "<style scoped>\n",
       "    .dataframe tbody tr th:only-of-type {\n",
       "        vertical-align: middle;\n",
       "    }\n",
       "\n",
       "    .dataframe tbody tr th {\n",
       "        vertical-align: top;\n",
       "    }\n",
       "\n",
       "    .dataframe thead th {\n",
       "        text-align: right;\n",
       "    }\n",
       "</style>\n",
       "<table border=\"1\" class=\"dataframe\">\n",
       "  <thead>\n",
       "    <tr style=\"text-align: right;\">\n",
       "      <th></th>\n",
       "      <th>uid</th>\n",
       "      <th>is_treatment</th>\n",
       "      <th>is_click</th>\n",
       "    </tr>\n",
       "  </thead>\n",
       "  <tbody>\n",
       "    <tr>\n",
       "      <th>0</th>\n",
       "      <td>0</td>\n",
       "      <td>0</td>\n",
       "      <td>1</td>\n",
       "    </tr>\n",
       "    <tr>\n",
       "      <th>1</th>\n",
       "      <td>0</td>\n",
       "      <td>0</td>\n",
       "      <td>0</td>\n",
       "    </tr>\n",
       "    <tr>\n",
       "      <th>2</th>\n",
       "      <td>0</td>\n",
       "      <td>0</td>\n",
       "      <td>0</td>\n",
       "    </tr>\n",
       "    <tr>\n",
       "      <th>3</th>\n",
       "      <td>0</td>\n",
       "      <td>0</td>\n",
       "      <td>0</td>\n",
       "    </tr>\n",
       "    <tr>\n",
       "      <th>4</th>\n",
       "      <td>0</td>\n",
       "      <td>0</td>\n",
       "      <td>0</td>\n",
       "    </tr>\n",
       "    <tr>\n",
       "      <th>...</th>\n",
       "      <td>...</td>\n",
       "      <td>...</td>\n",
       "      <td>...</td>\n",
       "    </tr>\n",
       "    <tr>\n",
       "      <th>10635</th>\n",
       "      <td>199</td>\n",
       "      <td>1</td>\n",
       "      <td>0</td>\n",
       "    </tr>\n",
       "    <tr>\n",
       "      <th>10636</th>\n",
       "      <td>199</td>\n",
       "      <td>1</td>\n",
       "      <td>0</td>\n",
       "    </tr>\n",
       "    <tr>\n",
       "      <th>10637</th>\n",
       "      <td>199</td>\n",
       "      <td>1</td>\n",
       "      <td>1</td>\n",
       "    </tr>\n",
       "    <tr>\n",
       "      <th>10638</th>\n",
       "      <td>199</td>\n",
       "      <td>1</td>\n",
       "      <td>0</td>\n",
       "    </tr>\n",
       "    <tr>\n",
       "      <th>10639</th>\n",
       "      <td>199</td>\n",
       "      <td>1</td>\n",
       "      <td>1</td>\n",
       "    </tr>\n",
       "  </tbody>\n",
       "</table>\n",
       "<p>10640 rows × 3 columns</p>\n",
       "</div>"
      ],
      "text/plain": [
       "       uid  is_treatment  is_click\n",
       "0        0             0         1\n",
       "1        0             0         0\n",
       "2        0             0         0\n",
       "3        0             0         0\n",
       "4        0             0         0\n",
       "...    ...           ...       ...\n",
       "10635  199             1         0\n",
       "10636  199             1         0\n",
       "10637  199             1         1\n",
       "10638  199             1         0\n",
       "10639  199             1         1\n",
       "\n",
       "[10640 rows x 3 columns]"
      ]
     },
     "execution_count": 3,
     "metadata": {},
     "output_type": "execute_result"
    }
   ],
   "source": [
    "df_cluster = pd.read_csv('../data/ch3_cluster_trial.csv')\n",
    "df_cluster"
   ]
  },
  {
   "cell_type": "code",
   "execution_count": 4,
   "id": "357798df-16da-4773-9ff5-4f8e2d911a45",
   "metadata": {},
   "outputs": [
    {
     "name": "stderr",
     "output_type": "stream",
     "text": [
      "100%|███████████████████████████████████████████████████████████████████████████████████████████████████████████████████████████████████████████████████████████████████████████████████████████████████████| 300/300 [00:14<00:00, 20.15it/s]\n"
     ]
    }
   ],
   "source": [
    "def assign_treatment_randomly(uid: int, salt: str):\n",
    "    return int(hashlib.sha256(f\"{salt}_{uid}\".encode()).hexdigest(), 16) % 2\n",
    "\n",
    "\n",
    "rng = np.random.default_rng(seed=0)\n",
    "replays = []\n",
    "for i in tqdm(range(300)):\n",
    "    # 擬似的な割当\n",
    "    salt = f'salt{rng.integers(0, 99999)}'\n",
    "    df_cluster['is_treatment_in_aa'] = df_cluster['uid'].apply(assign_treatment_randomly, salt=salt)\n",
    "    # 擬似的な割当の下での分析\n",
    "    result = smf.ols(\"is_click ~ is_treatment_in_aa\", data=df_cluster).fit()\n",
    "    pvalue = result.pvalues['is_treatment_in_aa']\n",
    "    # 情報の格納\n",
    "    replays.append(pvalue)"
   ]
  },
  {
   "cell_type": "code",
   "execution_count": 5,
   "id": "6158565e-0a5d-4a6e-8de0-c6cf6088b38c",
   "metadata": {},
   "outputs": [
    {
     "data": {
      "image/png": "[encoded data removed]",
      "text/plain": [
       "<Figure size 360x288 with 1 Axes>"
      ]
     },
     "metadata": {
      "needs_background": "light"
     },
     "output_type": "display_data"
    }
   ],
   "source": [
    "fig, ax = plt.subplots(1, 1, figsize=(5, 4))\n",
    "ax.hist(replays)\n",
    "[spin.set_visible(False) for spin in list(ax.spines.values())]\n",
    "ax.spines['bottom'].set_visible(True)\n",
    "ax.spines['left'].set_visible(True)\n",
    "ax.set_facecolor(\"none\")\n",
    "ax.set_xlabel('pvalue')\n",
    "ax.set_title('distribution of pvalue')\n",
    "plt.show()"
   ]
  },
  {
   "cell_type": "code",
   "execution_count": 75,
   "id": "4738caac-3692-4d5e-a203-1bcbd36c96bd",
   "metadata": {},
   "outputs": [
    {
     "data": {
      "text/plain": [
       "KstestResult(statistic=0.5940350827267781, pvalue=1.5923843685272902e-101)"
      ]
     },
     "execution_count": 75,
     "metadata": {},
     "output_type": "execute_result"
    }
   ],
   "source": [
    "stats.kstest(replays, 'uniform', args=(0, 1))"
   ]
  },
  {
   "cell_type": "markdown",
   "id": "0cf9e199-514b-4ed2-b489-56c0af733965",
   "metadata": {},
   "source": [
    "#### クラスターA/Bテストの実装"
   ]
  },
  {
   "cell_type": "markdown",
   "id": "5e74c78a-35e5-4cd8-9cab-d284c2aed42a",
   "metadata": {},
   "source": [
    "- データの読み込み"
   ]
  },
  {
   "cell_type": "code",
   "execution_count": 8,
   "id": "4f9b7c6a-64b6-44e8-93c2-e03ab07f7a9e",
   "metadata": {},
   "outputs": [
    {
     "data": {
      "text/html": [
       "<div>\n",
       "<style scoped>\n",
       "    .dataframe tbody tr th:only-of-type {\n",
       "        vertical-align: middle;\n",
       "    }\n",
       "\n",
       "    .dataframe tbody tr th {\n",
       "        vertical-align: top;\n",
       "    }\n",
       "\n",
       "    .dataframe thead th {\n",
       "        text-align: right;\n",
       "    }\n",
       "</style>\n",
       "<table border=\"1\" class=\"dataframe\">\n",
       "  <thead>\n",
       "    <tr style=\"text-align: right;\">\n",
       "      <th></th>\n",
       "      <th>uid</th>\n",
       "      <th>is_treatment</th>\n",
       "      <th>is_click</th>\n",
       "    </tr>\n",
       "  </thead>\n",
       "  <tbody>\n",
       "    <tr>\n",
       "      <th>0</th>\n",
       "      <td>0</td>\n",
       "      <td>0</td>\n",
       "      <td>1</td>\n",
       "    </tr>\n",
       "    <tr>\n",
       "      <th>1</th>\n",
       "      <td>0</td>\n",
       "      <td>0</td>\n",
       "      <td>0</td>\n",
       "    </tr>\n",
       "    <tr>\n",
       "      <th>2</th>\n",
       "      <td>0</td>\n",
       "      <td>0</td>\n",
       "      <td>0</td>\n",
       "    </tr>\n",
       "    <tr>\n",
       "      <th>3</th>\n",
       "      <td>0</td>\n",
       "      <td>0</td>\n",
       "      <td>0</td>\n",
       "    </tr>\n",
       "    <tr>\n",
       "      <th>4</th>\n",
       "      <td>0</td>\n",
       "      <td>0</td>\n",
       "      <td>0</td>\n",
       "    </tr>\n",
       "    <tr>\n",
       "      <th>...</th>\n",
       "      <td>...</td>\n",
       "      <td>...</td>\n",
       "      <td>...</td>\n",
       "    </tr>\n",
       "    <tr>\n",
       "      <th>10635</th>\n",
       "      <td>199</td>\n",
       "      <td>1</td>\n",
       "      <td>0</td>\n",
       "    </tr>\n",
       "    <tr>\n",
       "      <th>10636</th>\n",
       "      <td>199</td>\n",
       "      <td>1</td>\n",
       "      <td>0</td>\n",
       "    </tr>\n",
       "    <tr>\n",
       "      <th>10637</th>\n",
       "      <td>199</td>\n",
       "      <td>1</td>\n",
       "      <td>1</td>\n",
       "    </tr>\n",
       "    <tr>\n",
       "      <th>10638</th>\n",
       "      <td>199</td>\n",
       "      <td>1</td>\n",
       "      <td>0</td>\n",
       "    </tr>\n",
       "    <tr>\n",
       "      <th>10639</th>\n",
       "      <td>199</td>\n",
       "      <td>1</td>\n",
       "      <td>1</td>\n",
       "    </tr>\n",
       "  </tbody>\n",
       "</table>\n",
       "<p>10640 rows × 3 columns</p>\n",
       "</div>"
      ],
      "text/plain": [
       "       uid  is_treatment  is_click\n",
       "0        0             0         1\n",
       "1        0             0         0\n",
       "2        0             0         0\n",
       "3        0             0         0\n",
       "4        0             0         0\n",
       "...    ...           ...       ...\n",
       "10635  199             1         0\n",
       "10636  199             1         0\n",
       "10637  199             1         1\n",
       "10638  199             1         0\n",
       "10639  199             1         1\n",
       "\n",
       "[10640 rows x 3 columns]"
      ]
     },
     "execution_count": 8,
     "metadata": {},
     "output_type": "execute_result"
    }
   ],
   "source": [
    "# データの読み込み\n",
    "df_cluster_trial= pd.read_csv('../data/ch3_cluster_trial.csv')\n",
    "df_cluster_trial"
   ]
  },
  {
   "cell_type": "markdown",
   "id": "5655e01e-2474-4a5f-897b-82ecf9020af7",
   "metadata": {},
   "source": [
    "- 分散を補正する"
   ]
  },
  {
   "cell_type": "code",
   "execution_count": 9,
   "id": "da967383-69a1-45bc-ad5a-f7e89cb81584",
   "metadata": {},
   "outputs": [
    {
     "data": {
      "text/html": [
       "<table class=\"simpletable\">\n",
       "<caption>OLS Regression Results</caption>\n",
       "<tr>\n",
       "  <th>Dep. Variable:</th>        <td>is_click</td>     <th>  R-squared:         </th> <td>   0.001</td> \n",
       "</tr>\n",
       "<tr>\n",
       "  <th>Model:</th>                   <td>OLS</td>       <th>  Adj. R-squared:    </th> <td>   0.000</td> \n",
       "</tr>\n",
       "<tr>\n",
       "  <th>Method:</th>             <td>Least Squares</td>  <th>  F-statistic:       </th> <td>  0.2906</td> \n",
       "</tr>\n",
       "<tr>\n",
       "  <th>Date:</th>             <td>Sat, 27 May 2023</td> <th>  Prob (F-statistic):</th>  <td> 0.590</td>  \n",
       "</tr>\n",
       "<tr>\n",
       "  <th>Time:</th>                 <td>22:34:02</td>     <th>  Log-Likelihood:    </th> <td> -7718.2</td> \n",
       "</tr>\n",
       "<tr>\n",
       "  <th>No. Observations:</th>      <td> 10640</td>      <th>  AIC:               </th> <td>1.544e+04</td>\n",
       "</tr>\n",
       "<tr>\n",
       "  <th>Df Residuals:</th>          <td> 10638</td>      <th>  BIC:               </th> <td>1.546e+04</td>\n",
       "</tr>\n",
       "<tr>\n",
       "  <th>Df Model:</th>              <td>     1</td>      <th>                     </th>     <td> </td>    \n",
       "</tr>\n",
       "<tr>\n",
       "  <th>Covariance Type:</th>       <td>cluster</td>     <th>                     </th>     <td> </td>    \n",
       "</tr>\n",
       "</table>\n",
       "<table class=\"simpletable\">\n",
       "<tr>\n",
       "        <td></td>          <th>coef</th>     <th>std err</th>      <th>t</th>      <th>P>|t|</th>  <th>[0.025</th>    <th>0.975]</th>  \n",
       "</tr>\n",
       "<tr>\n",
       "  <th>Intercept</th>    <td>    0.5216</td> <td>    0.033</td> <td>   15.632</td> <td> 0.000</td> <td>    0.456</td> <td>    0.587</td>\n",
       "</tr>\n",
       "<tr>\n",
       "  <th>is_treatment</th> <td>   -0.0232</td> <td>    0.043</td> <td>   -0.539</td> <td> 0.590</td> <td>   -0.108</td> <td>    0.062</td>\n",
       "</tr>\n",
       "</table>\n",
       "<table class=\"simpletable\">\n",
       "<tr>\n",
       "  <th>Omnibus:</th>       <td>36644.980</td> <th>  Durbin-Watson:     </th> <td>   1.489</td>\n",
       "</tr>\n",
       "<tr>\n",
       "  <th>Prob(Omnibus):</th>  <td> 0.000</td>   <th>  Jarque-Bera (JB):  </th> <td>1769.607</td>\n",
       "</tr>\n",
       "<tr>\n",
       "  <th>Skew:</th>           <td>-0.032</td>   <th>  Prob(JB):          </th> <td>    0.00</td>\n",
       "</tr>\n",
       "<tr>\n",
       "  <th>Kurtosis:</th>       <td> 1.003</td>   <th>  Cond. No.          </th> <td>    2.86</td>\n",
       "</tr>\n",
       "</table><br/><br/>Notes:<br/>[1] Standard Errors are robust to cluster correlation (cluster)"
      ],
      "text/plain": [
       "<class 'statsmodels.iolib.summary.Summary'>\n",
       "\"\"\"\n",
       "                            OLS Regression Results                            \n",
       "==============================================================================\n",
       "Dep. Variable:               is_click   R-squared:                       0.001\n",
       "Model:                            OLS   Adj. R-squared:                  0.000\n",
       "Method:                 Least Squares   F-statistic:                    0.2906\n",
       "Date:                Sat, 27 May 2023   Prob (F-statistic):              0.590\n",
       "Time:                        22:34:02   Log-Likelihood:                -7718.2\n",
       "No. Observations:               10640   AIC:                         1.544e+04\n",
       "Df Residuals:                   10638   BIC:                         1.546e+04\n",
       "Df Model:                           1                                         \n",
       "Covariance Type:              cluster                                         \n",
       "================================================================================\n",
       "                   coef    std err          t      P>|t|      [0.025      0.975]\n",
       "--------------------------------------------------------------------------------\n",
       "Intercept        0.5216      0.033     15.632      0.000       0.456       0.587\n",
       "is_treatment    -0.0232      0.043     -0.539      0.590      -0.108       0.062\n",
       "==============================================================================\n",
       "Omnibus:                    36644.980   Durbin-Watson:                   1.489\n",
       "Prob(Omnibus):                  0.000   Jarque-Bera (JB):             1769.607\n",
       "Skew:                          -0.032   Prob(JB):                         0.00\n",
       "Kurtosis:                       1.003   Cond. No.                         2.86\n",
       "==============================================================================\n",
       "\n",
       "Notes:\n",
       "[1] Standard Errors are robust to cluster correlation (cluster)\n",
       "\"\"\""
      ]
     },
     "execution_count": 9,
     "metadata": {},
     "output_type": "execute_result"
    }
   ],
   "source": [
    "# 分散を補正して推定\n",
    "result = smf.ols(\"is_click ~ is_treatment\", data=df_cluster).fit()\n",
    "result_correted = result.get_robustcov_results('cluster', groups=df_cluster['uid'])\n",
    "result_correted.summary()"
   ]
  },
  {
   "cell_type": "code",
   "execution_count": null,
   "id": "1b8738f2-50ff-46fd-b766-9f5518a7dd1c",
   "metadata": {},
   "outputs": [],
   "source": []
  },
  {
   "cell_type": "markdown",
   "id": "40dd5017-bf6a-470d-928a-b8689d1c6162",
   "metadata": {},
   "source": [
    "#### クラスターA/BテストデータにおけるA/Aテストのリプレー(成功ケース)"
   ]
  },
  {
   "cell_type": "code",
   "execution_count": 47,
   "id": "e95ae530-aa40-47c1-a968-0099fc1a5a1e",
   "metadata": {},
   "outputs": [
    {
     "name": "stderr",
     "output_type": "stream",
     "text": [
      "100%|███████████████████████████████████████████████████████████████████████████████████████████████████████████████████████████████████████████████████████████████████████████████████████████████████████| 300/300 [00:14<00:00, 20.05it/s]\n"
     ]
    }
   ],
   "source": [
    "def assign_treatment_randomly(uid: int, salt: str):\n",
    "    return int(hashlib.sha256(f\"{salt}_{uid}\".encode()).hexdigest(), 16) % 2\n",
    "\n",
    "\n",
    "rng = np.random.default_rng(seed=0)\n",
    "replays = []\n",
    "for i in tqdm(range(300)):\n",
    "    # 擬似的な割当\n",
    "    salt = f'salt{rng.integers(0, 99999)}'\n",
    "    df_cluster['is_treatment_in_aa'] = df_cluster['uid'].apply(assign_treatment_randomly, salt=salt)\n",
    "    # 擬似的な割当の下での分析\n",
    "    result = smf.ols(\"is_click ~ is_treatment_in_aa\", data=df_cluster).fit()\n",
    "    result_correted = result.get_robustcov_results('cluster', groups=df_cluster['uid'])\n",
    "    pvalue = result_correted.pvalues[result_correted.model.exog_names.index('is_treatment_in_aa')]\n",
    "    # 情報の格納\n",
    "    replays.append(pvalue)"
   ]
  },
  {
   "cell_type": "code",
   "execution_count": 48,
   "id": "0a06f42f-a4ca-432e-b365-a005a520c754",
   "metadata": {},
   "outputs": [
    {
     "data": {
      "image/png": "[encoded data removed]",
      "text/plain": [
       "<Figure size 360x288 with 1 Axes>"
      ]
     },
     "metadata": {
      "needs_background": "light"
     },
     "output_type": "display_data"
    }
   ],
   "source": [
    "fig, ax = plt.subplots(1, 1, figsize=(5, 4))\n",
    "ax.hist(replays)\n",
    "[spin.set_visible(False) for spin in list(ax.spines.values())]\n",
    "ax.spines['bottom'].set_visible(True)\n",
    "ax.spines['left'].set_visible(True)\n",
    "ax.set_facecolor(\"none\")\n",
    "ax.set_xlabel('pvalue')\n",
    "ax.set_title('distribution of pvalue')\n",
    "plt.show()"
   ]
  },
  {
   "cell_type": "code",
   "execution_count": 49,
   "id": "f343d6ea-48be-42fc-ac59-591c0c4afc26",
   "metadata": {},
   "outputs": [
    {
     "data": {
      "text/plain": [
       "KstestResult(statistic=0.05899866564664091, pvalue=0.237770780294283)"
      ]
     },
     "execution_count": 49,
     "metadata": {},
     "output_type": "execute_result"
    }
   ],
   "source": [
    "stats.kstest(replays, 'uniform', args=(0, 1))"
   ]
  },
  {
   "cell_type": "markdown",
   "id": "05778fa1-9fbb-4fd6-b3ad-8d65c5fcebf2",
   "metadata": {},
   "source": [
    "### 層化A/Bテスト Stratified A/B Test"
   ]
  },
  {
   "cell_type": "markdown",
   "id": "9c8cb585-996d-43aa-bdbc-ca2e80056057",
   "metadata": {},
   "source": [
    "#### バランステスト失敗するパターン"
   ]
  },
  {
   "cell_type": "code",
   "execution_count": 14,
   "id": "ee4ac1a5-46c7-435b-881a-55c0c94ae419",
   "metadata": {},
   "outputs": [
    {
     "data": {
      "image/png": "[encoded data removed]",
      "text/plain": [
       "<Figure size 432x288 with 1 Axes>"
      ]
     },
     "metadata": {
      "needs_background": "light"
     },
     "output_type": "display_data"
    }
   ],
   "source": [
    "ratio = [np.random.choice([0, 1], p = [0.5, 0.5], size = 500).mean() for _ in range(100)]\n",
    "plt.hist(ratio)\n",
    "plt.xlabel('ratio of man')\n",
    "plt.ylabel('probablity')\n",
    "plt.show()"
   ]
  },
  {
   "cell_type": "markdown",
   "id": "f41b995a-ceba-41e0-b205-318ca99db489",
   "metadata": {},
   "source": [
    "#### 層化A/Bテストの割当の実装"
   ]
  },
  {
   "cell_type": "code",
   "execution_count": 77,
   "id": "e64be9b9-3a93-4030-a26b-067065d32db2",
   "metadata": {},
   "outputs": [
    {
     "data": {
      "text/html": [
       "<div>\n",
       "<style scoped>\n",
       "    .dataframe tbody tr th:only-of-type {\n",
       "        vertical-align: middle;\n",
       "    }\n",
       "\n",
       "    .dataframe tbody tr th {\n",
       "        vertical-align: top;\n",
       "    }\n",
       "\n",
       "    .dataframe thead th {\n",
       "        text-align: right;\n",
       "    }\n",
       "</style>\n",
       "<table border=\"1\" class=\"dataframe\">\n",
       "  <thead>\n",
       "    <tr style=\"text-align: right;\">\n",
       "      <th></th>\n",
       "      <th>survived</th>\n",
       "      <th>sex</th>\n",
       "      <th>age</th>\n",
       "      <th>pclass</th>\n",
       "    </tr>\n",
       "  </thead>\n",
       "  <tbody>\n",
       "    <tr>\n",
       "      <th>0</th>\n",
       "      <td>0</td>\n",
       "      <td>male</td>\n",
       "      <td>22.0</td>\n",
       "      <td>3</td>\n",
       "    </tr>\n",
       "    <tr>\n",
       "      <th>1</th>\n",
       "      <td>1</td>\n",
       "      <td>female</td>\n",
       "      <td>38.0</td>\n",
       "      <td>1</td>\n",
       "    </tr>\n",
       "    <tr>\n",
       "      <th>2</th>\n",
       "      <td>1</td>\n",
       "      <td>female</td>\n",
       "      <td>26.0</td>\n",
       "      <td>3</td>\n",
       "    </tr>\n",
       "    <tr>\n",
       "      <th>3</th>\n",
       "      <td>1</td>\n",
       "      <td>female</td>\n",
       "      <td>35.0</td>\n",
       "      <td>1</td>\n",
       "    </tr>\n",
       "    <tr>\n",
       "      <th>4</th>\n",
       "      <td>0</td>\n",
       "      <td>male</td>\n",
       "      <td>35.0</td>\n",
       "      <td>3</td>\n",
       "    </tr>\n",
       "    <tr>\n",
       "      <th>...</th>\n",
       "      <td>...</td>\n",
       "      <td>...</td>\n",
       "      <td>...</td>\n",
       "      <td>...</td>\n",
       "    </tr>\n",
       "    <tr>\n",
       "      <th>886</th>\n",
       "      <td>0</td>\n",
       "      <td>male</td>\n",
       "      <td>27.0</td>\n",
       "      <td>2</td>\n",
       "    </tr>\n",
       "    <tr>\n",
       "      <th>887</th>\n",
       "      <td>1</td>\n",
       "      <td>female</td>\n",
       "      <td>19.0</td>\n",
       "      <td>1</td>\n",
       "    </tr>\n",
       "    <tr>\n",
       "      <th>888</th>\n",
       "      <td>0</td>\n",
       "      <td>female</td>\n",
       "      <td>NaN</td>\n",
       "      <td>3</td>\n",
       "    </tr>\n",
       "    <tr>\n",
       "      <th>889</th>\n",
       "      <td>1</td>\n",
       "      <td>male</td>\n",
       "      <td>26.0</td>\n",
       "      <td>1</td>\n",
       "    </tr>\n",
       "    <tr>\n",
       "      <th>890</th>\n",
       "      <td>0</td>\n",
       "      <td>male</td>\n",
       "      <td>32.0</td>\n",
       "      <td>3</td>\n",
       "    </tr>\n",
       "  </tbody>\n",
       "</table>\n",
       "<p>891 rows × 4 columns</p>\n",
       "</div>"
      ],
      "text/plain": [
       "     survived     sex   age  pclass\n",
       "0           0    male  22.0       3\n",
       "1           1  female  38.0       1\n",
       "2           1  female  26.0       3\n",
       "3           1  female  35.0       1\n",
       "4           0    male  35.0       3\n",
       "..        ...     ...   ...     ...\n",
       "886         0    male  27.0       2\n",
       "887         1  female  19.0       1\n",
       "888         0  female   NaN       3\n",
       "889         1    male  26.0       1\n",
       "890         0    male  32.0       3\n",
       "\n",
       "[891 rows x 4 columns]"
      ]
     },
     "execution_count": 77,
     "metadata": {},
     "output_type": "execute_result"
    }
   ],
   "source": [
    "df_titanic = sns.load_dataset('titanic')[['survived', 'sex', 'age', 'pclass']]\n",
    "df_titanic"
   ]
  },
  {
   "cell_type": "code",
   "execution_count": 108,
   "id": "88ab9895-14bd-41bf-bb53-d294042d7612",
   "metadata": {},
   "outputs": [
    {
     "data": {
      "text/plain": [
       "<pandas.core.groupby.generic.DataFrameGroupBy object at 0x1359cd970>"
      ]
     },
     "execution_count": 108,
     "metadata": {},
     "output_type": "execute_result"
    }
   ],
   "source": [
    "df_titanic.groupby(['sex', 'pclass'])"
   ]
  },
  {
   "cell_type": "code",
   "execution_count": 109,
   "id": "3845d610-5ad2-4cc8-ae2a-fa0d3f591959",
   "metadata": {},
   "outputs": [],
   "source": [
    "# グループごとに無作為抽出による割当を行う関数\n",
    "def stratified_assiginment(df_group: pd.DataFrame, ratio_treat: float, rng: np.random.Generator, column_name = 'is_treat',):\n",
    "    num_samples = round(len(df_group) * ratio_treat)\n",
    "    df_group[column_name] = 0\n",
    "    treat_indices = rng.choice(df_group.index, num_samples, replace=False)\n",
    "    df_group.loc[treat_indices, column_name] = 1\n",
    "    return df_group\n",
    "\n",
    "# groupbyメソッドを用いて無作為抽出\n",
    "rng = np.random.default_rng(11)\n",
    "df_titanic_assigned = df_titanic.groupby(['sex', 'pclass']).apply(stratified_assiginment, ratio_treat = 0.3, column_name = 'is_treat', rng = rng)"
   ]
  },
  {
   "cell_type": "code",
   "execution_count": 110,
   "id": "7421cd43-11d1-429b-acbc-cb065bbd4d7f",
   "metadata": {},
   "outputs": [
    {
     "data": {
      "text/html": [
       "<div>\n",
       "<style scoped>\n",
       "    .dataframe tbody tr th:only-of-type {\n",
       "        vertical-align: middle;\n",
       "    }\n",
       "\n",
       "    .dataframe tbody tr th {\n",
       "        vertical-align: top;\n",
       "    }\n",
       "\n",
       "    .dataframe thead th {\n",
       "        text-align: right;\n",
       "    }\n",
       "</style>\n",
       "<table border=\"1\" class=\"dataframe\">\n",
       "  <thead>\n",
       "    <tr style=\"text-align: right;\">\n",
       "      <th></th>\n",
       "      <th>survived</th>\n",
       "      <th>sex</th>\n",
       "      <th>age</th>\n",
       "      <th>pclass</th>\n",
       "      <th>is_treat</th>\n",
       "    </tr>\n",
       "  </thead>\n",
       "  <tbody>\n",
       "    <tr>\n",
       "      <th>0</th>\n",
       "      <td>0</td>\n",
       "      <td>male</td>\n",
       "      <td>22.0</td>\n",
       "      <td>3</td>\n",
       "      <td>0</td>\n",
       "    </tr>\n",
       "    <tr>\n",
       "      <th>1</th>\n",
       "      <td>1</td>\n",
       "      <td>female</td>\n",
       "      <td>38.0</td>\n",
       "      <td>1</td>\n",
       "      <td>0</td>\n",
       "    </tr>\n",
       "    <tr>\n",
       "      <th>2</th>\n",
       "      <td>1</td>\n",
       "      <td>female</td>\n",
       "      <td>26.0</td>\n",
       "      <td>3</td>\n",
       "      <td>1</td>\n",
       "    </tr>\n",
       "    <tr>\n",
       "      <th>3</th>\n",
       "      <td>1</td>\n",
       "      <td>female</td>\n",
       "      <td>35.0</td>\n",
       "      <td>1</td>\n",
       "      <td>0</td>\n",
       "    </tr>\n",
       "    <tr>\n",
       "      <th>4</th>\n",
       "      <td>0</td>\n",
       "      <td>male</td>\n",
       "      <td>35.0</td>\n",
       "      <td>3</td>\n",
       "      <td>0</td>\n",
       "    </tr>\n",
       "    <tr>\n",
       "      <th>...</th>\n",
       "      <td>...</td>\n",
       "      <td>...</td>\n",
       "      <td>...</td>\n",
       "      <td>...</td>\n",
       "      <td>...</td>\n",
       "    </tr>\n",
       "    <tr>\n",
       "      <th>886</th>\n",
       "      <td>0</td>\n",
       "      <td>male</td>\n",
       "      <td>27.0</td>\n",
       "      <td>2</td>\n",
       "      <td>1</td>\n",
       "    </tr>\n",
       "    <tr>\n",
       "      <th>887</th>\n",
       "      <td>1</td>\n",
       "      <td>female</td>\n",
       "      <td>19.0</td>\n",
       "      <td>1</td>\n",
       "      <td>0</td>\n",
       "    </tr>\n",
       "    <tr>\n",
       "      <th>888</th>\n",
       "      <td>0</td>\n",
       "      <td>female</td>\n",
       "      <td>NaN</td>\n",
       "      <td>3</td>\n",
       "      <td>0</td>\n",
       "    </tr>\n",
       "    <tr>\n",
       "      <th>889</th>\n",
       "      <td>1</td>\n",
       "      <td>male</td>\n",
       "      <td>26.0</td>\n",
       "      <td>1</td>\n",
       "      <td>0</td>\n",
       "    </tr>\n",
       "    <tr>\n",
       "      <th>890</th>\n",
       "      <td>0</td>\n",
       "      <td>male</td>\n",
       "      <td>32.0</td>\n",
       "      <td>3</td>\n",
       "      <td>0</td>\n",
       "    </tr>\n",
       "  </tbody>\n",
       "</table>\n",
       "<p>891 rows × 5 columns</p>\n",
       "</div>"
      ],
      "text/plain": [
       "     survived     sex   age  pclass  is_treat\n",
       "0           0    male  22.0       3         0\n",
       "1           1  female  38.0       1         0\n",
       "2           1  female  26.0       3         1\n",
       "3           1  female  35.0       1         0\n",
       "4           0    male  35.0       3         0\n",
       "..        ...     ...   ...     ...       ...\n",
       "886         0    male  27.0       2         1\n",
       "887         1  female  19.0       1         0\n",
       "888         0  female   NaN       3         0\n",
       "889         1    male  26.0       1         0\n",
       "890         0    male  32.0       3         0\n",
       "\n",
       "[891 rows x 5 columns]"
      ]
     },
     "execution_count": 110,
     "metadata": {},
     "output_type": "execute_result"
    }
   ],
   "source": [
    "df_titanic_assigned"
   ]
  },
  {
   "cell_type": "code",
   "execution_count": 111,
   "id": "50f14069-7522-487d-80e3-539cc9a72675",
   "metadata": {},
   "outputs": [
    {
     "data": {
      "text/plain": [
       "sex     pclass\n",
       "female  1         0.297872\n",
       "        2         0.302632\n",
       "        3         0.298611\n",
       "male    1         0.303279\n",
       "        2         0.296296\n",
       "        3         0.299712\n",
       "Name: is_treat, dtype: float64"
      ]
     },
     "execution_count": 111,
     "metadata": {},
     "output_type": "execute_result"
    }
   ],
   "source": [
    "df_titanic_assigned.groupby(['sex', 'pclass'])['is_treat'].mean()"
   ]
  },
  {
   "cell_type": "markdown",
   "id": "4a8da8bf-da6d-4b07-a6a4-640fa002e57e",
   "metadata": {},
   "source": [
    "#### 層化A/Bテストの分析の実装\n",
    "\n",
    "- データの読み込み"
   ]
  },
  {
   "cell_type": "code",
   "execution_count": 2,
   "id": "e66bb7d7-5526-4556-9fe0-d2f34763c72c",
   "metadata": {},
   "outputs": [
    {
     "data": {
      "text/html": [
       "<div>\n",
       "<style scoped>\n",
       "    .dataframe tbody tr th:only-of-type {\n",
       "        vertical-align: middle;\n",
       "    }\n",
       "\n",
       "    .dataframe tbody tr th {\n",
       "        vertical-align: top;\n",
       "    }\n",
       "\n",
       "    .dataframe thead th {\n",
       "        text-align: right;\n",
       "    }\n",
       "</style>\n",
       "<table border=\"1\" class=\"dataframe\">\n",
       "  <thead>\n",
       "    <tr style=\"text-align: right;\">\n",
       "      <th></th>\n",
       "      <th>is_treatment</th>\n",
       "      <th>group_name</th>\n",
       "      <th>y</th>\n",
       "    </tr>\n",
       "  </thead>\n",
       "  <tbody>\n",
       "    <tr>\n",
       "      <th>0</th>\n",
       "      <td>1</td>\n",
       "      <td>0</td>\n",
       "      <td>-5.166615</td>\n",
       "    </tr>\n",
       "    <tr>\n",
       "      <th>1</th>\n",
       "      <td>0</td>\n",
       "      <td>0</td>\n",
       "      <td>-6.641471</td>\n",
       "    </tr>\n",
       "    <tr>\n",
       "      <th>2</th>\n",
       "      <td>1</td>\n",
       "      <td>0</td>\n",
       "      <td>-2.885075</td>\n",
       "    </tr>\n",
       "    <tr>\n",
       "      <th>3</th>\n",
       "      <td>1</td>\n",
       "      <td>0</td>\n",
       "      <td>-4.307144</td>\n",
       "    </tr>\n",
       "    <tr>\n",
       "      <th>4</th>\n",
       "      <td>0</td>\n",
       "      <td>0</td>\n",
       "      <td>-4.115966</td>\n",
       "    </tr>\n",
       "    <tr>\n",
       "      <th>...</th>\n",
       "      <td>...</td>\n",
       "      <td>...</td>\n",
       "      <td>...</td>\n",
       "    </tr>\n",
       "    <tr>\n",
       "      <th>99</th>\n",
       "      <td>0</td>\n",
       "      <td>1</td>\n",
       "      <td>5.129373</td>\n",
       "    </tr>\n",
       "    <tr>\n",
       "      <th>100</th>\n",
       "      <td>1</td>\n",
       "      <td>1</td>\n",
       "      <td>5.164918</td>\n",
       "    </tr>\n",
       "    <tr>\n",
       "      <th>101</th>\n",
       "      <td>1</td>\n",
       "      <td>1</td>\n",
       "      <td>4.022947</td>\n",
       "    </tr>\n",
       "    <tr>\n",
       "      <th>102</th>\n",
       "      <td>0</td>\n",
       "      <td>1</td>\n",
       "      <td>5.027952</td>\n",
       "    </tr>\n",
       "    <tr>\n",
       "      <th>103</th>\n",
       "      <td>1</td>\n",
       "      <td>1</td>\n",
       "      <td>4.852770</td>\n",
       "    </tr>\n",
       "  </tbody>\n",
       "</table>\n",
       "<p>104 rows × 3 columns</p>\n",
       "</div>"
      ],
      "text/plain": [
       "     is_treatment  group_name         y\n",
       "0               1           0 -5.166615\n",
       "1               0           0 -6.641471\n",
       "2               1           0 -2.885075\n",
       "3               1           0 -4.307144\n",
       "4               0           0 -4.115966\n",
       "..            ...         ...       ...\n",
       "99              0           1  5.129373\n",
       "100             1           1  5.164918\n",
       "101             1           1  4.022947\n",
       "102             0           1  5.027952\n",
       "103             1           1  4.852770\n",
       "\n",
       "[104 rows x 3 columns]"
      ]
     },
     "execution_count": 2,
     "metadata": {},
     "output_type": "execute_result"
    }
   ],
   "source": [
    "df_stratified = pd.read_csv('../data/ch3_stratified_trial.csv')\n",
    "df_stratified"
   ]
  },
  {
   "cell_type": "markdown",
   "id": "ab72418b-026a-4e66-9ddf-81f152b4a3b6",
   "metadata": {},
   "source": [
    "- グループごとの平均的なアウトカム"
   ]
  },
  {
   "cell_type": "code",
   "execution_count": 3,
   "id": "ae65f1e8-7119-434a-86e1-50063370fd70",
   "metadata": {},
   "outputs": [
    {
     "data": {
      "text/html": [
       "<div>\n",
       "<style scoped>\n",
       "    .dataframe tbody tr th:only-of-type {\n",
       "        vertical-align: middle;\n",
       "    }\n",
       "\n",
       "    .dataframe tbody tr th {\n",
       "        vertical-align: top;\n",
       "    }\n",
       "\n",
       "    .dataframe thead th {\n",
       "        text-align: right;\n",
       "    }\n",
       "</style>\n",
       "<table border=\"1\" class=\"dataframe\">\n",
       "  <thead>\n",
       "    <tr style=\"text-align: right;\">\n",
       "      <th></th>\n",
       "      <th></th>\n",
       "      <th>y</th>\n",
       "    </tr>\n",
       "    <tr>\n",
       "      <th>group_name</th>\n",
       "      <th>is_treatment</th>\n",
       "      <th></th>\n",
       "    </tr>\n",
       "  </thead>\n",
       "  <tbody>\n",
       "    <tr>\n",
       "      <th rowspan=\"2\" valign=\"top\">0</th>\n",
       "      <th>0</th>\n",
       "      <td>-5.486896</td>\n",
       "    </tr>\n",
       "    <tr>\n",
       "      <th>1</th>\n",
       "      <td>-4.577039</td>\n",
       "    </tr>\n",
       "    <tr>\n",
       "      <th rowspan=\"2\" valign=\"top\">1</th>\n",
       "      <th>0</th>\n",
       "      <td>4.242082</td>\n",
       "    </tr>\n",
       "    <tr>\n",
       "      <th>1</th>\n",
       "      <td>4.288309</td>\n",
       "    </tr>\n",
       "  </tbody>\n",
       "</table>\n",
       "</div>"
      ],
      "text/plain": [
       "                                y\n",
       "group_name is_treatment          \n",
       "0          0            -5.486896\n",
       "           1            -4.577039\n",
       "1          0             4.242082\n",
       "           1             4.288309"
      ]
     },
     "execution_count": 3,
     "metadata": {},
     "output_type": "execute_result"
    }
   ],
   "source": [
    "df_stratified.groupby(['group_name', 'is_treatment']).mean()"
   ]
  },
  {
   "cell_type": "markdown",
   "id": "4f33f3e1-1e08-4c6a-8c14-75107e069e14",
   "metadata": {},
   "source": [
    "- 通常の回帰分析"
   ]
  },
  {
   "cell_type": "code",
   "execution_count": 8,
   "id": "c9bd39f9-b5e4-447d-ac83-5ebca708290d",
   "metadata": {},
   "outputs": [
    {
     "data": {
      "text/html": [
       "<table class=\"simpletable\">\n",
       "<tr>\n",
       "        <td></td>          <th>coef</th>     <th>std err</th>      <th>t</th>      <th>P>|t|</th>  <th>[0.025</th>    <th>0.975]</th>  \n",
       "</tr>\n",
       "<tr>\n",
       "  <th>Intercept</th>    <td>   -1.6942</td> <td>    0.601</td> <td>   -2.817</td> <td> 0.006</td> <td>   -2.887</td> <td>   -0.501</td>\n",
       "</tr>\n",
       "<tr>\n",
       "  <th>is_treatment</th> <td>   -0.1247</td> <td>    0.914</td> <td>   -0.136</td> <td> 0.892</td> <td>   -1.938</td> <td>    1.689</td>\n",
       "</tr>\n",
       "</table>"
      ],
      "text/plain": [
       "<class 'statsmodels.iolib.table.SimpleTable'>"
      ]
     },
     "execution_count": 8,
     "metadata": {},
     "output_type": "execute_result"
    }
   ],
   "source": [
    "result = smf.ols(\"y ~ is_treatment\", data=df_stratified).fit()\n",
    "result.summary().tables[1]"
   ]
  },
  {
   "cell_type": "markdown",
   "id": "6caf6396-ef9b-484e-9e29-0071e8f109c7",
   "metadata": {},
   "source": [
    "- グループダミーを追加する"
   ]
  },
  {
   "cell_type": "code",
   "execution_count": 10,
   "id": "52ee7418-aa7e-4072-88ea-2c48a8db0e10",
   "metadata": {},
   "outputs": [
    {
     "data": {
      "text/html": [
       "<table class=\"simpletable\">\n",
       "<tr>\n",
       "           <td></td>             <th>coef</th>     <th>std err</th>      <th>t</th>      <th>P>|t|</th>  <th>[0.025</th>    <th>0.975]</th>  \n",
       "</tr>\n",
       "<tr>\n",
       "  <th>Intercept</th>          <td>   -5.3498</td> <td>    0.148</td> <td>  -36.252</td> <td> 0.000</td> <td>   -5.643</td> <td>   -5.057</td>\n",
       "</tr>\n",
       "<tr>\n",
       "  <th>C(group_name)[T.1]</th> <td>    9.3772</td> <td>    0.198</td> <td>   47.266</td> <td> 0.000</td> <td>    8.984</td> <td>    9.771</td>\n",
       "</tr>\n",
       "<tr>\n",
       "  <th>is_treatment</th>       <td>    0.6135</td> <td>    0.192</td> <td>    3.200</td> <td> 0.002</td> <td>    0.233</td> <td>    0.994</td>\n",
       "</tr>\n",
       "</table>"
      ],
      "text/plain": [
       "<class 'statsmodels.iolib.table.SimpleTable'>"
      ]
     },
     "execution_count": 10,
     "metadata": {},
     "output_type": "execute_result"
    }
   ],
   "source": [
    "result = smf.ols(\"y ~ is_treatment + C(group_name)\", data=df_stratified).fit()\n",
    "result.summary().tables[1]\n"
   ]
  },
  {
   "cell_type": "code",
   "execution_count": null,
   "id": "fe2418a1-b4d7-4bbc-9424-a2148222df75",
   "metadata": {},
   "outputs": [],
   "source": []
  },
  {
   "cell_type": "markdown",
   "id": "2b49a158-ae52-438f-9f6c-739385080956",
   "metadata": {},
   "source": [
    "## 処置と割当の不一致 A/B テストにおける Non-compliance"
   ]
  },
  {
   "cell_type": "markdown",
   "id": "6868c5b6-af42-4a8e-b70c-1bdce44c01e7",
   "metadata": {},
   "source": [
    "- データのimport"
   ]
  },
  {
   "cell_type": "code",
   "execution_count": 95,
   "id": "7cbf28c7-6366-4c24-9342-d5fd8e3a2464",
   "metadata": {},
   "outputs": [
    {
     "data": {
      "text/html": [
       "<div>\n",
       "<style scoped>\n",
       "    .dataframe tbody tr th:only-of-type {\n",
       "        vertical-align: middle;\n",
       "    }\n",
       "\n",
       "    .dataframe tbody tr th {\n",
       "        vertical-align: top;\n",
       "    }\n",
       "\n",
       "    .dataframe thead th {\n",
       "        text-align: right;\n",
       "    }\n",
       "</style>\n",
       "<table border=\"1\" class=\"dataframe\">\n",
       "  <thead>\n",
       "    <tr style=\"text-align: right;\">\n",
       "      <th></th>\n",
       "      <th>assignment</th>\n",
       "      <th>x</th>\n",
       "      <th>is_deliver</th>\n",
       "      <th>purchase</th>\n",
       "    </tr>\n",
       "  </thead>\n",
       "  <tbody>\n",
       "    <tr>\n",
       "      <th>0</th>\n",
       "      <td>1.0</td>\n",
       "      <td>0.143069</td>\n",
       "      <td>1.0</td>\n",
       "      <td>12272.717011</td>\n",
       "    </tr>\n",
       "    <tr>\n",
       "      <th>1</th>\n",
       "      <td>1.0</td>\n",
       "      <td>0.019232</td>\n",
       "      <td>1.0</td>\n",
       "      <td>11289.104060</td>\n",
       "    </tr>\n",
       "    <tr>\n",
       "      <th>2</th>\n",
       "      <td>1.0</td>\n",
       "      <td>0.006487</td>\n",
       "      <td>1.0</td>\n",
       "      <td>9130.497979</td>\n",
       "    </tr>\n",
       "    <tr>\n",
       "      <th>3</th>\n",
       "      <td>0.0</td>\n",
       "      <td>0.129664</td>\n",
       "      <td>0.0</td>\n",
       "      <td>10276.942082</td>\n",
       "    </tr>\n",
       "    <tr>\n",
       "      <th>4</th>\n",
       "      <td>0.0</td>\n",
       "      <td>0.000423</td>\n",
       "      <td>0.0</td>\n",
       "      <td>10131.093488</td>\n",
       "    </tr>\n",
       "    <tr>\n",
       "      <th>...</th>\n",
       "      <td>...</td>\n",
       "      <td>...</td>\n",
       "      <td>...</td>\n",
       "      <td>...</td>\n",
       "    </tr>\n",
       "    <tr>\n",
       "      <th>995</th>\n",
       "      <td>1.0</td>\n",
       "      <td>-0.114975</td>\n",
       "      <td>0.0</td>\n",
       "      <td>9613.864469</td>\n",
       "    </tr>\n",
       "    <tr>\n",
       "      <th>996</th>\n",
       "      <td>0.0</td>\n",
       "      <td>0.066775</td>\n",
       "      <td>0.0</td>\n",
       "      <td>11455.559740</td>\n",
       "    </tr>\n",
       "    <tr>\n",
       "      <th>997</th>\n",
       "      <td>0.0</td>\n",
       "      <td>0.083205</td>\n",
       "      <td>0.0</td>\n",
       "      <td>10423.608120</td>\n",
       "    </tr>\n",
       "    <tr>\n",
       "      <th>998</th>\n",
       "      <td>0.0</td>\n",
       "      <td>0.160481</td>\n",
       "      <td>0.0</td>\n",
       "      <td>11903.856890</td>\n",
       "    </tr>\n",
       "    <tr>\n",
       "      <th>999</th>\n",
       "      <td>1.0</td>\n",
       "      <td>0.033251</td>\n",
       "      <td>1.0</td>\n",
       "      <td>10994.224875</td>\n",
       "    </tr>\n",
       "  </tbody>\n",
       "</table>\n",
       "<p>1000 rows × 4 columns</p>\n",
       "</div>"
      ],
      "text/plain": [
       "     assignment         x  is_deliver      purchase\n",
       "0           1.0  0.143069         1.0  12272.717011\n",
       "1           1.0  0.019232         1.0  11289.104060\n",
       "2           1.0  0.006487         1.0   9130.497979\n",
       "3           0.0  0.129664         0.0  10276.942082\n",
       "4           0.0  0.000423         0.0  10131.093488\n",
       "..          ...       ...         ...           ...\n",
       "995         1.0 -0.114975         0.0   9613.864469\n",
       "996         0.0  0.066775         0.0  11455.559740\n",
       "997         0.0  0.083205         0.0  10423.608120\n",
       "998         0.0  0.160481         0.0  11903.856890\n",
       "999         1.0  0.033251         1.0  10994.224875\n",
       "\n",
       "[1000 rows x 4 columns]"
      ]
     },
     "execution_count": 95,
     "metadata": {},
     "output_type": "execute_result"
    }
   ],
   "source": [
    "# データの読み込み\n",
    "df_noncompliance= pd.read_csv('../data/ch3_noncompliance_abtest.csv')\n",
    "df_noncompliance"
   ]
  },
  {
   "cell_type": "markdown",
   "id": "80fc495d-91b1-4a5a-a8fc-776406edde95",
   "metadata": {},
   "source": [
    "#### Intent to treatな分析"
   ]
  },
  {
   "cell_type": "code",
   "execution_count": 100,
   "id": "06cc3690-5fc7-4e4b-9702-8e4c2ba27aa0",
   "metadata": {},
   "outputs": [
    {
     "data": {
      "text/html": [
       "<table class=\"simpletable\">\n",
       "<tr>\n",
       "       <td></td>         <th>coef</th>     <th>std err</th>      <th>t</th>      <th>P>|t|</th>  <th>[0.025</th>    <th>0.975]</th>  \n",
       "</tr>\n",
       "<tr>\n",
       "  <th>Intercept</th>  <td> 9996.7694</td> <td>   63.888</td> <td>  156.474</td> <td> 0.000</td> <td> 9871.400</td> <td> 1.01e+04</td>\n",
       "</tr>\n",
       "<tr>\n",
       "  <th>assignment</th> <td>  185.8228</td> <td>   87.183</td> <td>    2.131</td> <td> 0.033</td> <td>   14.740</td> <td>  356.905</td>\n",
       "</tr>\n",
       "</table>"
      ],
      "text/plain": [
       "<class 'statsmodels.iolib.table.SimpleTable'>"
      ]
     },
     "execution_count": 100,
     "metadata": {},
     "output_type": "execute_result"
    }
   ],
   "source": [
    "# intent to treatの分析\n",
    "result = smf.ols(\"purchase ~ assignment\", data=df_noncompliance).fit()\n",
    "result.summary().tables[1]"
   ]
  },
  {
   "cell_type": "code",
   "execution_count": 97,
   "id": "da99c6c8-b74a-4677-945d-f3941afffe81",
   "metadata": {},
   "outputs": [
    {
     "data": {
      "text/plain": [
       "assignment\n",
       "0.0    0.000000\n",
       "1.0    0.487896\n",
       "Name: is_deliver, dtype: float64"
      ]
     },
     "execution_count": 97,
     "metadata": {},
     "output_type": "execute_result"
    }
   ],
   "source": [
    "df_noncompliance.groupby('assignment')['is_deliver'].mean()"
   ]
  },
  {
   "cell_type": "markdown",
   "id": "eeea6bf7-3e7b-458e-abdd-c492cf3e27e3",
   "metadata": {},
   "source": [
    "####  LATEの導出によるnon-complianceへの対処"
   ]
  },
  {
   "cell_type": "code",
   "execution_count": null,
   "id": "130606f5-16be-4dda-93fc-1991b9c6c6bc",
   "metadata": {},
   "outputs": [],
   "source": []
  },
  {
   "cell_type": "code",
   "execution_count": 98,
   "id": "cdc7816c-3934-4177-8646-9cbc243c99a0",
   "metadata": {},
   "outputs": [
    {
     "data": {
      "text/html": [
       "<table class=\"simpletable\">\n",
       "<caption>Parameter Estimates</caption>\n",
       "<tr>\n",
       "       <td></td>      <th>Parameter</th> <th>Std. Err.</th> <th>T-stat</th> <th>P-value</th> <th>Lower CI</th> <th>Upper CI</th> \n",
       "</tr>\n",
       "<tr>\n",
       "  <th>Intercept</th>   <td>9997.8</td>    <td>43.469</td>   <td>230.00</td> <td>0.0000</td>   <td>9912.6</td>  <td>1.008e+04</td>\n",
       "</tr>\n",
       "<tr>\n",
       "  <th>x</th>           <td>9527.1</td>    <td>306.24</td>   <td>31.110</td> <td>0.0000</td>   <td>8926.9</td>  <td>1.013e+04</td>\n",
       "</tr>\n",
       "<tr>\n",
       "  <th>is_deliver</th>  <td>583.91</td>    <td>124.77</td>   <td>4.6799</td> <td>0.0000</td>   <td>339.37</td>   <td>828.46</td>  \n",
       "</tr>\n",
       "</table>"
      ],
      "text/plain": [
       "<class 'statsmodels.iolib.table.SimpleTable'>"
      ]
     },
     "execution_count": 98,
     "metadata": {},
     "output_type": "execute_result"
    }
   ],
   "source": [
    "iv = IV2SLS.from_formula(\"purchase ~ 1 + [is_deliver ~ assignment] + x\", df_noncompliance).fit()\n",
    "iv.summary.tables[1]"
   ]
  },
  {
   "cell_type": "markdown",
   "id": "5c1db715-2c10-4616-9c0b-abfcfe4c6a1c",
   "metadata": {},
   "source": [
    "- first stage確認"
   ]
  },
  {
   "cell_type": "code",
   "execution_count": 99,
   "id": "be3495bd-b845-4a40-9f8f-2590bfcbcde2",
   "metadata": {},
   "outputs": [
    {
     "data": {
      "text/html": [
       "<table class=\"simpletable\">\n",
       "<caption>First Stage Estimation Results</caption>\n",
       "<tr>\n",
       "               <td></td>              <th>is_deliver</th> \n",
       "</tr>\n",
       "<tr>\n",
       "  <th>R-squared</th>                    <td>0.3129</td>   \n",
       "</tr>\n",
       "<tr>\n",
       "  <th>Partial R-squared</th>            <td>0.3109</td>   \n",
       "</tr>\n",
       "<tr>\n",
       "  <th>Shea's R-squared</th>             <td>0.3109</td>   \n",
       "</tr>\n",
       "<tr>\n",
       "  <th>Partial F-statistic</th>          <td>521.27</td>   \n",
       "</tr>\n",
       "<tr>\n",
       "  <th>P-value (Partial F-stat)</th>     <td>0.0000</td>   \n",
       "</tr>\n",
       "<tr>\n",
       "  <th>Partial F-stat Distn</th>         <td>chi2(1)</td>  \n",
       "</tr>\n",
       "<tr>\n",
       "  <th>==========================</th> <td>===========</td>\n",
       "</tr>\n",
       "<tr>\n",
       "  <th>Intercept</th>                   <td>4.106e-05</td> \n",
       "</tr>\n",
       "<tr>\n",
       "  <th></th>                            <td>(0.0244)</td>  \n",
       "</tr>\n",
       "<tr>\n",
       "  <th>x</th>                            <td>0.3684</td>   \n",
       "</tr>\n",
       "<tr>\n",
       "  <th></th>                            <td>(3.1824)</td>  \n",
       "</tr>\n",
       "<tr>\n",
       "  <th>assignment</th>                   <td>0.4917</td>   \n",
       "</tr>\n",
       "<tr>\n",
       "  <th></th>                            <td>(22.831)</td>  \n",
       "</tr>\n",
       "</table><br/><br/>T-stats reported in parentheses<br/>T-stats use same covariance type as original model<br/>id: 0x138cc4940"
      ],
      "text/plain": [
       "    First Stage Estimation Results    \n",
       "======================================\n",
       "                            is_deliver\n",
       "--------------------------------------\n",
       "R-squared                       0.3129\n",
       "Partial R-squared               0.3109\n",
       "Shea's R-squared                0.3109\n",
       "Partial F-statistic             521.27\n",
       "P-value (Partial F-stat)        0.0000\n",
       "Partial F-stat Distn           chi2(1)\n",
       "========================== ===========\n",
       "Intercept                    4.106e-05\n",
       "                              (0.0244)\n",
       "x                               0.3684\n",
       "                              (3.1824)\n",
       "assignment                      0.4917\n",
       "                              (22.831)\n",
       "--------------------------------------\n",
       "\n",
       "T-stats reported in parentheses\n",
       "T-stats use same covariance type as original model\n",
       "FirstStageResults, id: 0x138cc4940"
      ]
     },
     "execution_count": 99,
     "metadata": {},
     "output_type": "execute_result"
    }
   ],
   "source": [
    "iv.first_stage"
   ]
  },
  {
   "cell_type": "markdown",
   "id": "cee6b97e-0654-4ee7-8d9b-e83537c4cd48",
   "metadata": {},
   "source": [
    "# 共変量を入れて分析をする"
   ]
  },
  {
   "cell_type": "code",
   "execution_count": 127,
   "id": "ec06f40e-4c4d-4130-87f6-c68af35ffd2e",
   "metadata": {},
   "outputs": [
    {
     "data": {
      "text/html": [
       "<div>\n",
       "<style scoped>\n",
       "    .dataframe tbody tr th:only-of-type {\n",
       "        vertical-align: middle;\n",
       "    }\n",
       "\n",
       "    .dataframe tbody tr th {\n",
       "        vertical-align: top;\n",
       "    }\n",
       "\n",
       "    .dataframe thead th {\n",
       "        text-align: right;\n",
       "    }\n",
       "</style>\n",
       "<table border=\"1\" class=\"dataframe\">\n",
       "  <thead>\n",
       "    <tr style=\"text-align: right;\">\n",
       "      <th></th>\n",
       "      <th>is_treatment</th>\n",
       "      <th>response_att</th>\n",
       "      <th>food_share_15d</th>\n",
       "      <th>age</th>\n",
       "      <th>is_women</th>\n",
       "    </tr>\n",
       "  </thead>\n",
       "  <tbody>\n",
       "    <tr>\n",
       "      <th>0</th>\n",
       "      <td>1</td>\n",
       "      <td>0</td>\n",
       "      <td>0.0000</td>\n",
       "      <td>33.0</td>\n",
       "      <td>1</td>\n",
       "    </tr>\n",
       "    <tr>\n",
       "      <th>1</th>\n",
       "      <td>0</td>\n",
       "      <td>0</td>\n",
       "      <td>0.0000</td>\n",
       "      <td>63.0</td>\n",
       "      <td>1</td>\n",
       "    </tr>\n",
       "    <tr>\n",
       "      <th>2</th>\n",
       "      <td>1</td>\n",
       "      <td>0</td>\n",
       "      <td>0.0000</td>\n",
       "      <td>51.0</td>\n",
       "      <td>1</td>\n",
       "    </tr>\n",
       "    <tr>\n",
       "      <th>3</th>\n",
       "      <td>0</td>\n",
       "      <td>0</td>\n",
       "      <td>0.0000</td>\n",
       "      <td>38.0</td>\n",
       "      <td>1</td>\n",
       "    </tr>\n",
       "    <tr>\n",
       "      <th>4</th>\n",
       "      <td>1</td>\n",
       "      <td>0</td>\n",
       "      <td>0.5105</td>\n",
       "      <td>20.0</td>\n",
       "      <td>1</td>\n",
       "    </tr>\n",
       "    <tr>\n",
       "      <th>...</th>\n",
       "      <td>...</td>\n",
       "      <td>...</td>\n",
       "      <td>...</td>\n",
       "      <td>...</td>\n",
       "      <td>...</td>\n",
       "    </tr>\n",
       "    <tr>\n",
       "      <th>49995</th>\n",
       "      <td>1</td>\n",
       "      <td>0</td>\n",
       "      <td>0.0000</td>\n",
       "      <td>60.0</td>\n",
       "      <td>1</td>\n",
       "    </tr>\n",
       "    <tr>\n",
       "      <th>49996</th>\n",
       "      <td>0</td>\n",
       "      <td>0</td>\n",
       "      <td>0.0000</td>\n",
       "      <td>26.0</td>\n",
       "      <td>0</td>\n",
       "    </tr>\n",
       "    <tr>\n",
       "      <th>49997</th>\n",
       "      <td>1</td>\n",
       "      <td>0</td>\n",
       "      <td>0.8461</td>\n",
       "      <td>28.0</td>\n",
       "      <td>1</td>\n",
       "    </tr>\n",
       "    <tr>\n",
       "      <th>49998</th>\n",
       "      <td>1</td>\n",
       "      <td>0</td>\n",
       "      <td>0.0000</td>\n",
       "      <td>19.0</td>\n",
       "      <td>1</td>\n",
       "    </tr>\n",
       "    <tr>\n",
       "      <th>49999</th>\n",
       "      <td>1</td>\n",
       "      <td>0</td>\n",
       "      <td>0.8453</td>\n",
       "      <td>69.0</td>\n",
       "      <td>0</td>\n",
       "    </tr>\n",
       "  </tbody>\n",
       "</table>\n",
       "<p>50000 rows × 5 columns</p>\n",
       "</div>"
      ],
      "text/plain": [
       "       is_treatment  response_att  food_share_15d   age  is_women\n",
       "0                 1             0          0.0000  33.0         1\n",
       "1                 0             0          0.0000  63.0         1\n",
       "2                 1             0          0.0000  51.0         1\n",
       "3                 0             0          0.0000  38.0         1\n",
       "4                 1             0          0.5105  20.0         1\n",
       "...             ...           ...             ...   ...       ...\n",
       "49995             1             0          0.0000  60.0         1\n",
       "49996             0             0          0.0000  26.0         0\n",
       "49997             1             0          0.8461  28.0         1\n",
       "49998             1             0          0.0000  19.0         1\n",
       "49999             1             0          0.8453  69.0         0\n",
       "\n",
       "[50000 rows x 5 columns]"
      ]
     },
     "execution_count": 127,
     "metadata": {},
     "output_type": "execute_result"
    }
   ],
   "source": [
    "# サブサンプル分割\n",
    "df = pd.read_csv('../data/lenta_dataset.csv')\n",
    "df"
   ]
  },
  {
   "cell_type": "code",
   "execution_count": 141,
   "id": "76f90f14-4d54-4527-b42f-529510b278a7",
   "metadata": {},
   "outputs": [
    {
     "data": {
      "text/html": [
       "<table class=\"simpletable\">\n",
       "<tr>\n",
       "         <td></td>           <th>coef</th>     <th>std err</th>      <th>t</th>      <th>P>|t|</th>  <th>[0.025</th>    <th>0.975]</th>  \n",
       "</tr>\n",
       "<tr>\n",
       "  <th>Intercept</th>      <td>    0.0539</td> <td>    0.005</td> <td>   10.555</td> <td> 0.000</td> <td>    0.044</td> <td>    0.064</td>\n",
       "</tr>\n",
       "<tr>\n",
       "  <th>is_treatment</th>   <td>    0.0072</td> <td>    0.003</td> <td>    2.285</td> <td> 0.022</td> <td>    0.001</td> <td>    0.013</td>\n",
       "</tr>\n",
       "<tr>\n",
       "  <th>food_share_15d</th> <td>    0.1713</td> <td>    0.003</td> <td>   51.131</td> <td> 0.000</td> <td>    0.165</td> <td>    0.178</td>\n",
       "</tr>\n",
       "<tr>\n",
       "  <th>age</th>            <td>   -0.0003</td> <td>  9.3e-05</td> <td>   -3.047</td> <td> 0.002</td> <td>   -0.000</td> <td>   -0.000</td>\n",
       "</tr>\n",
       "<tr>\n",
       "  <th>is_women</th>       <td>    0.0033</td> <td>    0.003</td> <td>    1.157</td> <td> 0.247</td> <td>   -0.002</td> <td>    0.009</td>\n",
       "</tr>\n",
       "</table>"
      ],
      "text/plain": [
       "<class 'statsmodels.iolib.table.SimpleTable'>"
      ]
     },
     "execution_count": 141,
     "metadata": {},
     "output_type": "execute_result"
    }
   ],
   "source": [
    "result_with_covariates = smf.ols(\"response_att ~ is_treatment + food_share_15d + age + is_women\", data=df).fit()\n",
    "result_with_covariates.summary().tables[1]"
   ]
  },
  {
   "cell_type": "markdown",
   "id": "5bae9607-2e7d-4a80-b1be-77607c540eea",
   "metadata": {},
   "source": [
    "- A/Bテストの結果再掲"
   ]
  },
  {
   "cell_type": "code",
   "execution_count": 142,
   "id": "02402a2f-3dc7-4fc4-a591-0cdd98408fb5",
   "metadata": {},
   "outputs": [
    {
     "data": {
      "text/html": [
       "<table class=\"simpletable\">\n",
       "<tr>\n",
       "        <td></td>          <th>coef</th>     <th>std err</th>      <th>t</th>      <th>P>|t|</th>  <th>[0.025</th>    <th>0.975]</th>  \n",
       "</tr>\n",
       "<tr>\n",
       "  <th>Intercept</th>    <td>    0.1024</td> <td>    0.003</td> <td>   36.412</td> <td> 0.000</td> <td>    0.097</td> <td>    0.108</td>\n",
       "</tr>\n",
       "<tr>\n",
       "  <th>is_treatment</th> <td>    0.0091</td> <td>    0.003</td> <td>    2.809</td> <td> 0.005</td> <td>    0.003</td> <td>    0.015</td>\n",
       "</tr>\n",
       "</table>"
      ],
      "text/plain": [
       "<class 'statsmodels.iolib.table.SimpleTable'>"
      ]
     },
     "execution_count": 142,
     "metadata": {},
     "output_type": "execute_result"
    }
   ],
   "source": [
    "result_plain = smf.ols(\"response_att ~ is_treatment \", data=df).fit()\n",
    "result_plain.summary().tables[1]"
   ]
  },
  {
   "cell_type": "markdown",
   "id": "684f4fe8-3085-4d1e-b0be-99f446cf612b",
   "metadata": {},
   "source": [
    "# 施策効果の異質性 ~ どこで効果があるのか知る"
   ]
  },
  {
   "cell_type": "markdown",
   "id": "14467e50-91d7-4c3d-bb6b-a09f70d1fb58",
   "metadata": {},
   "source": [
    "## セグメントごとにサブサンプルに分割する"
   ]
  },
  {
   "cell_type": "code",
   "execution_count": 120,
   "id": "6854dd78-ce22-4119-b3f0-3584edeb79ed",
   "metadata": {},
   "outputs": [],
   "source": [
    "# サブサンプル分割\n",
    "df = pd.read_csv('../data/lenta_dataset.csv')\n",
    "df_men = df.loc[df['is_women'] == 0, :]\n",
    "df_women = df.loc[df['is_women'] == 1, :]"
   ]
  },
  {
   "cell_type": "code",
   "execution_count": 112,
   "id": "202ef941-4309-47b2-98a5-7642d0d99e68",
   "metadata": {},
   "outputs": [
    {
     "data": {
      "text/html": [
       "<table class=\"simpletable\">\n",
       "<tr>\n",
       "        <td></td>          <th>coef</th>     <th>std err</th>      <th>t</th>      <th>P>|t|</th>  <th>[0.025</th>    <th>0.975]</th>  \n",
       "</tr>\n",
       "<tr>\n",
       "  <th>Intercept</th>    <td>    0.1010</td> <td>    0.005</td> <td>   22.021</td> <td> 0.000</td> <td>    0.092</td> <td>    0.110</td>\n",
       "</tr>\n",
       "<tr>\n",
       "  <th>is_treatment</th> <td>    0.0135</td> <td>    0.005</td> <td>    2.543</td> <td> 0.011</td> <td>    0.003</td> <td>    0.024</td>\n",
       "</tr>\n",
       "</table>"
      ],
      "text/plain": [
       "<class 'statsmodels.iolib.table.SimpleTable'>"
      ]
     },
     "execution_count": 112,
     "metadata": {},
     "output_type": "execute_result"
    }
   ],
   "source": [
    "result_men = smf.ols(\"response_att ~ is_treatment\", data=df_men).fit()\n",
    "result_men.summary().tables[1]"
   ]
  },
  {
   "cell_type": "code",
   "execution_count": 113,
   "id": "45d76158-7b68-413a-8b8c-3d19592a25a8",
   "metadata": {},
   "outputs": [
    {
     "data": {
      "text/html": [
       "<table class=\"simpletable\">\n",
       "<tr>\n",
       "        <td></td>          <th>coef</th>     <th>std err</th>      <th>t</th>      <th>P>|t|</th>  <th>[0.025</th>    <th>0.975]</th>  \n",
       "</tr>\n",
       "<tr>\n",
       "  <th>Intercept</th>    <td>    0.1032</td> <td>    0.004</td> <td>   29.006</td> <td> 0.000</td> <td>    0.096</td> <td>    0.110</td>\n",
       "</tr>\n",
       "<tr>\n",
       "  <th>is_treatment</th> <td>    0.0065</td> <td>    0.004</td> <td>    1.583</td> <td> 0.113</td> <td>   -0.002</td> <td>    0.014</td>\n",
       "</tr>\n",
       "</table>"
      ],
      "text/plain": [
       "<class 'statsmodels.iolib.table.SimpleTable'>"
      ]
     },
     "execution_count": 113,
     "metadata": {},
     "output_type": "execute_result"
    }
   ],
   "source": [
    "result_women = smf.ols(\"response_att ~ is_treatment\", data=df_women).fit()\n",
    "result_women.summary().tables[1]"
   ]
  },
  {
   "cell_type": "code",
   "execution_count": 117,
   "id": "e99b8994-ba10-465d-815e-311a17b298ce",
   "metadata": {},
   "outputs": [
    {
     "data": {
      "text/html": [
       "<table class=\"simpletable\">\n",
       "<tr>\n",
       "         <td></td>        <th>only men model</th> <th>only women model</th>\n",
       "</tr>\n",
       "<tr>\n",
       "  <th>Intercept</th>         <td>0.1010***</td>       <td>0.1032***</td>   \n",
       "</tr>\n",
       "<tr>\n",
       "  <th></th>                  <td>(0.0046)</td>        <td>(0.0036)</td>    \n",
       "</tr>\n",
       "<tr>\n",
       "  <th>is_treatment</th>      <td>0.0135**</td>         <td>0.0065</td>     \n",
       "</tr>\n",
       "<tr>\n",
       "  <th></th>                  <td>(0.0053)</td>        <td>(0.0041)</td>    \n",
       "</tr>\n",
       "<tr>\n",
       "  <th>R-squared</th>          <td>0.0003</td>          <td>0.0001</td>     \n",
       "</tr>\n",
       "<tr>\n",
       "  <th>R-squared Adj.</th>     <td>0.0003</td>          <td>0.0000</td>     \n",
       "</tr>\n",
       "</table>"
      ],
      "text/plain": [
       "<class 'statsmodels.iolib.summary2.Summary'>\n",
       "\"\"\"\n",
       "\n",
       "==============================================\n",
       "               only men model only women model\n",
       "----------------------------------------------\n",
       "Intercept      0.1010***      0.1032***       \n",
       "               (0.0046)       (0.0036)        \n",
       "is_treatment   0.0135**       0.0065          \n",
       "               (0.0053)       (0.0041)        \n",
       "R-squared      0.0003         0.0001          \n",
       "R-squared Adj. 0.0003         0.0000          \n",
       "==============================================\n",
       "Standard errors in parentheses.\n",
       "* p<.1, ** p<.05, ***p<.01\n",
       "\"\"\""
      ]
     },
     "execution_count": 117,
     "metadata": {},
     "output_type": "execute_result"
    }
   ],
   "source": [
    "# 推定した結果をまとめて表示\n",
    "summary_col([result_men, result_women], model_names=('only men model', 'only women model'), stars=True)"
   ]
  },
  {
   "cell_type": "markdown",
   "id": "4978d77f-aa34-4d64-b9ce-77d229f49d3f",
   "metadata": {},
   "source": [
    "## セグメントの交差項を入れて分析を行う"
   ]
  },
  {
   "cell_type": "code",
   "execution_count": 123,
   "id": "3866e741-7850-43a8-9b6e-1a311ba0fa4d",
   "metadata": {},
   "outputs": [
    {
     "data": {
      "text/html": [
       "<div>\n",
       "<style scoped>\n",
       "    .dataframe tbody tr th:only-of-type {\n",
       "        vertical-align: middle;\n",
       "    }\n",
       "\n",
       "    .dataframe tbody tr th {\n",
       "        vertical-align: top;\n",
       "    }\n",
       "\n",
       "    .dataframe thead th {\n",
       "        text-align: right;\n",
       "    }\n",
       "</style>\n",
       "<table border=\"1\" class=\"dataframe\">\n",
       "  <thead>\n",
       "    <tr style=\"text-align: right;\">\n",
       "      <th></th>\n",
       "      <th>is_women</th>\n",
       "    </tr>\n",
       "  </thead>\n",
       "  <tbody>\n",
       "    <tr>\n",
       "      <th>0</th>\n",
       "      <td>1</td>\n",
       "    </tr>\n",
       "    <tr>\n",
       "      <th>1</th>\n",
       "      <td>1</td>\n",
       "    </tr>\n",
       "    <tr>\n",
       "      <th>2</th>\n",
       "      <td>1</td>\n",
       "    </tr>\n",
       "    <tr>\n",
       "      <th>3</th>\n",
       "      <td>1</td>\n",
       "    </tr>\n",
       "    <tr>\n",
       "      <th>4</th>\n",
       "      <td>1</td>\n",
       "    </tr>\n",
       "    <tr>\n",
       "      <th>...</th>\n",
       "      <td>...</td>\n",
       "    </tr>\n",
       "    <tr>\n",
       "      <th>49995</th>\n",
       "      <td>1</td>\n",
       "    </tr>\n",
       "    <tr>\n",
       "      <th>49996</th>\n",
       "      <td>0</td>\n",
       "    </tr>\n",
       "    <tr>\n",
       "      <th>49997</th>\n",
       "      <td>1</td>\n",
       "    </tr>\n",
       "    <tr>\n",
       "      <th>49998</th>\n",
       "      <td>1</td>\n",
       "    </tr>\n",
       "    <tr>\n",
       "      <th>49999</th>\n",
       "      <td>0</td>\n",
       "    </tr>\n",
       "  </tbody>\n",
       "</table>\n",
       "<p>50000 rows × 1 columns</p>\n",
       "</div>"
      ],
      "text/plain": [
       "       is_women\n",
       "0             1\n",
       "1             1\n",
       "2             1\n",
       "3             1\n",
       "4             1\n",
       "...         ...\n",
       "49995         1\n",
       "49996         0\n",
       "49997         1\n",
       "49998         1\n",
       "49999         0\n",
       "\n",
       "[50000 rows x 1 columns]"
      ]
     },
     "execution_count": 123,
     "metadata": {},
     "output_type": "execute_result"
    }
   ],
   "source": [
    "df[['is_women']]"
   ]
  },
  {
   "cell_type": "code",
   "execution_count": 125,
   "id": "6a6b2e1f-9128-4ee2-929a-30fd4a3fb4d2",
   "metadata": {},
   "outputs": [
    {
     "data": {
      "text/html": [
       "<table class=\"simpletable\">\n",
       "<tr>\n",
       "            <td></td>               <th>coef</th>     <th>std err</th>      <th>t</th>      <th>P>|t|</th>  <th>[0.025</th>    <th>0.975]</th>  \n",
       "</tr>\n",
       "<tr>\n",
       "  <th>Intercept</th>             <td>    0.1010</td> <td>    0.005</td> <td>   22.184</td> <td> 0.000</td> <td>    0.092</td> <td>    0.110</td>\n",
       "</tr>\n",
       "<tr>\n",
       "  <th>is_treatment</th>          <td>    0.0135</td> <td>    0.005</td> <td>    2.562</td> <td> 0.010</td> <td>    0.003</td> <td>    0.024</td>\n",
       "</tr>\n",
       "<tr>\n",
       "  <th>is_women</th>              <td>    0.0022</td> <td>    0.006</td> <td>    0.380</td> <td> 0.704</td> <td>   -0.009</td> <td>    0.014</td>\n",
       "</tr>\n",
       "<tr>\n",
       "  <th>is_treatment:is_women</th> <td>   -0.0070</td> <td>    0.007</td> <td>   -1.050</td> <td> 0.294</td> <td>   -0.020</td> <td>    0.006</td>\n",
       "</tr>\n",
       "</table>"
      ],
      "text/plain": [
       "<class 'statsmodels.iolib.table.SimpleTable'>"
      ]
     },
     "execution_count": 125,
     "metadata": {},
     "output_type": "execute_result"
    }
   ],
   "source": [
    "# 推定\n",
    "result_hetero = smf.ols(\"response_att ~ is_treatment + is_women + is_treatment * is_women\", data=df).fit()\n",
    "# 推定結果の表示\n",
    "result_hetero.summary().tables[1]"
   ]
  },
  {
   "cell_type": "markdown",
   "id": "63ec56e4-ea7a-47c4-acb0-eddc6e730965",
   "metadata": {},
   "source": [
    "# 捨てる"
   ]
  },
  {
   "cell_type": "markdown",
   "id": "028f2bbe-6b0a-4d32-852d-87907b76579d",
   "metadata": {},
   "source": [
    "## A/Bテストの弱点"
   ]
  },
  {
   "cell_type": "markdown",
   "id": "8fdc9b7a-e3dd-488c-bc16-e1f8b0f746b7",
   "metadata": {},
   "source": [
    "## 3.2 A/A テスト：A/B テストのクオリティを担保する\n",
    "### 3.2.1 A/B テストは頻繁に「失敗」する"
   ]
  },
  {
   "cell_type": "markdown",
   "id": "fcfa8f0d-3d65-4ddb-9389-baa46ac5186d",
   "metadata": {},
   "source": [
    "[] イメージ絵の作成\n",
    "\n",
    "[X] シミュレーションデータの作成、そのデータを表示"
   ]
  },
  {
   "cell_type": "markdown",
   "id": "a6a213ca-12c0-4a68-b7e3-62d81dc1178a",
   "metadata": {},
   "source": [
    "#### シミュレーションデータを作成する"
   ]
  },
  {
   "cell_type": "code",
   "execution_count": 3,
   "id": "41939666-f774-468d-98dc-477c7d93a915",
   "metadata": {},
   "outputs": [],
   "source": [
    "def gen_simulated_data(n: int, delta: float, seed: int=1) -> pd.DataFrame:\n",
    "    np.random.seed(seed=seed)\n",
    "    assignment = np.random.choice([0, 1], size=n)\n",
    "    num_visits = np.random.randint(low=1, high=1000, size=n)\n",
    "    ctr = np.random.uniform(0, 1 - delta, size=n)\n",
    "    ctr[assignment==1] += delta\n",
    "    uid_vec = np.repeat(range(n), num_visits, axis=0)\n",
    "    treatment_vec = np.repeat(assignment, num_visits, axis=0)\n",
    "    ctr_vec = np.repeat(ctr, num_visits, axis=0)\n",
    "    clicks_vec = reduce(lambda a, b: np.r_[a, b], [np.random.choice([0, 1], size=num_visits[i], p=[1 - ctr[i], ctr[i]]) for i in np.arange(n)])\n",
    "    df = (\n",
    "        pd.DataFrame(\n",
    "          np.c_[uid_vec, treatment_vec, clicks_vec], \n",
    "          columns=['uid', 'is_treatment', 'is_click']\n",
    "        )\n",
    "        .astype({'uid': int, 'is_treatment': int, 'is_click': int})\n",
    "    )\n",
    "    return df"
   ]
  },
  {
   "cell_type": "code",
   "execution_count": 4,
   "id": "4214a7d2-dc58-484e-a9db-af684b1eb264",
   "metadata": {},
   "outputs": [
    {
     "data": {
      "text/html": [
       "<div>\n",
       "<style scoped>\n",
       "    .dataframe tbody tr th:only-of-type {\n",
       "        vertical-align: middle;\n",
       "    }\n",
       "\n",
       "    .dataframe tbody tr th {\n",
       "        vertical-align: top;\n",
       "    }\n",
       "\n",
       "    .dataframe thead th {\n",
       "        text-align: right;\n",
       "    }\n",
       "</style>\n",
       "<table border=\"1\" class=\"dataframe\">\n",
       "  <thead>\n",
       "    <tr style=\"text-align: right;\">\n",
       "      <th></th>\n",
       "      <th>uid</th>\n",
       "      <th>is_treatment</th>\n",
       "      <th>is_click</th>\n",
       "    </tr>\n",
       "  </thead>\n",
       "  <tbody>\n",
       "    <tr>\n",
       "      <th>0</th>\n",
       "      <td>0</td>\n",
       "      <td>1</td>\n",
       "      <td>1</td>\n",
       "    </tr>\n",
       "    <tr>\n",
       "      <th>1</th>\n",
       "      <td>1</td>\n",
       "      <td>1</td>\n",
       "      <td>1</td>\n",
       "    </tr>\n",
       "    <tr>\n",
       "      <th>2</th>\n",
       "      <td>1</td>\n",
       "      <td>1</td>\n",
       "      <td>1</td>\n",
       "    </tr>\n",
       "    <tr>\n",
       "      <th>3</th>\n",
       "      <td>1</td>\n",
       "      <td>1</td>\n",
       "      <td>1</td>\n",
       "    </tr>\n",
       "    <tr>\n",
       "      <th>4</th>\n",
       "      <td>1</td>\n",
       "      <td>1</td>\n",
       "      <td>1</td>\n",
       "    </tr>\n",
       "    <tr>\n",
       "      <th>...</th>\n",
       "      <td>...</td>\n",
       "      <td>...</td>\n",
       "      <td>...</td>\n",
       "    </tr>\n",
       "    <tr>\n",
       "      <th>147151</th>\n",
       "      <td>299</td>\n",
       "      <td>0</td>\n",
       "      <td>1</td>\n",
       "    </tr>\n",
       "    <tr>\n",
       "      <th>147152</th>\n",
       "      <td>299</td>\n",
       "      <td>0</td>\n",
       "      <td>0</td>\n",
       "    </tr>\n",
       "    <tr>\n",
       "      <th>147153</th>\n",
       "      <td>299</td>\n",
       "      <td>0</td>\n",
       "      <td>1</td>\n",
       "    </tr>\n",
       "    <tr>\n",
       "      <th>147154</th>\n",
       "      <td>299</td>\n",
       "      <td>0</td>\n",
       "      <td>0</td>\n",
       "    </tr>\n",
       "    <tr>\n",
       "      <th>147155</th>\n",
       "      <td>299</td>\n",
       "      <td>0</td>\n",
       "      <td>0</td>\n",
       "    </tr>\n",
       "  </tbody>\n",
       "</table>\n",
       "<p>147156 rows × 3 columns</p>\n",
       "</div>"
      ],
      "text/plain": [
       "        uid  is_treatment  is_click\n",
       "0         0             1         1\n",
       "1         1             1         1\n",
       "2         1             1         1\n",
       "3         1             1         1\n",
       "4         1             1         1\n",
       "...     ...           ...       ...\n",
       "147151  299             0         1\n",
       "147152  299             0         0\n",
       "147153  299             0         1\n",
       "147154  299             0         0\n",
       "147155  299             0         0\n",
       "\n",
       "[147156 rows x 3 columns]"
      ]
     },
     "execution_count": 4,
     "metadata": {},
     "output_type": "execute_result"
    }
   ],
   "source": [
    "df = gen_simulated_data(n=300, delta=0, seed=10)\n",
    "df"
   ]
  },
  {
   "cell_type": "markdown",
   "id": "f5dd49d8-9330-411f-838d-6433e693523f",
   "metadata": {},
   "source": [
    "#### シミュレーションデータに基づき分析を行う"
   ]
  },
  {
   "cell_type": "code",
   "execution_count": 5,
   "id": "c22930c9-9f2a-4c6a-ac94-d96a40870969",
   "metadata": {},
   "outputs": [
    {
     "name": "stdout",
     "output_type": "stream",
     "text": [
      "                            OLS Regression Results                            \n",
      "==============================================================================\n",
      "Dep. Variable:               is_click   R-squared:                       0.000\n",
      "Model:                            OLS   Adj. R-squared:                  0.000\n",
      "Method:                 Least Squares   F-statistic:                     27.33\n",
      "Date:                Tue, 18 Oct 2022   Prob (F-statistic):           1.72e-07\n",
      "Time:                        22:32:04   Log-Likelihood:            -1.0677e+05\n",
      "No. Observations:              147156   AIC:                         2.135e+05\n",
      "Df Residuals:                  147154   BIC:                         2.136e+05\n",
      "Df Model:                           1                                         \n",
      "Covariance Type:            nonrobust                                         \n",
      "================================================================================\n",
      "                   coef    std err          t      P>|t|      [0.025      0.975]\n",
      "--------------------------------------------------------------------------------\n",
      "Intercept        0.4841      0.002    264.665      0.000       0.480       0.488\n",
      "is_treatment     0.0136      0.003      5.228      0.000       0.009       0.019\n",
      "==============================================================================\n",
      "Omnibus:                   502014.234   Durbin-Watson:                   1.340\n",
      "Prob(Omnibus):                  0.000   Jarque-Bera (JB):            24507.799\n",
      "Skew:                           0.037   Prob(JB):                         0.00\n",
      "Kurtosis:                       1.002   Cond. No.                         2.60\n",
      "==============================================================================\n",
      "\n",
      "Notes:\n",
      "[1] Standard Errors assume that the covariance matrix of the errors is correctly specified.\n"
     ]
    }
   ],
   "source": [
    "result = smf.ols(\"is_click ~ is_treatment\", data=df).fit()\n",
    "print(result.summary())"
   ]
  },
  {
   "cell_type": "code",
   "execution_count": null,
   "id": "92f5cbd1-d58e-4e25-8681-b4d015b02254",
   "metadata": {},
   "outputs": [],
   "source": []
  },
  {
   "cell_type": "code",
   "execution_count": null,
   "id": "9847b1ef-7d87-4817-aa34-6f10b0af2208",
   "metadata": {},
   "outputs": [],
   "source": []
  },
  {
   "cell_type": "code",
   "execution_count": null,
   "id": "3a552901-6c77-4070-b63b-c5562f4796b2",
   "metadata": {},
   "outputs": [],
   "source": []
  },
  {
   "cell_type": "code",
   "execution_count": null,
   "id": "66236b8a-92f5-4608-b457-d1b38b620c30",
   "metadata": {},
   "outputs": [],
   "source": []
  },
  {
   "cell_type": "markdown",
   "id": "04501147-9ca7-48ca-a526-6b3d8a0ed7e4",
   "metadata": {},
   "source": [
    "### 3.2.2 A/A テスト\n",
    "\n",
    "[] 実験の絵を描く"
   ]
  },
  {
   "cell_type": "markdown",
   "id": "e42e6eee-b9ec-4060-b740-bb879ab912b0",
   "metadata": {},
   "source": [
    "#### シミュレーションデータを作成する"
   ]
  },
  {
   "cell_type": "code",
   "execution_count": 6,
   "id": "732a3f8e-02f9-4d5d-9798-61e219e9a90c",
   "metadata": {},
   "outputs": [],
   "source": [
    "def gen_simulated_data_aa(n: int, delta: float, seed: int=1) -> pd.DataFrame:\n",
    "    np.random.seed(seed=seed)\n",
    "    uids = np.arange(n)\n",
    "    assignments = np.random.choice([0, 1], size=n)\n",
    "    ctrs = np.random.uniform(0, 1 - delta, size=n)\n",
    "    ctrs[assignments==1] += delta\n",
    "    clicks = reduce(lambda a, b: np.r_[a, b], [np.random.choice([0, 1], p=[1 - ctrs[i], ctrs[i]]) for i in np.arange(n)])\n",
    "    df = (\n",
    "        pd.DataFrame(\n",
    "          np.c_[uids, assignments, clicks], \n",
    "          columns=['uid', 'is_treatment', 'is_click']\n",
    "        )\n",
    "        .astype({'uid': int, 'is_treatment': int, 'is_click': int})\n",
    "    )\n",
    "    return df"
   ]
  },
  {
   "cell_type": "code",
   "execution_count": 7,
   "id": "46678e68-60e4-4b93-badd-18a2059d800b",
   "metadata": {},
   "outputs": [
    {
     "data": {
      "text/html": [
       "<div>\n",
       "<style scoped>\n",
       "    .dataframe tbody tr th:only-of-type {\n",
       "        vertical-align: middle;\n",
       "    }\n",
       "\n",
       "    .dataframe tbody tr th {\n",
       "        vertical-align: top;\n",
       "    }\n",
       "\n",
       "    .dataframe thead th {\n",
       "        text-align: right;\n",
       "    }\n",
       "</style>\n",
       "<table border=\"1\" class=\"dataframe\">\n",
       "  <thead>\n",
       "    <tr style=\"text-align: right;\">\n",
       "      <th></th>\n",
       "      <th>uid</th>\n",
       "      <th>is_treatment</th>\n",
       "      <th>is_click</th>\n",
       "    </tr>\n",
       "  </thead>\n",
       "  <tbody>\n",
       "    <tr>\n",
       "      <th>0</th>\n",
       "      <td>0</td>\n",
       "      <td>0</td>\n",
       "      <td>0</td>\n",
       "    </tr>\n",
       "    <tr>\n",
       "      <th>1</th>\n",
       "      <td>1</td>\n",
       "      <td>1</td>\n",
       "      <td>1</td>\n",
       "    </tr>\n",
       "    <tr>\n",
       "      <th>2</th>\n",
       "      <td>2</td>\n",
       "      <td>1</td>\n",
       "      <td>0</td>\n",
       "    </tr>\n",
       "    <tr>\n",
       "      <th>3</th>\n",
       "      <td>3</td>\n",
       "      <td>0</td>\n",
       "      <td>0</td>\n",
       "    </tr>\n",
       "    <tr>\n",
       "      <th>4</th>\n",
       "      <td>4</td>\n",
       "      <td>1</td>\n",
       "      <td>1</td>\n",
       "    </tr>\n",
       "    <tr>\n",
       "      <th>...</th>\n",
       "      <td>...</td>\n",
       "      <td>...</td>\n",
       "      <td>...</td>\n",
       "    </tr>\n",
       "    <tr>\n",
       "      <th>295</th>\n",
       "      <td>295</td>\n",
       "      <td>0</td>\n",
       "      <td>0</td>\n",
       "    </tr>\n",
       "    <tr>\n",
       "      <th>296</th>\n",
       "      <td>296</td>\n",
       "      <td>0</td>\n",
       "      <td>1</td>\n",
       "    </tr>\n",
       "    <tr>\n",
       "      <th>297</th>\n",
       "      <td>297</td>\n",
       "      <td>0</td>\n",
       "      <td>1</td>\n",
       "    </tr>\n",
       "    <tr>\n",
       "      <th>298</th>\n",
       "      <td>298</td>\n",
       "      <td>1</td>\n",
       "      <td>1</td>\n",
       "    </tr>\n",
       "    <tr>\n",
       "      <th>299</th>\n",
       "      <td>299</td>\n",
       "      <td>1</td>\n",
       "      <td>1</td>\n",
       "    </tr>\n",
       "  </tbody>\n",
       "</table>\n",
       "<p>300 rows × 3 columns</p>\n",
       "</div>"
      ],
      "text/plain": [
       "     uid  is_treatment  is_click\n",
       "0      0             0         0\n",
       "1      1             1         1\n",
       "2      2             1         0\n",
       "3      3             0         0\n",
       "4      4             1         1\n",
       "..   ...           ...       ...\n",
       "295  295             0         0\n",
       "296  296             0         1\n",
       "297  297             0         1\n",
       "298  298             1         1\n",
       "299  299             1         1\n",
       "\n",
       "[300 rows x 3 columns]"
      ]
     },
     "execution_count": 7,
     "metadata": {},
     "output_type": "execute_result"
    }
   ],
   "source": [
    "df = gen_simulated_data_aa(n=300, delta=0, seed=0)\n",
    "df"
   ]
  },
  {
   "cell_type": "markdown",
   "id": "f10c05eb-814f-4d7a-b646-0fe269029c8a",
   "metadata": {},
   "source": [
    "#### A/Aテストの分析を行う"
   ]
  },
  {
   "cell_type": "code",
   "execution_count": 8,
   "id": "7fc2143e-f13c-40ab-b521-9a538aecc5ed",
   "metadata": {},
   "outputs": [
    {
     "name": "stdout",
     "output_type": "stream",
     "text": [
      "                            OLS Regression Results                            \n",
      "==============================================================================\n",
      "Dep. Variable:               is_click   R-squared:                       0.001\n",
      "Model:                            OLS   Adj. R-squared:                 -0.003\n",
      "Method:                 Least Squares   F-statistic:                    0.2066\n",
      "Date:                Tue, 18 Oct 2022   Prob (F-statistic):              0.650\n",
      "Time:                        22:32:04   Log-Likelihood:                -217.53\n",
      "No. Observations:                 300   AIC:                             439.1\n",
      "Df Residuals:                     298   BIC:                             446.5\n",
      "Df Model:                           1                                         \n",
      "Covariance Type:            nonrobust                                         \n",
      "================================================================================\n",
      "                   coef    std err          t      P>|t|      [0.025      0.975]\n",
      "--------------------------------------------------------------------------------\n",
      "Intercept        0.5000      0.041     12.133      0.000       0.419       0.581\n",
      "is_treatment    -0.0263      0.058     -0.455      0.650      -0.140       0.088\n",
      "==============================================================================\n",
      "Omnibus:                     1407.085   Durbin-Watson:                   1.929\n",
      "Prob(Omnibus):                  0.000   Jarque-Bera (JB):               49.862\n",
      "Skew:                           0.053   Prob(JB):                     1.49e-11\n",
      "Kurtosis:                       1.006   Cond. No.                         2.63\n",
      "==============================================================================\n",
      "\n",
      "Notes:\n",
      "[1] Standard Errors assume that the covariance matrix of the errors is correctly specified.\n"
     ]
    }
   ],
   "source": [
    "result = smf.ols(\"is_click ~ is_treatment\", data=df).fit()\n",
    "print(result.summary())"
   ]
  },
  {
   "cell_type": "markdown",
   "id": "40b8ef75-e1aa-48a8-b541-8c8d599d33dd",
   "metadata": {},
   "source": [
    "### 3.2.3 A/A テストのリプレー"
   ]
  },
  {
   "cell_type": "code",
   "execution_count": 10,
   "id": "0da5bd6f-97d4-4e0c-8e4a-32b2eecd301a",
   "metadata": {},
   "outputs": [],
   "source": [
    "# def assign_treatment_randomly(uid: int, salt: str):\n",
    "#     return int(hashlib.sha256(f\"{salt}user{uid}\".encode()).hexdigest(), 16) % 2\n",
    "\n",
    "# def assign_treatment_by_uid(dfx: pd.DataFrame, seed: int = 1, column_name = 'is_treatment_in_aa'):\n",
    "#     np.random.seed(seed=seed)\n",
    "#     salt = ''.join(np.random.choice(ALPHABET, size=10))\n",
    "#     dfx[column_name] = np.vectorize(assign_treatment_randomly, otypes=[float])(uid=dfx['uid'].astype(int), salt = salt)\n",
    "\n",
    "# replays = []\n",
    "# for i in tqdm(range(500)):\n",
    "#     assign_treatment_by_uid(df, seed=i, column_name = 'is_treatment_in_aa')\n",
    "#     result_user = get_test_result_plain_from_simulated_df(dfx=df.groupby('uid').mean(), column_treatment='is_treatment_in_aa', column_click='is_click')\n",
    "#     result_impression = get_test_result_plain_from_simulated_df(dfx=df, column_treatment='is_treatment_in_aa', column_click='is_click')\n",
    "#     result_delta = get_test_result_delta_from_simulated_df(dfx=df, column_treatment='is_treatment_in_aa', column_click='is_click', column_uid = 'uid')\n",
    "#     result_robust = get_test_result_cluster_robust_from_simulated_df(dfx=df, column_treatment='is_treatment_in_aa', column_click='is_click', column_uid = 'uid')\n",
    "#     replays.append([\n",
    "#         i, result_impression.pvalue, result_user.pvalue, result_delta.pvalue, result_robust.summary2().tables[1].loc['is_treatment_in_aa', 'P>|t|']\n",
    "#     ])\n",
    "# replays_df = pd.DataFrame(replays, columns=['i', 'impression', 'user', 'delta', 'robust'])"
   ]
  },
  {
   "cell_type": "markdown",
   "id": "776f64a4-17b2-4864-9848-004473a946c8",
   "metadata": {},
   "source": [
    "## 3.3 柔軟な A/B テストの設計"
   ]
  },
  {
   "cell_type": "markdown",
   "id": "59b4a77c-fab6-4bf9-b245-9ac089dace3c",
   "metadata": {},
   "source": [
    "### 3.3.1 クラスター A/B テスト"
   ]
  },
  {
   "cell_type": "markdown",
   "id": "78cfdf58-e9ec-4a8f-8fad-a6f515625685",
   "metadata": {},
   "source": [
    "#### シミュレーションデータを作成する"
   ]
  },
  {
   "cell_type": "markdown",
   "id": "f28b9454-0128-452b-bb1f-c43e0a3b813d",
   "metadata": {},
   "source": [
    "####　A/Aテストによる分析設計の検証"
   ]
  },
  {
   "cell_type": "markdown",
   "id": "71712f2f-c593-4fb3-990f-586b12775b86",
   "metadata": {},
   "source": [
    "### 3.3.2 層化 A/B テスト"
   ]
  },
  {
   "cell_type": "markdown",
   "id": "31b71342-c5fc-492f-8239-ea771a59b4c4",
   "metadata": {},
   "source": [
    "## 3.4 施策効果の異質性"
   ]
  },
  {
   "cell_type": "markdown",
   "id": "edf3fe30-57ef-404b-9df4-642d8fe2d51e",
   "metadata": {
    "tags": []
   },
   "source": [
    "## A/Bテストをどのように解釈するか？"
   ]
  },
  {
   "cell_type": "markdown",
   "id": "7932ac6e-9dcc-4f3e-812d-801a596719ee",
   "metadata": {},
   "source": [
    "### 共変量の取り扱い/交差項の導入"
   ]
  },
  {
   "cell_type": "markdown",
   "id": "bf1cecb1-ee10-42a1-8579-dc0eb00e1dcd",
   "metadata": {},
   "source": [
    "#### Example:共変量の取り扱い/交差項の導入\n",
    "\n",
    "viberを普段ツールとして使っているユーザーにおいては効果が変わるかも？\n",
    "\n",
    "→　変わった"
   ]
  },
  {
   "cell_type": "code",
   "execution_count": null,
   "id": "f240e676-aaa3-4f29-93af-20999a37fb7b",
   "metadata": {},
   "outputs": [
    {
     "name": "stdout",
     "output_type": "stream",
     "text": [
      "                            OLS Regression Results                            \n",
      "==============================================================================\n",
      "Dep. Variable:           response_att   R-squared:                       0.000\n",
      "Model:                            OLS   Adj. R-squared:                  0.000\n",
      "Method:                 Least Squares   F-statistic:                     41.48\n",
      "Date:                Sun, 20 Feb 2022   Prob (F-statistic):           8.60e-27\n",
      "Time:                        15:44:44   Log-Likelihood:            -1.6718e+05\n",
      "No. Observations:              678448   AIC:                         3.344e+05\n",
      "Df Residuals:                  678444   BIC:                         3.344e+05\n",
      "Df Model:                           3                                         \n",
      "Covariance Type:            nonrobust                                         \n",
      "===============================================================================================================================\n",
      "                                                                  coef    std err          t      P>|t|      [0.025      0.975]\n",
      "-------------------------------------------------------------------------------------------------------------------------------\n",
      "Intercept                                                       0.1018      0.001    111.170      0.000       0.100       0.104\n",
      "C(is_treatment, Treatment(reference=0))[T.1]                    0.0097      0.001      9.139      0.000       0.008       0.012\n",
      "response_viber                                                 -0.0002      0.002     -0.091      0.928      -0.004       0.004\n",
      "C(is_treatment, Treatment(reference=0))[T.1]:response_viber    -0.0080      0.002     -3.347      0.001      -0.013      -0.003\n",
      "==============================================================================\n",
      "Omnibus:                   325789.852   Durbin-Watson:                   2.000\n",
      "Prob(Omnibus):                  0.000   Jarque-Bera (JB):          1281745.209\n",
      "Skew:                           2.535   Prob(JB):                         0.00\n",
      "Kurtosis:                       7.430   Cond. No.                         11.2\n",
      "==============================================================================\n",
      "\n",
      "Notes:\n",
      "[1] Standard Errors assume that the covariance matrix of the errors is correctly specified.\n"
     ]
    }
   ],
   "source": [
    "result = smf.ols(\"response_att ~ C(is_treatment, Treatment(reference=0)) * response_viber\", data=df).fit()\n",
    "print(result.summary())"
   ]
  },
  {
   "cell_type": "code",
   "execution_count": null,
   "id": "70e816f7-b51c-4199-8520-0faac55e8cde",
   "metadata": {},
   "outputs": [
    {
     "name": "stdout",
     "output_type": "stream",
     "text": [
      "                            OLS Regression Results                            \n",
      "==============================================================================\n",
      "Dep. Variable:           response_att   R-squared:                       0.000\n",
      "Model:                            OLS   Adj. R-squared:                  0.000\n",
      "Method:                 Least Squares   F-statistic:                     32.92\n",
      "Date:                Sun, 20 Feb 2022   Prob (F-statistic):           2.86e-21\n",
      "Time:                        15:47:36   Log-Likelihood:            -1.6660e+05\n",
      "No. Observations:              675264   AIC:                         3.332e+05\n",
      "Df Residuals:                  675260   BIC:                         3.332e+05\n",
      "Df Model:                           3                                         \n",
      "Covariance Type:            nonrobust                                         \n",
      "====================================================================================================================\n",
      "                                                       coef    std err          t      P>|t|      [0.025      0.975]\n",
      "--------------------------------------------------------------------------------------------------------------------\n",
      "Intercept                                            0.1004      0.002     43.166      0.000       0.096       0.105\n",
      "C(is_treatment, Treatment(reference=0))[T.1]         0.0028      0.003      1.037      0.300      -0.002       0.008\n",
      "age                                               3.289e-05   5.05e-05      0.651      0.515   -6.62e-05       0.000\n",
      "C(is_treatment, Treatment(reference=0))[T.1]:age     0.0001   5.85e-05      1.855      0.064   -6.11e-06       0.000\n",
      "==============================================================================\n",
      "Omnibus:                   324085.027   Durbin-Watson:                   2.000\n",
      "Prob(Omnibus):                  0.000   Jarque-Bera (JB):          1273752.800\n",
      "Skew:                           2.534   Prob(JB):                         0.00\n",
      "Kurtosis:                       7.425   Cond. No.                         540.\n",
      "==============================================================================\n",
      "\n",
      "Notes:\n",
      "[1] Standard Errors assume that the covariance matrix of the errors is correctly specified.\n"
     ]
    }
   ],
   "source": [
    "result = smf.ols(\"response_att ~ C(is_treatment, Treatment(reference=0)) * age\", data=df).fit()\n",
    "print(result.summary())"
   ]
  },
  {
   "cell_type": "markdown",
   "id": "40c84f19-33ad-4a01-b694-473c7e376d74",
   "metadata": {},
   "source": [
    "### 実施施策のノン・コンプライアンス\n",
    "\n",
    "A/BテストでわかるのはATE/LATE? 結局分析手法による.\n",
    "\n",
    "- intent to treat (ふつーに回帰)\n",
    "- late about compilier (二段階最小二乗法)"
   ]
  },
  {
   "cell_type": "code",
   "execution_count": null,
   "id": "462b553a-9f66-4626-8121-413336cf0e52",
   "metadata": {},
   "outputs": [],
   "source": []
  },
  {
   "cell_type": "code",
   "execution_count": null,
   "id": "7534cbe4-97ae-4c61-a322-d61366d22305",
   "metadata": {},
   "outputs": [],
   "source": []
  },
  {
   "cell_type": "code",
   "execution_count": null,
   "id": "c5660469-bd32-4841-b422-de6bb1e6b34e",
   "metadata": {},
   "outputs": [],
   "source": []
  },
  {
   "cell_type": "code",
   "execution_count": null,
   "id": "13f7b40b-aefd-4d9b-b698-44826528cca6",
   "metadata": {},
   "outputs": [],
   "source": []
  },
  {
   "cell_type": "code",
   "execution_count": 16,
   "id": "d23c2c1a-c406-47e5-b0e3-07a172ede5d3",
   "metadata": {},
   "outputs": [],
   "source": [
    "from scipy import stats"
   ]
  },
  {
   "cell_type": "code",
   "execution_count": 21,
   "id": "4b153e88-f68c-4e2d-afad-3e15794d1223",
   "metadata": {},
   "outputs": [
    {
     "data": {
      "text/plain": [
       "0.09045856714500448"
      ]
     },
     "execution_count": 21,
     "metadata": {},
     "output_type": "execute_result"
    }
   ],
   "source": [
    "stats.binom_test(x=80, n=12080, p=728/128668, alternative='greater')"
   ]
  },
  {
   "cell_type": "code",
   "execution_count": null,
   "id": "34d88249-ae38-4f92-a1a2-cae7408a1ac2",
   "metadata": {},
   "outputs": [],
   "source": []
  }
 ],
 "metadata": {
  "kernelspec": {
   "display_name": "Python 3 (ipykernel)",
   "language": "python",
   "name": "python3"
  },
  "language_info": {
   "codemirror_mode": {
    "name": "ipython",
    "version": 3
   },
   "file_extension": ".py",
   "mimetype": "text/x-python",
   "name": "python",
   "nbconvert_exporter": "python",
   "pygments_lexer": "ipython3",
   "version": "3.8.5"
  }
 },
 "nbformat": 4,
 "nbformat_minor": 5
}
