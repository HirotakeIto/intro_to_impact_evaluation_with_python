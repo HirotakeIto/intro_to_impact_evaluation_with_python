{
 "cells": [
  {
   "cell_type": "markdown",
   "id": "77aa3e30-ba8f-48f9-93f0-4d132cd00ac1",
   "metadata": {},
   "source": [
    "# 前準備"
   ]
  },
  {
   "cell_type": "code",
   "execution_count": 1,
   "id": "dc0e944e-90f6-44f2-99a1-88a4c0541f1f",
   "metadata": {
    "scrolled": true
   },
   "outputs": [
    {
     "name": "stdout",
     "output_type": "stream",
     "text": [
      "Requirement already satisfied: linearmodels in /Users/s13592/Documents/project/intro_to_impact_evaluation_with_python/.venv/lib/python3.8/site-packages (4.31)\n",
      "Requirement already satisfied: statsmodels>=0.11 in /Users/s13592/Documents/project/intro_to_impact_evaluation_with_python/.venv/lib/python3.8/site-packages (from linearmodels) (0.13.5)\n",
      "Requirement already satisfied: formulaic>=0.3.2 in /Users/s13592/Documents/project/intro_to_impact_evaluation_with_python/.venv/lib/python3.8/site-packages (from linearmodels) (0.6.4)\n",
      "Requirement already satisfied: Cython>=0.29.21 in /Users/s13592/Documents/project/intro_to_impact_evaluation_with_python/.venv/lib/python3.8/site-packages (from linearmodels) (3.0.2)\n",
      "Requirement already satisfied: setuptools-scm[toml]>=7.0.0 in /Users/s13592/Documents/project/intro_to_impact_evaluation_with_python/.venv/lib/python3.8/site-packages (from linearmodels) (7.1.0)\n",
      "Requirement already satisfied: numpy>=1.16 in /Users/s13592/Documents/project/intro_to_impact_evaluation_with_python/.venv/lib/python3.8/site-packages (from linearmodels) (1.24.4)\n",
      "Requirement already satisfied: scipy>=1.2 in /Users/s13592/Documents/project/intro_to_impact_evaluation_with_python/.venv/lib/python3.8/site-packages (from linearmodels) (1.10.1)\n",
      "Requirement already satisfied: property-cached>=1.6.3 in /Users/s13592/Documents/project/intro_to_impact_evaluation_with_python/.venv/lib/python3.8/site-packages (from linearmodels) (1.6.4)\n",
      "Requirement already satisfied: pandas>=0.24 in /Users/s13592/Documents/project/intro_to_impact_evaluation_with_python/.venv/lib/python3.8/site-packages (from linearmodels) (2.0.3)\n",
      "Requirement already satisfied: mypy-extensions>=0.4 in /Users/s13592/Documents/project/intro_to_impact_evaluation_with_python/.venv/lib/python3.8/site-packages (from linearmodels) (1.0.0)\n",
      "Requirement already satisfied: pyhdfe>=0.1 in /Users/s13592/Documents/project/intro_to_impact_evaluation_with_python/.venv/lib/python3.8/site-packages (from linearmodels) (0.2.0)\n",
      "Requirement already satisfied: astor>=0.8 in /Users/s13592/Documents/project/intro_to_impact_evaluation_with_python/.venv/lib/python3.8/site-packages (from formulaic>=0.3.2->linearmodels) (0.8.1)\n",
      "Requirement already satisfied: wrapt>=1.0 in /Users/s13592/Documents/project/intro_to_impact_evaluation_with_python/.venv/lib/python3.8/site-packages (from formulaic>=0.3.2->linearmodels) (1.15.0)\n",
      "Requirement already satisfied: graphlib-backport>=1.0.0 in /Users/s13592/Documents/project/intro_to_impact_evaluation_with_python/.venv/lib/python3.8/site-packages (from formulaic>=0.3.2->linearmodels) (1.0.3)\n",
      "Requirement already satisfied: interface-meta>=1.2.0 in /Users/s13592/Documents/project/intro_to_impact_evaluation_with_python/.venv/lib/python3.8/site-packages (from formulaic>=0.3.2->linearmodels) (1.3.0)\n",
      "Requirement already satisfied: typing-extensions>=4.2.0 in /Users/s13592/Documents/project/intro_to_impact_evaluation_with_python/.venv/lib/python3.8/site-packages (from formulaic>=0.3.2->linearmodels) (4.8.0)\n",
      "Requirement already satisfied: tzdata>=2022.1 in /Users/s13592/Documents/project/intro_to_impact_evaluation_with_python/.venv/lib/python3.8/site-packages (from pandas>=0.24->linearmodels) (2023.4)\n",
      "Requirement already satisfied: python-dateutil>=2.8.2 in /Users/s13592/Documents/project/intro_to_impact_evaluation_with_python/.venv/lib/python3.8/site-packages (from pandas>=0.24->linearmodels) (2.8.2)\n",
      "Requirement already satisfied: pytz>=2020.1 in /Users/s13592/Documents/project/intro_to_impact_evaluation_with_python/.venv/lib/python3.8/site-packages (from pandas>=0.24->linearmodels) (2023.3.post1)\n",
      "Requirement already satisfied: six>=1.5 in /Users/s13592/Documents/project/intro_to_impact_evaluation_with_python/.venv/lib/python3.8/site-packages (from python-dateutil>=2.8.2->pandas>=0.24->linearmodels) (1.16.0)\n",
      "Requirement already satisfied: packaging>=20.0 in /Users/s13592/Documents/project/intro_to_impact_evaluation_with_python/.venv/lib/python3.8/site-packages (from setuptools-scm[toml]>=7.0.0->linearmodels) (23.1)\n",
      "Requirement already satisfied: setuptools in /Users/s13592/Documents/project/intro_to_impact_evaluation_with_python/.venv/lib/python3.8/site-packages (from setuptools-scm[toml]>=7.0.0->linearmodels) (52.0.0)\n",
      "Requirement already satisfied: tomli>=1.0.0 in /Users/s13592/Documents/project/intro_to_impact_evaluation_with_python/.venv/lib/python3.8/site-packages (from setuptools-scm[toml]>=7.0.0->linearmodels) (2.0.1)\n",
      "Requirement already satisfied: patsy>=0.5.2 in /Users/s13592/Documents/project/intro_to_impact_evaluation_with_python/.venv/lib/python3.8/site-packages (from statsmodels>=0.11->linearmodels) (0.5.3)\n",
      "\u001b[33mWARNING: You are using pip version 21.0.1; however, version 24.0 is available.\n",
      "You should consider upgrading via the '/Users/s13592/Documents/project/intro_to_impact_evaluation_with_python/.venv/bin/python -m pip install --upgrade pip' command.\u001b[0m\n"
     ]
    }
   ],
   "source": [
    "!pip install linearmodels"
   ]
  },
  {
   "cell_type": "code",
   "execution_count": 10,
   "id": "f81c5a48-cc8f-4472-9730-c4683ec3f63a",
   "metadata": {},
   "outputs": [],
   "source": [
    "import hashlib\n",
    "\n",
    "import pandas as pd\n",
    "import seaborn as sns\n",
    "import numpy as np\n",
    "import statsmodels.formula.api as smf\n",
    "from statsmodels.iolib.summary2 import summary_col\n",
    "from linearmodels.iv import IV2SLS\n",
    "import matplotlib.pyplot as plt\n",
    "\n",
    "\n",
    "from tqdm import tqdm\n",
    "from scipy import stats\n",
    "\n",
    "URL_LENTA_DATA = 'https://raw.githubusercontent.com/HirotakeIto/intro_to_impact_evaluation_with_python/main/data/lenta_dataset.csv'\n",
    "URL_CLUSTER_TRIAL = 'https://raw.githubusercontent.com/HirotakeIto/intro_to_impact_evaluation_with_python/main/data/ch3_cluster_trial.csv'\n",
    "URL_STRATIFIED_TRIAL = 'https://raw.githubusercontent.com/HirotakeIto/intro_to_impact_evaluation_with_python/main/data/ch3_stratified_trial.csv'\n",
    "URL_AATEST = 'https://raw.githubusercontent.com/HirotakeIto/intro_to_impact_evaluation_with_python/main/data/ch3_aatest_trial.csv'\n",
    "URL_NONCOMPLIANCE = 'https://raw.githubusercontent.com/HirotakeIto/intro_to_impact_evaluation_with_python/main/data/ch3_noncompliance_abtest.csv'"
   ]
  },
  {
   "cell_type": "markdown",
   "id": "d9f7bfde-3748-49f7-a834-7261f8f47e39",
   "metadata": {
    "tags": []
   },
   "source": [
    "# A/Bテストについての発展的な話題"
   ]
  },
  {
   "cell_type": "markdown",
   "id": "4e2838b6-13e6-4091-b1c6-0a3222b290e8",
   "metadata": {},
   "source": [
    "## A/Aテスト：A/Bテスト設計の妥当性を確認する\n",
    "### プログラム3.1 割当単位と分析単位が不一致な場合の回帰分析"
   ]
  },
  {
   "cell_type": "markdown",
   "id": "33aefd86-7264-477f-b96e-8c9fbb3981dd",
   "metadata": {},
   "source": [
    "書籍上では次のようなコードになっています。\n",
    "```\n",
    "import pandas as pd\n",
    "import statsmodels.formula.api as smf\n",
    "\n",
    "df_cluster_trial= pd.read_csv(URL_CLUSTER_TRIAL)\n",
    "result = smf.ols(\n",
    "    \"is_click ~ is_treatment\", data=df_cluster_trial\n",
    ").fit()\n",
    "result.summary()\n",
    "```"
   ]
  },
  {
   "cell_type": "code",
   "execution_count": 36,
   "id": "cbe4fade-1a09-4360-9b97-9fea0ce791c2",
   "metadata": {},
   "outputs": [
    {
     "data": {
      "text/html": [
       "<div>\n",
       "<style scoped>\n",
       "    .dataframe tbody tr th:only-of-type {\n",
       "        vertical-align: middle;\n",
       "    }\n",
       "\n",
       "    .dataframe tbody tr th {\n",
       "        vertical-align: top;\n",
       "    }\n",
       "\n",
       "    .dataframe thead th {\n",
       "        text-align: right;\n",
       "    }\n",
       "</style>\n",
       "<table border=\"1\" class=\"dataframe\">\n",
       "  <thead>\n",
       "    <tr style=\"text-align: right;\">\n",
       "      <th></th>\n",
       "      <th>uid</th>\n",
       "      <th>is_treatment</th>\n",
       "      <th>is_click</th>\n",
       "    </tr>\n",
       "  </thead>\n",
       "  <tbody>\n",
       "    <tr>\n",
       "      <th>0</th>\n",
       "      <td>0</td>\n",
       "      <td>0</td>\n",
       "      <td>1</td>\n",
       "    </tr>\n",
       "    <tr>\n",
       "      <th>1</th>\n",
       "      <td>0</td>\n",
       "      <td>0</td>\n",
       "      <td>0</td>\n",
       "    </tr>\n",
       "    <tr>\n",
       "      <th>2</th>\n",
       "      <td>0</td>\n",
       "      <td>0</td>\n",
       "      <td>0</td>\n",
       "    </tr>\n",
       "    <tr>\n",
       "      <th>3</th>\n",
       "      <td>0</td>\n",
       "      <td>0</td>\n",
       "      <td>0</td>\n",
       "    </tr>\n",
       "    <tr>\n",
       "      <th>4</th>\n",
       "      <td>0</td>\n",
       "      <td>0</td>\n",
       "      <td>0</td>\n",
       "    </tr>\n",
       "    <tr>\n",
       "      <th>...</th>\n",
       "      <td>...</td>\n",
       "      <td>...</td>\n",
       "      <td>...</td>\n",
       "    </tr>\n",
       "    <tr>\n",
       "      <th>10635</th>\n",
       "      <td>199</td>\n",
       "      <td>1</td>\n",
       "      <td>0</td>\n",
       "    </tr>\n",
       "    <tr>\n",
       "      <th>10636</th>\n",
       "      <td>199</td>\n",
       "      <td>1</td>\n",
       "      <td>0</td>\n",
       "    </tr>\n",
       "    <tr>\n",
       "      <th>10637</th>\n",
       "      <td>199</td>\n",
       "      <td>1</td>\n",
       "      <td>1</td>\n",
       "    </tr>\n",
       "    <tr>\n",
       "      <th>10638</th>\n",
       "      <td>199</td>\n",
       "      <td>1</td>\n",
       "      <td>0</td>\n",
       "    </tr>\n",
       "    <tr>\n",
       "      <th>10639</th>\n",
       "      <td>199</td>\n",
       "      <td>1</td>\n",
       "      <td>1</td>\n",
       "    </tr>\n",
       "  </tbody>\n",
       "</table>\n",
       "<p>10640 rows × 3 columns</p>\n",
       "</div>"
      ],
      "text/plain": [
       "       uid  is_treatment  is_click\n",
       "0        0             0         1\n",
       "1        0             0         0\n",
       "2        0             0         0\n",
       "3        0             0         0\n",
       "4        0             0         0\n",
       "...    ...           ...       ...\n",
       "10635  199             1         0\n",
       "10636  199             1         0\n",
       "10637  199             1         1\n",
       "10638  199             1         0\n",
       "10639  199             1         1\n",
       "\n",
       "[10640 rows x 3 columns]"
      ]
     },
     "execution_count": 36,
     "metadata": {},
     "output_type": "execute_result"
    }
   ],
   "source": [
    "df_cluster_trial= pd.read_csv(URL_CLUSTER_TRIAL)\n",
    "df_cluster_trial"
   ]
  },
  {
   "cell_type": "code",
   "execution_count": 37,
   "id": "48d0e6e8-de6f-452b-88d1-ab4d2decdad5",
   "metadata": {},
   "outputs": [
    {
     "data": {
      "text/html": [
       "<table class=\"simpletable\">\n",
       "<tr>\n",
       "        <td></td>          <th>coef</th>     <th>std err</th>      <th>t</th>      <th>P>|t|</th>  <th>[0.025</th>    <th>0.975]</th>  \n",
       "</tr>\n",
       "<tr>\n",
       "  <th>Intercept</th>    <td>    0.5216</td> <td>    0.008</td> <td>   69.521</td> <td> 0.000</td> <td>    0.507</td> <td>    0.536</td>\n",
       "</tr>\n",
       "<tr>\n",
       "  <th>is_treatment</th> <td>   -0.0232</td> <td>    0.010</td> <td>   -2.365</td> <td> 0.018</td> <td>   -0.043</td> <td>   -0.004</td>\n",
       "</tr>\n",
       "</table>"
      ],
      "text/plain": [
       "<class 'statsmodels.iolib.table.SimpleTable'>"
      ]
     },
     "execution_count": 37,
     "metadata": {},
     "output_type": "execute_result"
    }
   ],
   "source": [
    "result = smf.ols(\n",
    "    \"is_click ~ is_treatment\", data=df_cluster_trial\n",
    ").fit()\n",
    "result.summary().tables[1]"
   ]
  },
  {
   "cell_type": "markdown",
   "id": "bda447d8-1fca-4c35-b427-ebea2e9e0407",
   "metadata": {},
   "source": [
    "### プログラム3.2 A/A テストの分析（A/A テストが成功しているとき）\n",
    "書籍上では次のようなコードになっています。\n",
    "```\n",
    "import pandas as pd df\r",
    "df_aatest = pd.read_csv(URL_AATEST)\r",
    "result = smf.ols(\"is_click~is_treatment\", data=df_aatest).fit()\r",
    "result.summary().tables[1]\n",
    "```"
   ]
  },
  {
   "cell_type": "code",
   "execution_count": 38,
   "id": "478346d1-c7f5-4582-a5b7-2674eb3b06ab",
   "metadata": {},
   "outputs": [
    {
     "data": {
      "text/html": [
       "<div>\n",
       "<style scoped>\n",
       "    .dataframe tbody tr th:only-of-type {\n",
       "        vertical-align: middle;\n",
       "    }\n",
       "\n",
       "    .dataframe tbody tr th {\n",
       "        vertical-align: top;\n",
       "    }\n",
       "\n",
       "    .dataframe thead th {\n",
       "        text-align: right;\n",
       "    }\n",
       "</style>\n",
       "<table border=\"1\" class=\"dataframe\">\n",
       "  <thead>\n",
       "    <tr style=\"text-align: right;\">\n",
       "      <th></th>\n",
       "      <th>uid</th>\n",
       "      <th>is_treatment</th>\n",
       "      <th>is_click</th>\n",
       "    </tr>\n",
       "  </thead>\n",
       "  <tbody>\n",
       "    <tr>\n",
       "      <th>0</th>\n",
       "      <td>0</td>\n",
       "      <td>1</td>\n",
       "      <td>0</td>\n",
       "    </tr>\n",
       "    <tr>\n",
       "      <th>1</th>\n",
       "      <td>1</td>\n",
       "      <td>1</td>\n",
       "      <td>0</td>\n",
       "    </tr>\n",
       "    <tr>\n",
       "      <th>2</th>\n",
       "      <td>2</td>\n",
       "      <td>1</td>\n",
       "      <td>1</td>\n",
       "    </tr>\n",
       "    <tr>\n",
       "      <th>3</th>\n",
       "      <td>3</td>\n",
       "      <td>0</td>\n",
       "      <td>1</td>\n",
       "    </tr>\n",
       "    <tr>\n",
       "      <th>4</th>\n",
       "      <td>4</td>\n",
       "      <td>0</td>\n",
       "      <td>1</td>\n",
       "    </tr>\n",
       "    <tr>\n",
       "      <th>...</th>\n",
       "      <td>...</td>\n",
       "      <td>...</td>\n",
       "      <td>...</td>\n",
       "    </tr>\n",
       "    <tr>\n",
       "      <th>9995</th>\n",
       "      <td>9995</td>\n",
       "      <td>1</td>\n",
       "      <td>1</td>\n",
       "    </tr>\n",
       "    <tr>\n",
       "      <th>9996</th>\n",
       "      <td>9996</td>\n",
       "      <td>1</td>\n",
       "      <td>1</td>\n",
       "    </tr>\n",
       "    <tr>\n",
       "      <th>9997</th>\n",
       "      <td>9997</td>\n",
       "      <td>0</td>\n",
       "      <td>1</td>\n",
       "    </tr>\n",
       "    <tr>\n",
       "      <th>9998</th>\n",
       "      <td>9998</td>\n",
       "      <td>1</td>\n",
       "      <td>0</td>\n",
       "    </tr>\n",
       "    <tr>\n",
       "      <th>9999</th>\n",
       "      <td>9999</td>\n",
       "      <td>1</td>\n",
       "      <td>1</td>\n",
       "    </tr>\n",
       "  </tbody>\n",
       "</table>\n",
       "<p>10000 rows × 3 columns</p>\n",
       "</div>"
      ],
      "text/plain": [
       "       uid  is_treatment  is_click\n",
       "0        0             1         0\n",
       "1        1             1         0\n",
       "2        2             1         1\n",
       "3        3             0         1\n",
       "4        4             0         1\n",
       "...    ...           ...       ...\n",
       "9995  9995             1         1\n",
       "9996  9996             1         1\n",
       "9997  9997             0         1\n",
       "9998  9998             1         0\n",
       "9999  9999             1         1\n",
       "\n",
       "[10000 rows x 3 columns]"
      ]
     },
     "execution_count": 38,
     "metadata": {},
     "output_type": "execute_result"
    }
   ],
   "source": [
    "# 読み込み\n",
    "df_aatest = pd.read_csv(URL_AATEST)\n",
    "df_aatest"
   ]
  },
  {
   "cell_type": "code",
   "execution_count": 42,
   "id": "fddcee69-b035-410a-b008-ab440ee9f3dc",
   "metadata": {},
   "outputs": [
    {
     "data": {
      "text/html": [
       "<table class=\"simpletable\">\n",
       "<tr>\n",
       "        <td></td>          <th>coef</th>     <th>std err</th>      <th>t</th>      <th>P>|t|</th>  <th>[0.025</th>    <th>0.975]</th>  \n",
       "</tr>\n",
       "<tr>\n",
       "  <th>Intercept</th>    <td>    0.4988</td> <td>    0.007</td> <td>   70.327</td> <td> 0.000</td> <td>    0.485</td> <td>    0.513</td>\n",
       "</tr>\n",
       "<tr>\n",
       "  <th>is_treatment</th> <td>    0.0102</td> <td>    0.010</td> <td>    1.015</td> <td> 0.310</td> <td>   -0.009</td> <td>    0.030</td>\n",
       "</tr>\n",
       "</table>"
      ],
      "text/plain": [
       "<class 'statsmodels.iolib.table.SimpleTable'>"
      ]
     },
     "execution_count": 42,
     "metadata": {},
     "output_type": "execute_result"
    }
   ],
   "source": [
    "# A/Aテストの分析\n",
    "result = smf.ols(\"is_click~is_treatment\", data=df_aatest).fit()\n",
    "result.summary().tables[1]"
   ]
  },
  {
   "cell_type": "markdown",
   "id": "df6430bb-7a76-42c9-b61c-b555e0ab53c2",
   "metadata": {},
   "source": [
    "### プログラム3.3 A/A テストのリプレイ"
   ]
  },
  {
   "cell_type": "markdown",
   "id": "07f43a8d-8d1f-408f-9d40-d54caaaed565",
   "metadata": {},
   "source": [
    "書籍上では次のようなコードになっています。\n",
    "```\n",
    "import hashlib\r",
    "import pandas as pd\r",
    "import numpy as np\r",
    "import statsmodels. formula. api as smf\r",
    "from tqdm import tqdm\n",
    "\n",
    "def assign_treatment_randomly(uid: int, salt: str):\n",
    "    return int(hashlib.sha256(f\"{salt}_{uid}\".encode()).hexdigest(), 16) % 2\n",
    "\n",
    "df_aatest = pd.read_csv(URL_AATEST)\n",
    "rng = np.random.default_rng(seed=0)\n",
    "replays = []\n",
    "for i in tqdm(range(300)):\n",
    "    # 擬似的な割当\n",
    "    salt = f'salt{i}'\n",
    "    df_aatest['is_treatment_in_aa'] = df_aatest['uid'].apply(assign_treatment_randomly, salt=salt)\n",
    "    # 擬似的な割当の下での分析\n",
    "    result = smf.ols(\"is_click ~ is_treatment_in_aa\", data=df_aatest).fit()\n",
    "    pvalue = result.pvalues['is_treatment_in_aa']\n",
    "    # 情報の格納\n",
    "    replays.append(pvalue)\n",
    "```"
   ]
  },
  {
   "cell_type": "code",
   "execution_count": 49,
   "id": "dff7f3ff-e84d-429e-8e4d-714c4cf7ca42",
   "metadata": {},
   "outputs": [
    {
     "name": "stderr",
     "output_type": "stream",
     "text": [
      "100%|████████████████████████████████████████████████████████████████████████████████████████| 300/300 [00:11<00:00, 26.33it/s]\n"
     ]
    }
   ],
   "source": [
    "def assign_treatment_randomly(uid: int, salt: str):\n",
    "    return int(hashlib.sha256(f\"{salt}_{uid}\".encode()).hexdigest(), 16) % 2\n",
    "\n",
    "\n",
    "df_aatest = pd.read_csv(URL_AATEST)\n",
    "rng = np.random.default_rng(seed=0)\n",
    "replays = []\n",
    "for i in tqdm(range(300)):\n",
    "    # 擬似的な割当\n",
    "    salt = f'salt{i}'\n",
    "    df_aatest['is_treatment_in_aa'] = df_aatest['uid'].apply(assign_treatment_randomly, salt=salt)\n",
    "    # 擬似的な割当の下での分析\n",
    "    result = smf.ols(\"is_click ~ is_treatment_in_aa\", data=df_aatest).fit()\n",
    "    pvalue = result.pvalues['is_treatment_in_aa']\n",
    "    # 情報の格納\n",
    "    replays.append(pvalue)"
   ]
  },
  {
   "cell_type": "markdown",
   "id": "405698ec-6a9c-4caa-b189-fa9f51796695",
   "metadata": {},
   "source": [
    "#### プログラム3.4 A/A テストのリプレイの可視化\n",
    "本文では次のようになっています。\n",
    "```\n",
    "fig, ax = plt. subplots(1, 1, figsize=(5, 4))\r",
    "ax.hist(replays)\r",
    "ax.spines['top'].set_visible(False)\r",
    "ax.spines['right'].set_visible(False)\r",
    "ax.set_facecolor(\"none\")\r",
    "ax.set_xlabel('pvalue')\r",
    "ax.set_title('distribution of pvalue')\r",
    "plt.show()\n",
    "```"
   ]
  },
  {
   "cell_type": "code",
   "execution_count": 50,
   "id": "6abfb07b-bc98-4c57-9a03-44c4b2557355",
   "metadata": {},
   "outputs": [
    {
     "data": {
      "image/png": "[encoded data removed]",
      "text/plain": [
       "<Figure size 500x400 with 1 Axes>"
      ]
     },
     "metadata": {},
     "output_type": "display_data"
    }
   ],
   "source": [
    "fig, ax = plt.subplots(1, 1, figsize=(5, 4))\n",
    "ax.hist(replays)\n",
    "ax.spines['top'].set_visible(False)\n",
    "ax.spines['right'].set_visible(False)\n",
    "ax.set_facecolor(\"none\")\n",
    "ax.set_xlabel('pvalue')\n",
    "ax.set_title('distribution of pvalue')\n",
    "plt.show()"
   ]
  },
  {
   "cell_type": "markdown",
   "id": "66002035-a41b-47f3-8a7b-f4053ff3779e",
   "metadata": {},
   "source": [
    "#### プログラム3.5 コルモゴロフ─スミルノフ検定による分布の確認\n",
    "本文では次のようになっています。\n",
    "```\n",
    "from scipy import stats\r",
    "stats. kstest(replays, 'uniform', args=(0, 1))\n",
    "```"
   ]
  },
  {
   "cell_type": "code",
   "execution_count": 52,
   "id": "b702f169-9471-4d72-aab7-032b60edae72",
   "metadata": {},
   "outputs": [
    {
     "data": {
      "text/plain": [
       "KstestResult(statistic=0.04504551195892681, pvalue=0.5611215508935568, statistic_location=0.6883788452922601, statistic_sign=-1)"
      ]
     },
     "execution_count": 52,
     "metadata": {},
     "output_type": "execute_result"
    }
   ],
   "source": [
    "stats.kstest(replays, 'uniform', args=(0, 1))"
   ]
  },
  {
   "cell_type": "markdown",
   "id": "be2388ca-6db4-4987-88a4-90cf152d3034",
   "metadata": {},
   "source": [
    "## 状況に応じたA/Bテストのモデリング"
   ]
  },
  {
   "cell_type": "markdown",
   "id": "fb7eca9a-1c24-446e-b743-bdc280e100c8",
   "metadata": {},
   "source": [
    "### クラスターA/BテストCluster A/B Test "
   ]
  },
  {
   "cell_type": "markdown",
   "id": "8c247c36-4463-4a0d-9870-73d19af7d2a7",
   "metadata": {},
   "source": [
    "#### プログラム3.6 クラスターA/B テストデータにおけるA/A テストのリプレイ\n",
    "本文では次のようになっています。\n",
    "```\n",
    "def assign_treatment_randomly(uid: int, salt: str):\n",
    "    return int(hashlib.sha256(f\"{salt}_{uid}\".encode()).hexdigest(), 16) % 2\n",
    "\n",
    "rng = np.random.default_rng(seed=0)\n",
    "replays = []\n",
    "for i in tqdm(range(300)):\n",
    "    # 擬似的な割当\n",
    "    salt = f'salt{i}'\n",
    "    df_cluster['is_treatment_in_aa'] = \\\n",
    "        df_cluster['uid'].apply(assign_treatment_randomly, salt=salt)\n",
    "    # 擬似的な割当の下での分析\n",
    "    result = smf.ols(\"is_click ~ is_treatment_in_aa\", data=df_cluster).fit()\n",
    "    pvalue = result.pvalues['is_treatment_in_aa']\n",
    "    # 情報の格納\n",
    "    replays.append(pvalue)\n",
    "```"
   ]
  },
  {
   "cell_type": "code",
   "execution_count": 59,
   "id": "981020b9-47ab-4adf-8dfe-d481650eeef3",
   "metadata": {},
   "outputs": [
    {
     "data": {
      "text/html": [
       "<div>\n",
       "<style scoped>\n",
       "    .dataframe tbody tr th:only-of-type {\n",
       "        vertical-align: middle;\n",
       "    }\n",
       "\n",
       "    .dataframe tbody tr th {\n",
       "        vertical-align: top;\n",
       "    }\n",
       "\n",
       "    .dataframe thead th {\n",
       "        text-align: right;\n",
       "    }\n",
       "</style>\n",
       "<table border=\"1\" class=\"dataframe\">\n",
       "  <thead>\n",
       "    <tr style=\"text-align: right;\">\n",
       "      <th></th>\n",
       "      <th>uid</th>\n",
       "      <th>is_treatment</th>\n",
       "      <th>is_click</th>\n",
       "    </tr>\n",
       "  </thead>\n",
       "  <tbody>\n",
       "    <tr>\n",
       "      <th>0</th>\n",
       "      <td>0</td>\n",
       "      <td>0</td>\n",
       "      <td>1</td>\n",
       "    </tr>\n",
       "    <tr>\n",
       "      <th>1</th>\n",
       "      <td>0</td>\n",
       "      <td>0</td>\n",
       "      <td>0</td>\n",
       "    </tr>\n",
       "    <tr>\n",
       "      <th>2</th>\n",
       "      <td>0</td>\n",
       "      <td>0</td>\n",
       "      <td>0</td>\n",
       "    </tr>\n",
       "    <tr>\n",
       "      <th>3</th>\n",
       "      <td>0</td>\n",
       "      <td>0</td>\n",
       "      <td>0</td>\n",
       "    </tr>\n",
       "    <tr>\n",
       "      <th>4</th>\n",
       "      <td>0</td>\n",
       "      <td>0</td>\n",
       "      <td>0</td>\n",
       "    </tr>\n",
       "    <tr>\n",
       "      <th>...</th>\n",
       "      <td>...</td>\n",
       "      <td>...</td>\n",
       "      <td>...</td>\n",
       "    </tr>\n",
       "    <tr>\n",
       "      <th>10635</th>\n",
       "      <td>199</td>\n",
       "      <td>1</td>\n",
       "      <td>0</td>\n",
       "    </tr>\n",
       "    <tr>\n",
       "      <th>10636</th>\n",
       "      <td>199</td>\n",
       "      <td>1</td>\n",
       "      <td>0</td>\n",
       "    </tr>\n",
       "    <tr>\n",
       "      <th>10637</th>\n",
       "      <td>199</td>\n",
       "      <td>1</td>\n",
       "      <td>1</td>\n",
       "    </tr>\n",
       "    <tr>\n",
       "      <th>10638</th>\n",
       "      <td>199</td>\n",
       "      <td>1</td>\n",
       "      <td>0</td>\n",
       "    </tr>\n",
       "    <tr>\n",
       "      <th>10639</th>\n",
       "      <td>199</td>\n",
       "      <td>1</td>\n",
       "      <td>1</td>\n",
       "    </tr>\n",
       "  </tbody>\n",
       "</table>\n",
       "<p>10640 rows × 3 columns</p>\n",
       "</div>"
      ],
      "text/plain": [
       "       uid  is_treatment  is_click\n",
       "0        0             0         1\n",
       "1        0             0         0\n",
       "2        0             0         0\n",
       "3        0             0         0\n",
       "4        0             0         0\n",
       "...    ...           ...       ...\n",
       "10635  199             1         0\n",
       "10636  199             1         0\n",
       "10637  199             1         1\n",
       "10638  199             1         0\n",
       "10639  199             1         1\n",
       "\n",
       "[10640 rows x 3 columns]"
      ]
     },
     "execution_count": 59,
     "metadata": {},
     "output_type": "execute_result"
    }
   ],
   "source": [
    "df_cluster = pd.read_csv(URL_CLUSTER_TRIAL)\n",
    "df_cluster"
   ]
  },
  {
   "cell_type": "code",
   "execution_count": 57,
   "id": "357798df-16da-4773-9ff5-4f8e2d911a45",
   "metadata": {},
   "outputs": [
    {
     "name": "stderr",
     "output_type": "stream",
     "text": [
      "100%|████████████████████████████████████████████████████████████████████████████████████████| 300/300 [00:11<00:00, 25.55it/s]\n"
     ]
    }
   ],
   "source": [
    "def assign_treatment_randomly(uid: int, salt: str):\n",
    "    return int(hashlib.sha256(f\"{salt}_{uid}\".encode()).hexdigest(), 16) % 2\n",
    "\n",
    "rng = np.random.default_rng(seed=0)\n",
    "replays = []\n",
    "for i in tqdm(range(300)):\n",
    "    # 擬似的な割当\n",
    "    salt = f'salt{i}'\n",
    "    df_cluster['is_treatment_in_aa'] = \\\n",
    "        df_cluster['uid'].apply(assign_treatment_randomly, salt=salt)\n",
    "    # 擬似的な割当の下での分析\n",
    "    result = smf.ols(\"is_click ~ is_treatment_in_aa\", data=df_cluster).fit()\n",
    "    pvalue = result.pvalues['is_treatment_in_aa']\n",
    "    # 情報の格納\n",
    "    replays.append(pvalue)"
   ]
  },
  {
   "cell_type": "code",
   "execution_count": 33,
   "id": "6158565e-0a5d-4a6e-8de0-c6cf6088b38c",
   "metadata": {},
   "outputs": [
    {
     "data": {
      "image/png": "[encoded data removed]",
      "text/plain": [
       "<Figure size 500x400 with 1 Axes>"
      ]
     },
     "metadata": {},
     "output_type": "display_data"
    }
   ],
   "source": [
    "fig, ax = plt.subplots(1, 1, figsize=(5, 4))\n",
    "ax.hist(replays)\n",
    "[spin.set_visible(False) for spin in list(ax.spines.values())]\n",
    "ax.spines['bottom'].set_visible(True)\n",
    "ax.spines['left'].set_visible(True)\n",
    "ax.set_facecolor(\"none\")\n",
    "ax.set_xlabel('pvalue')\n",
    "ax.set_title('distribution of pvalue')\n",
    "plt.show()"
   ]
  },
  {
   "cell_type": "code",
   "execution_count": 58,
   "id": "4738caac-3692-4d5e-a203-1bcbd36c96bd",
   "metadata": {},
   "outputs": [
    {
     "data": {
      "text/plain": [
       "KstestResult(statistic=0.6134127868406709, pvalue=4.70019809957193e-109, statistic_location=0.056587213159329075, statistic_sign=1)"
      ]
     },
     "execution_count": 58,
     "metadata": {},
     "output_type": "execute_result"
    }
   ],
   "source": [
    "stats.kstest(replays, 'uniform', args=(0, 1))"
   ]
  },
  {
   "cell_type": "markdown",
   "id": "0cf9e199-514b-4ed2-b489-56c0af733965",
   "metadata": {},
   "source": [
    "#### プログラム3.7 クラスターA/B テストデータの分析\n",
    "本書では次のようなコードになっています\n",
    "```\n",
    "import pandas as pd\r",
    "import statsmodels. formula. api as smf\n",
    "\n",
    "# データの読み込み\n",
    "df_cluster_trial= pd.read_csv(URL_CLUSTER_TRIAL)\n",
    "df_cluster_trial\n",
    "# 分散を補正して推定\n",
    "result = smf.ols(\"is_click ~ is_treatment\", data=df_cluster).fit()\n",
    "result_correted = result.get_robustcov_results('cluster', groups=df_cluster['uid'])\n",
    "result_correted.summary().tables[1]\n",
    "```"
   ]
  },
  {
   "cell_type": "markdown",
   "id": "5e74c78a-35e5-4cd8-9cab-d284c2aed42a",
   "metadata": {},
   "source": [
    "- データの読み込み"
   ]
  },
  {
   "cell_type": "code",
   "execution_count": 63,
   "id": "4f9b7c6a-64b6-44e8-93c2-e03ab07f7a9e",
   "metadata": {},
   "outputs": [
    {
     "data": {
      "text/html": [
       "<div>\n",
       "<style scoped>\n",
       "    .dataframe tbody tr th:only-of-type {\n",
       "        vertical-align: middle;\n",
       "    }\n",
       "\n",
       "    .dataframe tbody tr th {\n",
       "        vertical-align: top;\n",
       "    }\n",
       "\n",
       "    .dataframe thead th {\n",
       "        text-align: right;\n",
       "    }\n",
       "</style>\n",
       "<table border=\"1\" class=\"dataframe\">\n",
       "  <thead>\n",
       "    <tr style=\"text-align: right;\">\n",
       "      <th></th>\n",
       "      <th>uid</th>\n",
       "      <th>is_treatment</th>\n",
       "      <th>is_click</th>\n",
       "    </tr>\n",
       "  </thead>\n",
       "  <tbody>\n",
       "    <tr>\n",
       "      <th>0</th>\n",
       "      <td>0</td>\n",
       "      <td>0</td>\n",
       "      <td>1</td>\n",
       "    </tr>\n",
       "    <tr>\n",
       "      <th>1</th>\n",
       "      <td>0</td>\n",
       "      <td>0</td>\n",
       "      <td>0</td>\n",
       "    </tr>\n",
       "    <tr>\n",
       "      <th>2</th>\n",
       "      <td>0</td>\n",
       "      <td>0</td>\n",
       "      <td>0</td>\n",
       "    </tr>\n",
       "    <tr>\n",
       "      <th>3</th>\n",
       "      <td>0</td>\n",
       "      <td>0</td>\n",
       "      <td>0</td>\n",
       "    </tr>\n",
       "    <tr>\n",
       "      <th>4</th>\n",
       "      <td>0</td>\n",
       "      <td>0</td>\n",
       "      <td>0</td>\n",
       "    </tr>\n",
       "    <tr>\n",
       "      <th>...</th>\n",
       "      <td>...</td>\n",
       "      <td>...</td>\n",
       "      <td>...</td>\n",
       "    </tr>\n",
       "    <tr>\n",
       "      <th>10635</th>\n",
       "      <td>199</td>\n",
       "      <td>1</td>\n",
       "      <td>0</td>\n",
       "    </tr>\n",
       "    <tr>\n",
       "      <th>10636</th>\n",
       "      <td>199</td>\n",
       "      <td>1</td>\n",
       "      <td>0</td>\n",
       "    </tr>\n",
       "    <tr>\n",
       "      <th>10637</th>\n",
       "      <td>199</td>\n",
       "      <td>1</td>\n",
       "      <td>1</td>\n",
       "    </tr>\n",
       "    <tr>\n",
       "      <th>10638</th>\n",
       "      <td>199</td>\n",
       "      <td>1</td>\n",
       "      <td>0</td>\n",
       "    </tr>\n",
       "    <tr>\n",
       "      <th>10639</th>\n",
       "      <td>199</td>\n",
       "      <td>1</td>\n",
       "      <td>1</td>\n",
       "    </tr>\n",
       "  </tbody>\n",
       "</table>\n",
       "<p>10640 rows × 3 columns</p>\n",
       "</div>"
      ],
      "text/plain": [
       "       uid  is_treatment  is_click\n",
       "0        0             0         1\n",
       "1        0             0         0\n",
       "2        0             0         0\n",
       "3        0             0         0\n",
       "4        0             0         0\n",
       "...    ...           ...       ...\n",
       "10635  199             1         0\n",
       "10636  199             1         0\n",
       "10637  199             1         1\n",
       "10638  199             1         0\n",
       "10639  199             1         1\n",
       "\n",
       "[10640 rows x 3 columns]"
      ]
     },
     "execution_count": 63,
     "metadata": {},
     "output_type": "execute_result"
    }
   ],
   "source": [
    "# データの読み込み\n",
    "df_cluster_trial= pd.read_csv(URL_CLUSTER_TRIAL)\n",
    "df_cluster_trial"
   ]
  },
  {
   "cell_type": "markdown",
   "id": "5655e01e-2474-4a5f-897b-82ecf9020af7",
   "metadata": {},
   "source": [
    "- 分散を補正する"
   ]
  },
  {
   "cell_type": "code",
   "execution_count": 62,
   "id": "da967383-69a1-45bc-ad5a-f7e89cb81584",
   "metadata": {},
   "outputs": [
    {
     "data": {
      "text/html": [
       "<table class=\"simpletable\">\n",
       "<tr>\n",
       "        <td></td>          <th>coef</th>     <th>std err</th>      <th>t</th>      <th>P>|t|</th>  <th>[0.025</th>    <th>0.975]</th>  \n",
       "</tr>\n",
       "<tr>\n",
       "  <th>Intercept</th>    <td>    0.5216</td> <td>    0.033</td> <td>   15.632</td> <td> 0.000</td> <td>    0.456</td> <td>    0.587</td>\n",
       "</tr>\n",
       "<tr>\n",
       "  <th>is_treatment</th> <td>   -0.0232</td> <td>    0.043</td> <td>   -0.539</td> <td> 0.590</td> <td>   -0.108</td> <td>    0.062</td>\n",
       "</tr>\n",
       "</table>"
      ],
      "text/plain": [
       "<class 'statsmodels.iolib.table.SimpleTable'>"
      ]
     },
     "execution_count": 62,
     "metadata": {},
     "output_type": "execute_result"
    }
   ],
   "source": [
    "# 分散を補正して推定\n",
    "result = smf.ols(\"is_click ~ is_treatment\", data=df_cluster).fit()\n",
    "result_correted = result.get_robustcov_results('cluster', groups=df_cluster['uid'])\n",
    "result_correted.summary().tables[1]"
   ]
  },
  {
   "cell_type": "markdown",
   "id": "40dd5017-bf6a-470d-928a-b8689d1c6162",
   "metadata": {},
   "source": [
    "#### プログラム3.8 クラスターA/BテストデータのA/Aテスト\n",
    "\n",
    "```\n",
    "def assign_treatment_randomly(uid: int, salt: str):\n",
    "    return int(hashlib.sha256(f\"{salt}_{uid}\".encode()).hexdigest(), 16) % 2\n",
    "\n",
    "rng = np.random.default_rng(seed=0)\n",
    "replays = []\n",
    "for i in tqdm(range(300)):\n",
    "    # 擬似的な割当\n",
    "    salt = f'salt{i}'\n",
    "    df_cluster['is_treatment_in_aa'] = df_cluster['uid'].apply(assign_treatment_randomly, salt=salt)\n",
    "    # 擬似的な割当の下での分析\n",
    "    result = smf.ols(\"is_click ~ is_treatment_in_aa\", data=df_cluster).fit()\n",
    "    result_correted = result.get_robustcov_results('cluster', groups=df_cluster['uid'])\n",
    "    pvalue = result_correted.pvalues[result_correted.model.exog_names.index('is_treatment_in_aa')]\n",
    "    # 情報の格納\n",
    "    replays.append(pvalue)\n",
    "```"
   ]
  },
  {
   "cell_type": "code",
   "execution_count": 64,
   "id": "e95ae530-aa40-47c1-a968-0099fc1a5a1e",
   "metadata": {},
   "outputs": [
    {
     "name": "stderr",
     "output_type": "stream",
     "text": [
      "100%|████████████████████████████████████████████████████████████████████████████████████████| 300/300 [00:13<00:00, 22.38it/s]\n"
     ]
    }
   ],
   "source": [
    "def assign_treatment_randomly(uid: int, salt: str):\n",
    "    return int(hashlib.sha256(f\"{salt}_{uid}\".encode()).hexdigest(), 16) % 2\n",
    "\n",
    "rng = np.random.default_rng(seed=0)\n",
    "replays = []\n",
    "for i in tqdm(range(300)):\n",
    "    # 擬似的な割当\n",
    "    salt = f'salt{i}'\n",
    "    df_cluster['is_treatment_in_aa'] = df_cluster['uid'].apply(assign_treatment_randomly, salt=salt)\n",
    "    # 擬似的な割当の下での分析\n",
    "    result = smf.ols(\"is_click ~ is_treatment_in_aa\", data=df_cluster).fit()\n",
    "    result_correted = result.get_robustcov_results('cluster', groups=df_cluster['uid'])\n",
    "    pvalue = result_correted.pvalues[result_correted.model.exog_names.index('is_treatment_in_aa')]\n",
    "    # 情報の格納\n",
    "    replays.append(pvalue)"
   ]
  },
  {
   "cell_type": "code",
   "execution_count": 65,
   "id": "0a06f42f-a4ca-432e-b365-a005a520c754",
   "metadata": {},
   "outputs": [
    {
     "data": {
      "image/png": "[encoded data removed]",
      "text/plain": [
       "<Figure size 500x400 with 1 Axes>"
      ]
     },
     "metadata": {},
     "output_type": "display_data"
    }
   ],
   "source": [
    "fig, ax = plt.subplots(1, 1, figsize=(5, 4))\n",
    "ax.hist(replays)\n",
    "[spin.set_visible(False) for spin in list(ax.spines.values())]\n",
    "ax.spines['bottom'].set_visible(True)\n",
    "ax.spines['left'].set_visible(True)\n",
    "ax.set_facecolor(\"none\")\n",
    "ax.set_xlabel('pvalue')\n",
    "ax.set_title('distribution of pvalue')\n",
    "plt.show()"
   ]
  },
  {
   "cell_type": "code",
   "execution_count": 67,
   "id": "f343d6ea-48be-42fc-ac59-591c0c4afc26",
   "metadata": {},
   "outputs": [
    {
     "data": {
      "text/plain": [
       "KstestResult(statistic=0.04319182166835675, pvalue=0.6145727388836066, statistic_location=0.08347484499830993, statistic_sign=1)"
      ]
     },
     "execution_count": 67,
     "metadata": {},
     "output_type": "execute_result"
    }
   ],
   "source": [
    "# 本文には掲載していない\n",
    "stats.kstest(replays, 'uniform', args=(0, 1))"
   ]
  },
  {
   "cell_type": "markdown",
   "id": "05778fa1-9fbb-4fd6-b3ad-8d65c5fcebf2",
   "metadata": {},
   "source": [
    "### 層化A/Bテスト Stratified A/B Test"
   ]
  },
  {
   "cell_type": "markdown",
   "id": "9c8cb585-996d-43aa-bdbc-ca2e80056057",
   "metadata": {},
   "source": [
    "#### プログラム3.9 シミュレーション：ランダムな割り当てをした場合の性別割合の偏り\n",
    "本文では次のように掲載しています。\n",
    "```\n",
    "rng = np.random.default_rng(seed=0)\n",
    "ratio = [rng.choice([0, 1], p = [0.5, 0.5], size = 500).mean() for _ in range(100)]\n",
    "plt.hist(ratio)\n",
    "plt.xlabel('ratio of man')\n",
    "plt.ylabel('probablity')\n",
    "plt.show()\n",
    "```"
   ]
  },
  {
   "cell_type": "code",
   "execution_count": 79,
   "id": "ee4ac1a5-46c7-435b-881a-55c0c94ae419",
   "metadata": {},
   "outputs": [
    {
     "data": {
      "image/png": "[encoded data removed]",
      "text/plain": [
       "<Figure size 640x480 with 1 Axes>"
      ]
     },
     "metadata": {},
     "output_type": "display_data"
    }
   ],
   "source": [
    "rng = np.random.default_rng(seed=0)\n",
    "ratio = [rng.choice([0, 1], p = [0.5, 0.5], size = 500).mean() for _ in range(100)]\n",
    "plt.hist(ratio)\n",
    "plt.xlabel('ratio of man')\n",
    "plt.ylabel('probablity')\n",
    "plt.show()"
   ]
  },
  {
   "cell_type": "markdown",
   "id": "f41b995a-ceba-41e0-b205-318ca99db489",
   "metadata": {},
   "source": [
    "#### プログラム3.10 層化A/B テストにおけるランダムな割り当て\n",
    "本文では次のように掲載しています。\n",
    "\n",
    "```\n",
    "import pandas as pd\r",
    "import seaborn as sns\r",
    "import numpy as np\n",
    "\n",
    "def stratified_assiginment(df_group, ratio_treat, rng, column_name):\n",
    "    num_samples = round(len(df_group) * ratio_treat)\n",
    "    df_group[column_name] = 0\n",
    "    treat_indices = rng.choice(df_group.index, num_samples, replace=False)\n",
    "    df_group.loc[treat_indices, column_name] = 1\n",
    "    return df_group\n",
    "\n",
    "df_titanic = sns.load_dataset('titanic')[['survived', 'sex', 'pclass']]\n",
    "rng = np.random.default_rng(11)\n",
    "df_titanic_assigned = (\n",
    "    df_titanic\n",
    "    .groupby(['sex', 'pclass'], group_keys=False)\n",
    "    .apply(\n",
    "        stratified_assiginment, \n",
    "        ratio_treat = 0.3, column_name = 'is_treat', rng = rng\n",
    "    )\n",
    ")\n",
    "```"
   ]
  },
  {
   "cell_type": "code",
   "execution_count": 80,
   "id": "e64be9b9-3a93-4030-a26b-067065d32db2",
   "metadata": {},
   "outputs": [
    {
     "data": {
      "text/html": [
       "<div>\n",
       "<style scoped>\n",
       "    .dataframe tbody tr th:only-of-type {\n",
       "        vertical-align: middle;\n",
       "    }\n",
       "\n",
       "    .dataframe tbody tr th {\n",
       "        vertical-align: top;\n",
       "    }\n",
       "\n",
       "    .dataframe thead th {\n",
       "        text-align: right;\n",
       "    }\n",
       "</style>\n",
       "<table border=\"1\" class=\"dataframe\">\n",
       "  <thead>\n",
       "    <tr style=\"text-align: right;\">\n",
       "      <th></th>\n",
       "      <th>survived</th>\n",
       "      <th>sex</th>\n",
       "      <th>pclass</th>\n",
       "    </tr>\n",
       "  </thead>\n",
       "  <tbody>\n",
       "    <tr>\n",
       "      <th>0</th>\n",
       "      <td>0</td>\n",
       "      <td>male</td>\n",
       "      <td>3</td>\n",
       "    </tr>\n",
       "    <tr>\n",
       "      <th>1</th>\n",
       "      <td>1</td>\n",
       "      <td>female</td>\n",
       "      <td>1</td>\n",
       "    </tr>\n",
       "    <tr>\n",
       "      <th>2</th>\n",
       "      <td>1</td>\n",
       "      <td>female</td>\n",
       "      <td>3</td>\n",
       "    </tr>\n",
       "    <tr>\n",
       "      <th>3</th>\n",
       "      <td>1</td>\n",
       "      <td>female</td>\n",
       "      <td>1</td>\n",
       "    </tr>\n",
       "    <tr>\n",
       "      <th>4</th>\n",
       "      <td>0</td>\n",
       "      <td>male</td>\n",
       "      <td>3</td>\n",
       "    </tr>\n",
       "    <tr>\n",
       "      <th>...</th>\n",
       "      <td>...</td>\n",
       "      <td>...</td>\n",
       "      <td>...</td>\n",
       "    </tr>\n",
       "    <tr>\n",
       "      <th>886</th>\n",
       "      <td>0</td>\n",
       "      <td>male</td>\n",
       "      <td>2</td>\n",
       "    </tr>\n",
       "    <tr>\n",
       "      <th>887</th>\n",
       "      <td>1</td>\n",
       "      <td>female</td>\n",
       "      <td>1</td>\n",
       "    </tr>\n",
       "    <tr>\n",
       "      <th>888</th>\n",
       "      <td>0</td>\n",
       "      <td>female</td>\n",
       "      <td>3</td>\n",
       "    </tr>\n",
       "    <tr>\n",
       "      <th>889</th>\n",
       "      <td>1</td>\n",
       "      <td>male</td>\n",
       "      <td>1</td>\n",
       "    </tr>\n",
       "    <tr>\n",
       "      <th>890</th>\n",
       "      <td>0</td>\n",
       "      <td>male</td>\n",
       "      <td>3</td>\n",
       "    </tr>\n",
       "  </tbody>\n",
       "</table>\n",
       "<p>891 rows × 3 columns</p>\n",
       "</div>"
      ],
      "text/plain": [
       "     survived     sex  pclass\n",
       "0           0    male       3\n",
       "1           1  female       1\n",
       "2           1  female       3\n",
       "3           1  female       1\n",
       "4           0    male       3\n",
       "..        ...     ...     ...\n",
       "886         0    male       2\n",
       "887         1  female       1\n",
       "888         0  female       3\n",
       "889         1    male       1\n",
       "890         0    male       3\n",
       "\n",
       "[891 rows x 3 columns]"
      ]
     },
     "execution_count": 80,
     "metadata": {},
     "output_type": "execute_result"
    }
   ],
   "source": [
    "df_titanic = sns.load_dataset('titanic')[['survived', 'sex', 'pclass']]\n",
    "df_titanic"
   ]
  },
  {
   "cell_type": "code",
   "execution_count": 81,
   "id": "3845d610-5ad2-4cc8-ae2a-fa0d3f591959",
   "metadata": {},
   "outputs": [],
   "source": [
    "# グループごとに無作為抽出による割当を行う関数\n",
    "def stratified_assiginment(df_group: pd.DataFrame, ratio_treat: float, rng: np.random.Generator, column_name = 'is_treat',):\n",
    "    num_samples = round(len(df_group) * ratio_treat)\n",
    "    df_group[column_name] = 0\n",
    "    treat_indices = rng.choice(df_group.index, num_samples, replace=False)\n",
    "    df_group.loc[treat_indices, column_name] = 1\n",
    "    return df_group\n",
    "\n",
    "# groupbyメソッドを用いて無作為抽出\n",
    "rng = np.random.default_rng(11)\n",
    "df_titanic_assigned = (\n",
    "    df_titanic\n",
    "    .groupby(['sex', 'pclass'], group_keys=False)\n",
    "    .apply(\n",
    "        stratified_assiginment, \n",
    "        ratio_treat = 0.3, column_name = 'is_treat', rng = rng\n",
    "    )\n",
    ")"
   ]
  },
  {
   "cell_type": "code",
   "execution_count": 82,
   "id": "7421cd43-11d1-429b-acbc-cb065bbd4d7f",
   "metadata": {},
   "outputs": [
    {
     "data": {
      "text/html": [
       "<div>\n",
       "<style scoped>\n",
       "    .dataframe tbody tr th:only-of-type {\n",
       "        vertical-align: middle;\n",
       "    }\n",
       "\n",
       "    .dataframe tbody tr th {\n",
       "        vertical-align: top;\n",
       "    }\n",
       "\n",
       "    .dataframe thead th {\n",
       "        text-align: right;\n",
       "    }\n",
       "</style>\n",
       "<table border=\"1\" class=\"dataframe\">\n",
       "  <thead>\n",
       "    <tr style=\"text-align: right;\">\n",
       "      <th></th>\n",
       "      <th>survived</th>\n",
       "      <th>sex</th>\n",
       "      <th>pclass</th>\n",
       "      <th>is_treat</th>\n",
       "    </tr>\n",
       "  </thead>\n",
       "  <tbody>\n",
       "    <tr>\n",
       "      <th>0</th>\n",
       "      <td>0</td>\n",
       "      <td>male</td>\n",
       "      <td>3</td>\n",
       "      <td>0</td>\n",
       "    </tr>\n",
       "    <tr>\n",
       "      <th>1</th>\n",
       "      <td>1</td>\n",
       "      <td>female</td>\n",
       "      <td>1</td>\n",
       "      <td>0</td>\n",
       "    </tr>\n",
       "    <tr>\n",
       "      <th>2</th>\n",
       "      <td>1</td>\n",
       "      <td>female</td>\n",
       "      <td>3</td>\n",
       "      <td>1</td>\n",
       "    </tr>\n",
       "    <tr>\n",
       "      <th>3</th>\n",
       "      <td>1</td>\n",
       "      <td>female</td>\n",
       "      <td>1</td>\n",
       "      <td>0</td>\n",
       "    </tr>\n",
       "    <tr>\n",
       "      <th>4</th>\n",
       "      <td>0</td>\n",
       "      <td>male</td>\n",
       "      <td>3</td>\n",
       "      <td>0</td>\n",
       "    </tr>\n",
       "    <tr>\n",
       "      <th>...</th>\n",
       "      <td>...</td>\n",
       "      <td>...</td>\n",
       "      <td>...</td>\n",
       "      <td>...</td>\n",
       "    </tr>\n",
       "    <tr>\n",
       "      <th>886</th>\n",
       "      <td>0</td>\n",
       "      <td>male</td>\n",
       "      <td>2</td>\n",
       "      <td>1</td>\n",
       "    </tr>\n",
       "    <tr>\n",
       "      <th>887</th>\n",
       "      <td>1</td>\n",
       "      <td>female</td>\n",
       "      <td>1</td>\n",
       "      <td>0</td>\n",
       "    </tr>\n",
       "    <tr>\n",
       "      <th>888</th>\n",
       "      <td>0</td>\n",
       "      <td>female</td>\n",
       "      <td>3</td>\n",
       "      <td>0</td>\n",
       "    </tr>\n",
       "    <tr>\n",
       "      <th>889</th>\n",
       "      <td>1</td>\n",
       "      <td>male</td>\n",
       "      <td>1</td>\n",
       "      <td>0</td>\n",
       "    </tr>\n",
       "    <tr>\n",
       "      <th>890</th>\n",
       "      <td>0</td>\n",
       "      <td>male</td>\n",
       "      <td>3</td>\n",
       "      <td>0</td>\n",
       "    </tr>\n",
       "  </tbody>\n",
       "</table>\n",
       "<p>891 rows × 4 columns</p>\n",
       "</div>"
      ],
      "text/plain": [
       "     survived     sex  pclass  is_treat\n",
       "0           0    male       3         0\n",
       "1           1  female       1         0\n",
       "2           1  female       3         1\n",
       "3           1  female       1         0\n",
       "4           0    male       3         0\n",
       "..        ...     ...     ...       ...\n",
       "886         0    male       2         1\n",
       "887         1  female       1         0\n",
       "888         0  female       3         0\n",
       "889         1    male       1         0\n",
       "890         0    male       3         0\n",
       "\n",
       "[891 rows x 4 columns]"
      ]
     },
     "execution_count": 82,
     "metadata": {},
     "output_type": "execute_result"
    }
   ],
   "source": [
    "df_titanic_assigned"
   ]
  },
  {
   "cell_type": "code",
   "execution_count": 83,
   "id": "50f14069-7522-487d-80e3-539cc9a72675",
   "metadata": {},
   "outputs": [
    {
     "data": {
      "text/plain": [
       "sex     pclass\n",
       "female  1         0.297872\n",
       "        2         0.302632\n",
       "        3         0.298611\n",
       "male    1         0.303279\n",
       "        2         0.296296\n",
       "        3         0.299712\n",
       "Name: is_treat, dtype: float64"
      ]
     },
     "execution_count": 83,
     "metadata": {},
     "output_type": "execute_result"
    }
   ],
   "source": [
    "df_titanic_assigned.groupby(['sex', 'pclass'])['is_treat'].mean()"
   ]
  },
  {
   "cell_type": "markdown",
   "id": "4a8da8bf-da6d-4b07-a6a4-640fa002e57e",
   "metadata": {},
   "source": [
    "#### 層化A/Bテストの分析の実装\n",
    "\n",
    "- データの読み込み"
   ]
  },
  {
   "cell_type": "code",
   "execution_count": 85,
   "id": "e66bb7d7-5526-4556-9fe0-d2f34763c72c",
   "metadata": {},
   "outputs": [
    {
     "data": {
      "text/html": [
       "<div>\n",
       "<style scoped>\n",
       "    .dataframe tbody tr th:only-of-type {\n",
       "        vertical-align: middle;\n",
       "    }\n",
       "\n",
       "    .dataframe tbody tr th {\n",
       "        vertical-align: top;\n",
       "    }\n",
       "\n",
       "    .dataframe thead th {\n",
       "        text-align: right;\n",
       "    }\n",
       "</style>\n",
       "<table border=\"1\" class=\"dataframe\">\n",
       "  <thead>\n",
       "    <tr style=\"text-align: right;\">\n",
       "      <th></th>\n",
       "      <th>is_treatment</th>\n",
       "      <th>group_name</th>\n",
       "      <th>y</th>\n",
       "    </tr>\n",
       "  </thead>\n",
       "  <tbody>\n",
       "    <tr>\n",
       "      <th>0</th>\n",
       "      <td>0</td>\n",
       "      <td>0</td>\n",
       "      <td>-7.094851</td>\n",
       "    </tr>\n",
       "    <tr>\n",
       "      <th>1</th>\n",
       "      <td>0</td>\n",
       "      <td>0</td>\n",
       "      <td>-2.853676</td>\n",
       "    </tr>\n",
       "    <tr>\n",
       "      <th>2</th>\n",
       "      <td>1</td>\n",
       "      <td>0</td>\n",
       "      <td>-3.024156</td>\n",
       "    </tr>\n",
       "    <tr>\n",
       "      <th>3</th>\n",
       "      <td>1</td>\n",
       "      <td>0</td>\n",
       "      <td>-4.989469</td>\n",
       "    </tr>\n",
       "    <tr>\n",
       "      <th>4</th>\n",
       "      <td>1</td>\n",
       "      <td>0</td>\n",
       "      <td>-2.724840</td>\n",
       "    </tr>\n",
       "    <tr>\n",
       "      <th>...</th>\n",
       "      <td>...</td>\n",
       "      <td>...</td>\n",
       "      <td>...</td>\n",
       "    </tr>\n",
       "    <tr>\n",
       "      <th>104</th>\n",
       "      <td>0</td>\n",
       "      <td>1</td>\n",
       "      <td>-9.971287</td>\n",
       "    </tr>\n",
       "    <tr>\n",
       "      <th>105</th>\n",
       "      <td>1</td>\n",
       "      <td>1</td>\n",
       "      <td>-10.593688</td>\n",
       "    </tr>\n",
       "    <tr>\n",
       "      <th>106</th>\n",
       "      <td>1</td>\n",
       "      <td>1</td>\n",
       "      <td>-6.990840</td>\n",
       "    </tr>\n",
       "    <tr>\n",
       "      <th>107</th>\n",
       "      <td>0</td>\n",
       "      <td>1</td>\n",
       "      <td>-7.833720</td>\n",
       "    </tr>\n",
       "    <tr>\n",
       "      <th>108</th>\n",
       "      <td>1</td>\n",
       "      <td>1</td>\n",
       "      <td>-9.780341</td>\n",
       "    </tr>\n",
       "  </tbody>\n",
       "</table>\n",
       "<p>109 rows × 3 columns</p>\n",
       "</div>"
      ],
      "text/plain": [
       "     is_treatment  group_name          y\n",
       "0               0           0  -7.094851\n",
       "1               0           0  -2.853676\n",
       "2               1           0  -3.024156\n",
       "3               1           0  -4.989469\n",
       "4               1           0  -2.724840\n",
       "..            ...         ...        ...\n",
       "104             0           1  -9.971287\n",
       "105             1           1 -10.593688\n",
       "106             1           1  -6.990840\n",
       "107             0           1  -7.833720\n",
       "108             1           1  -9.780341\n",
       "\n",
       "[109 rows x 3 columns]"
      ]
     },
     "execution_count": 85,
     "metadata": {},
     "output_type": "execute_result"
    }
   ],
   "source": [
    "df_stratified = pd.read_csv(URL_STRATIFIED_TRIAL)\n",
    "df_stratified"
   ]
  },
  {
   "cell_type": "markdown",
   "id": "ab72418b-026a-4e66-9ddf-81f152b4a3b6",
   "metadata": {},
   "source": [
    "- グループごとの平均的なアウトカム"
   ]
  },
  {
   "cell_type": "code",
   "execution_count": 86,
   "id": "ae65f1e8-7119-434a-86e1-50063370fd70",
   "metadata": {},
   "outputs": [
    {
     "data": {
      "text/html": [
       "<div>\n",
       "<style scoped>\n",
       "    .dataframe tbody tr th:only-of-type {\n",
       "        vertical-align: middle;\n",
       "    }\n",
       "\n",
       "    .dataframe tbody tr th {\n",
       "        vertical-align: top;\n",
       "    }\n",
       "\n",
       "    .dataframe thead th {\n",
       "        text-align: right;\n",
       "    }\n",
       "</style>\n",
       "<table border=\"1\" class=\"dataframe\">\n",
       "  <thead>\n",
       "    <tr style=\"text-align: right;\">\n",
       "      <th></th>\n",
       "      <th></th>\n",
       "      <th>y</th>\n",
       "    </tr>\n",
       "    <tr>\n",
       "      <th>group_name</th>\n",
       "      <th>is_treatment</th>\n",
       "      <th></th>\n",
       "    </tr>\n",
       "  </thead>\n",
       "  <tbody>\n",
       "    <tr>\n",
       "      <th rowspan=\"2\" valign=\"top\">0</th>\n",
       "      <th>0</th>\n",
       "      <td>-4.712623</td>\n",
       "    </tr>\n",
       "    <tr>\n",
       "      <th>1</th>\n",
       "      <td>-4.231232</td>\n",
       "    </tr>\n",
       "    <tr>\n",
       "      <th rowspan=\"2\" valign=\"top\">1</th>\n",
       "      <th>0</th>\n",
       "      <td>-10.039635</td>\n",
       "    </tr>\n",
       "    <tr>\n",
       "      <th>1</th>\n",
       "      <td>-9.354120</td>\n",
       "    </tr>\n",
       "  </tbody>\n",
       "</table>\n",
       "</div>"
      ],
      "text/plain": [
       "                                 y\n",
       "group_name is_treatment           \n",
       "0          0             -4.712623\n",
       "           1             -4.231232\n",
       "1          0            -10.039635\n",
       "           1             -9.354120"
      ]
     },
     "execution_count": 86,
     "metadata": {},
     "output_type": "execute_result"
    }
   ],
   "source": [
    "df_stratified.groupby(['group_name', 'is_treatment']).mean()"
   ]
  },
  {
   "cell_type": "markdown",
   "id": "4f33f3e1-1e08-4c6a-8c14-75107e069e14",
   "metadata": {},
   "source": [
    "#### プログラム3.11 層化A/B テストの分析（通常のA/B テストと同様に行った場合）\n",
    "本書では次のように掲載しています。\n",
    "```\n",
    "import pandas as pd\r",
    "import statsmodels. formula. api as smf\n",
    "\n",
    "df_stratified = pd.read_csv(URL_STRATIFIED_TRIAL)\n",
    "result = smf.ols(\"y ~ is_treatment\", data=df_stratified).fit()\n",
    "result.summary().tables[1]\n",
    "```"
   ]
  },
  {
   "cell_type": "code",
   "execution_count": 87,
   "id": "c9bd39f9-b5e4-447d-ac83-5ebca708290d",
   "metadata": {},
   "outputs": [
    {
     "data": {
      "text/html": [
       "<table class=\"simpletable\">\n",
       "<tr>\n",
       "        <td></td>          <th>coef</th>     <th>std err</th>      <th>t</th>      <th>P>|t|</th>  <th>[0.025</th>    <th>0.975]</th>  \n",
       "</tr>\n",
       "<tr>\n",
       "  <th>Intercept</th>    <td>   -5.9951</td> <td>    0.332</td> <td>  -18.036</td> <td> 0.000</td> <td>   -6.654</td> <td>   -5.336</td>\n",
       "</tr>\n",
       "<tr>\n",
       "  <th>is_treatment</th> <td>    0.5530</td> <td>    0.468</td> <td>    1.182</td> <td> 0.240</td> <td>   -0.375</td> <td>    1.481</td>\n",
       "</tr>\n",
       "</table>"
      ],
      "text/plain": [
       "<class 'statsmodels.iolib.table.SimpleTable'>"
      ]
     },
     "execution_count": 87,
     "metadata": {},
     "output_type": "execute_result"
    }
   ],
   "source": [
    "result = smf.ols(\"y ~ is_treatment\", data=df_stratified).fit()\n",
    "result.summary().tables[1]"
   ]
  },
  {
   "cell_type": "markdown",
   "id": "6caf6396-ef9b-484e-9e29-0071e8f109c7",
   "metadata": {},
   "source": [
    "#### プログラム3.11 層化A/B テストの分析\n",
    "```\n",
    "result = smf.ols(\"y ~ is_treatment + C(group_name)\", data=df_stratified).fit()\n",
    "result.summary().tables[1]\n",
    "```"
   ]
  },
  {
   "cell_type": "code",
   "execution_count": 88,
   "id": "52ee7418-aa7e-4072-88ea-2c48a8db0e10",
   "metadata": {},
   "outputs": [
    {
     "data": {
      "text/html": [
       "<table class=\"simpletable\">\n",
       "<tr>\n",
       "           <td></td>             <th>coef</th>     <th>std err</th>      <th>t</th>      <th>P>|t|</th>  <th>[0.025</th>    <th>0.975]</th>  \n",
       "</tr>\n",
       "<tr>\n",
       "  <th>Intercept</th>          <td>   -4.7373</td> <td>    0.141</td> <td>  -33.649</td> <td> 0.000</td> <td>   -5.016</td> <td>   -4.458</td>\n",
       "</tr>\n",
       "<tr>\n",
       "  <th>C(group_name)[T.1]</th> <td>   -5.2247</td> <td>    0.216</td> <td>  -24.182</td> <td> 0.000</td> <td>   -5.653</td> <td>   -4.796</td>\n",
       "</tr>\n",
       "<tr>\n",
       "  <th>is_treatment</th>       <td>    0.5301</td> <td>    0.184</td> <td>    2.878</td> <td> 0.005</td> <td>    0.165</td> <td>    0.895</td>\n",
       "</tr>\n",
       "</table>"
      ],
      "text/plain": [
       "<class 'statsmodels.iolib.table.SimpleTable'>"
      ]
     },
     "execution_count": 88,
     "metadata": {},
     "output_type": "execute_result"
    }
   ],
   "source": [
    "result = smf.ols(\"y ~ is_treatment + C(group_name)\", data=df_stratified).fit()\n",
    "result.summary().tables[1]"
   ]
  },
  {
   "cell_type": "markdown",
   "id": "2b49a158-ae52-438f-9f6c-739385080956",
   "metadata": {},
   "source": [
    "## 処置と割当の不一致 A/B テストにおける Non-compliance\n",
    "#### プログラム3.12 Intent to Treat の分析\n",
    "本文では次のように掲載しています。\n",
    "```\n",
    "import pandas as pd\r",
    "import statsmodels. formula. api as smf\n",
    "\n",
    "# データの読み込み\r",
    "df_noncompliance= pd.read_csv(URL_NONCOMPLIANCE)\r",
    "df_noncompliance\r",
    "# Intent to Treatの分析\r",
    "result = smf.ols(\"purchase ~ assignment\", data=df_noncompliance).fit()\r",
    "result.summary().tables[1]\n",
    "```"
   ]
  },
  {
   "cell_type": "markdown",
   "id": "6868c5b6-af42-4a8e-b70c-1bdce44c01e7",
   "metadata": {},
   "source": [
    "- データのimport"
   ]
  },
  {
   "cell_type": "code",
   "execution_count": 129,
   "id": "7cbf28c7-6366-4c24-9342-d5fd8e3a2464",
   "metadata": {},
   "outputs": [
    {
     "data": {
      "text/html": [
       "<div>\n",
       "<style scoped>\n",
       "    .dataframe tbody tr th:only-of-type {\n",
       "        vertical-align: middle;\n",
       "    }\n",
       "\n",
       "    .dataframe tbody tr th {\n",
       "        vertical-align: top;\n",
       "    }\n",
       "\n",
       "    .dataframe thead th {\n",
       "        text-align: right;\n",
       "    }\n",
       "</style>\n",
       "<table border=\"1\" class=\"dataframe\">\n",
       "  <thead>\n",
       "    <tr style=\"text-align: right;\">\n",
       "      <th></th>\n",
       "      <th>assignment</th>\n",
       "      <th>x</th>\n",
       "      <th>is_deliver</th>\n",
       "      <th>purchase</th>\n",
       "    </tr>\n",
       "  </thead>\n",
       "  <tbody>\n",
       "    <tr>\n",
       "      <th>0</th>\n",
       "      <td>0.0</td>\n",
       "      <td>0.017286</td>\n",
       "      <td>0.0</td>\n",
       "      <td>10563.182011</td>\n",
       "    </tr>\n",
       "    <tr>\n",
       "      <th>1</th>\n",
       "      <td>1.0</td>\n",
       "      <td>-0.037921</td>\n",
       "      <td>1.0</td>\n",
       "      <td>8861.781424</td>\n",
       "    </tr>\n",
       "    <tr>\n",
       "      <th>2</th>\n",
       "      <td>1.0</td>\n",
       "      <td>0.056103</td>\n",
       "      <td>0.0</td>\n",
       "      <td>11450.231477</td>\n",
       "    </tr>\n",
       "    <tr>\n",
       "      <th>3</th>\n",
       "      <td>1.0</td>\n",
       "      <td>-0.213583</td>\n",
       "      <td>0.0</td>\n",
       "      <td>8357.833101</td>\n",
       "    </tr>\n",
       "    <tr>\n",
       "      <th>4</th>\n",
       "      <td>0.0</td>\n",
       "      <td>0.023237</td>\n",
       "      <td>0.0</td>\n",
       "      <td>10755.016507</td>\n",
       "    </tr>\n",
       "    <tr>\n",
       "      <th>...</th>\n",
       "      <td>...</td>\n",
       "      <td>...</td>\n",
       "      <td>...</td>\n",
       "      <td>...</td>\n",
       "    </tr>\n",
       "    <tr>\n",
       "      <th>995</th>\n",
       "      <td>0.0</td>\n",
       "      <td>-0.082353</td>\n",
       "      <td>0.0</td>\n",
       "      <td>9127.673875</td>\n",
       "    </tr>\n",
       "    <tr>\n",
       "      <th>996</th>\n",
       "      <td>0.0</td>\n",
       "      <td>-0.108672</td>\n",
       "      <td>0.0</td>\n",
       "      <td>9919.530298</td>\n",
       "    </tr>\n",
       "    <tr>\n",
       "      <th>997</th>\n",
       "      <td>1.0</td>\n",
       "      <td>-0.125113</td>\n",
       "      <td>0.0</td>\n",
       "      <td>9469.139734</td>\n",
       "    </tr>\n",
       "    <tr>\n",
       "      <th>998</th>\n",
       "      <td>1.0</td>\n",
       "      <td>0.140215</td>\n",
       "      <td>1.0</td>\n",
       "      <td>11103.908090</td>\n",
       "    </tr>\n",
       "    <tr>\n",
       "      <th>999</th>\n",
       "      <td>1.0</td>\n",
       "      <td>-0.091654</td>\n",
       "      <td>0.0</td>\n",
       "      <td>9566.498515</td>\n",
       "    </tr>\n",
       "  </tbody>\n",
       "</table>\n",
       "<p>1000 rows × 4 columns</p>\n",
       "</div>"
      ],
      "text/plain": [
       "     assignment         x  is_deliver      purchase\n",
       "0           0.0  0.017286         0.0  10563.182011\n",
       "1           1.0 -0.037921         1.0   8861.781424\n",
       "2           1.0  0.056103         0.0  11450.231477\n",
       "3           1.0 -0.213583         0.0   8357.833101\n",
       "4           0.0  0.023237         0.0  10755.016507\n",
       "..          ...       ...         ...           ...\n",
       "995         0.0 -0.082353         0.0   9127.673875\n",
       "996         0.0 -0.108672         0.0   9919.530298\n",
       "997         1.0 -0.125113         0.0   9469.139734\n",
       "998         1.0  0.140215         1.0  11103.908090\n",
       "999         1.0 -0.091654         0.0   9566.498515\n",
       "\n",
       "[1000 rows x 4 columns]"
      ]
     },
     "execution_count": 129,
     "metadata": {},
     "output_type": "execute_result"
    }
   ],
   "source": [
    "# データの読み込み\n",
    "df_noncompliance= pd.read_csv(URL_NONCOMPLIANCE)\n",
    "df_noncompliance"
   ]
  },
  {
   "cell_type": "code",
   "execution_count": 130,
   "id": "06cc3690-5fc7-4e4b-9702-8e4c2ba27aa0",
   "metadata": {},
   "outputs": [
    {
     "data": {
      "text/html": [
       "<table class=\"simpletable\">\n",
       "<tr>\n",
       "       <td></td>         <th>coef</th>     <th>std err</th>      <th>t</th>      <th>P>|t|</th>  <th>[0.025</th>    <th>0.975]</th>  \n",
       "</tr>\n",
       "<tr>\n",
       "  <th>Intercept</th>  <td> 9918.2820</td> <td>   64.690</td> <td>  153.321</td> <td> 0.000</td> <td> 9791.338</td> <td>    1e+04</td>\n",
       "</tr>\n",
       "<tr>\n",
       "  <th>assignment</th> <td>  197.0536</td> <td>   92.320</td> <td>    2.134</td> <td> 0.033</td> <td>   15.890</td> <td>  378.217</td>\n",
       "</tr>\n",
       "</table>"
      ],
      "text/plain": [
       "<class 'statsmodels.iolib.table.SimpleTable'>"
      ]
     },
     "execution_count": 130,
     "metadata": {},
     "output_type": "execute_result"
    }
   ],
   "source": [
    "# Intent to Treatの分析\n",
    "result = smf.ols(\"purchase ~ assignment\", data=df_noncompliance).fit()\n",
    "result.summary().tables[1]"
   ]
  },
  {
   "cell_type": "markdown",
   "id": "fdd7801f-911a-425d-8a9e-95db8bce58f2",
   "metadata": {},
   "source": [
    "トリートメント群およびコントロール群の平均的な開封割合"
   ]
  },
  {
   "cell_type": "code",
   "execution_count": 131,
   "id": "da99c6c8-b74a-4677-945d-f3941afffe81",
   "metadata": {},
   "outputs": [
    {
     "data": {
      "text/plain": [
       "assignment\n",
       "0.0    0.000000\n",
       "1.0    0.450102\n",
       "Name: is_deliver, dtype: float64"
      ]
     },
     "execution_count": 131,
     "metadata": {},
     "output_type": "execute_result"
    }
   ],
   "source": [
    "df_noncompliance.groupby('assignment')['is_deliver'].mean()"
   ]
  },
  {
   "cell_type": "markdown",
   "id": "eeea6bf7-3e7b-458e-abdd-c492cf3e27e3",
   "metadata": {},
   "source": [
    "####  プログラム3.13 操作変数法の2段階推定による施策効果を復元する分析\n",
    "本文では次のように掲載しています。\n",
    "\n",
    "```\n",
    "from linearmodels.iv import IV2SLS\n",
    "\r",
    "# 操作変数法の2段階推定\r",
    "iv = IV2SLS.from_formula(\"purchase ~ 1 + [is_deliver ~ assignment] + x\", df_noncompliance).fit()\r",
    "iv.summary.tables[1]\n",
    "```"
   ]
  },
  {
   "cell_type": "code",
   "execution_count": 132,
   "id": "cdc7816c-3934-4177-8646-9cbc243c99a0",
   "metadata": {},
   "outputs": [
    {
     "data": {
      "text/html": [
       "<table class=\"simpletable\">\n",
       "<caption>Parameter Estimates</caption>\n",
       "<tr>\n",
       "       <td></td>      <th>Parameter</th> <th>Std. Err.</th> <th>T-stat</th> <th>P-value</th> <th>Lower CI</th> <th>Upper CI</th> \n",
       "</tr>\n",
       "<tr>\n",
       "  <th>Intercept</th>   <td>9943.6</td>    <td>42.853</td>   <td>232.04</td> <td>0.0000</td>   <td>9859.6</td>  <td>1.003e+04</td>\n",
       "</tr>\n",
       "<tr>\n",
       "  <th>x</th>           <td>9714.6</td>    <td>290.72</td>   <td>33.416</td> <td>0.0000</td>   <td>9144.8</td>  <td>1.028e+04</td>\n",
       "</tr>\n",
       "<tr>\n",
       "  <th>is_deliver</th>  <td>533.98</td>    <td>141.26</td>   <td>3.7802</td> <td>0.0002</td>   <td>257.12</td>   <td>810.84</td>  \n",
       "</tr>\n",
       "</table>"
      ],
      "text/plain": [
       "<class 'statsmodels.iolib.table.SimpleTable'>"
      ]
     },
     "execution_count": 132,
     "metadata": {},
     "output_type": "execute_result"
    }
   ],
   "source": [
    "iv = IV2SLS.from_formula(\"purchase ~ 1 + [is_deliver ~ assignment] + x\", df_noncompliance).fit()\n",
    "iv.summary.tables[1]"
   ]
  },
  {
   "cell_type": "markdown",
   "id": "5c1db715-2c10-4616-9c0b-abfcfe4c6a1c",
   "metadata": {},
   "source": [
    "first stage確認"
   ]
  },
  {
   "cell_type": "code",
   "execution_count": 133,
   "id": "be3495bd-b845-4a40-9f8f-2590bfcbcde2",
   "metadata": {},
   "outputs": [
    {
     "data": {
      "text/html": [
       "<table class=\"simpletable\">\n",
       "<caption>First Stage Estimation Results</caption>\n",
       "<tr>\n",
       "               <td></td>              <th>is_deliver</th>\n",
       "</tr>\n",
       "<tr>\n",
       "  <th>R-squared</th>                    <td>0.3018</td>  \n",
       "</tr>\n",
       "<tr>\n",
       "  <th>Partial R-squared</th>            <td>0.2977</td>  \n",
       "</tr>\n",
       "<tr>\n",
       "  <th>Shea's R-squared</th>             <td>0.2977</td>  \n",
       "</tr>\n",
       "<tr>\n",
       "  <th>Partial F-statistic</th>          <td>408.62</td>  \n",
       "</tr>\n",
       "<tr>\n",
       "  <th>P-value (Partial F-stat)</th>     <td>0.0000</td>  \n",
       "</tr>\n",
       "<tr>\n",
       "  <th>Partial F-stat Distn</th>         <td>chi2(1)</td> \n",
       "</tr>\n",
       "<tr>\n",
       "  <th>==========================</th> <td>==========</td>\n",
       "</tr>\n",
       "<tr>\n",
       "  <th>Intercept</th>                    <td>0.0009</td>  \n",
       "</tr>\n",
       "<tr>\n",
       "  <th></th>                            <td>(0.5299)</td> \n",
       "</tr>\n",
       "<tr>\n",
       "  <th>x</th>                            <td>0.3463</td>  \n",
       "</tr>\n",
       "<tr>\n",
       "  <th></th>                            <td>(3.5060)</td> \n",
       "</tr>\n",
       "<tr>\n",
       "  <th>assignment</th>                   <td>0.4516</td>  \n",
       "</tr>\n",
       "<tr>\n",
       "  <th></th>                            <td>(20.214)</td> \n",
       "</tr>\n",
       "</table><br/><br/>T-stats reported in parentheses<br/>T-stats use same covariance type as original model<br/>id: 0x13107a670"
      ],
      "text/plain": [
       "    First Stage Estimation Results   \n",
       "=====================================\n",
       "                           is_deliver\n",
       "-------------------------------------\n",
       "R-squared                      0.3018\n",
       "Partial R-squared              0.2977\n",
       "Shea's R-squared               0.2977\n",
       "Partial F-statistic            408.62\n",
       "P-value (Partial F-stat)       0.0000\n",
       "Partial F-stat Distn          chi2(1)\n",
       "========================== ==========\n",
       "Intercept                      0.0009\n",
       "                             (0.5299)\n",
       "x                              0.3463\n",
       "                             (3.5060)\n",
       "assignment                     0.4516\n",
       "                             (20.214)\n",
       "-------------------------------------\n",
       "\n",
       "T-stats reported in parentheses\n",
       "T-stats use same covariance type as original model\n",
       "FirstStageResults, id: 0x13107a670"
      ]
     },
     "execution_count": 133,
     "metadata": {},
     "output_type": "execute_result"
    }
   ],
   "source": [
    "iv.first_stage"
   ]
  },
  {
   "cell_type": "markdown",
   "id": "cee6b97e-0654-4ee7-8d9b-e83537c4cd48",
   "metadata": {},
   "source": [
    "# 共変量を入れて分析をする\n",
    "#### プログラム3.14 共変量を考慮したA/B テストの分析\n",
    "本文では次のように記していました。\n",
    "```\n",
    "df_abterst = pd.read_csv(URL_LENTA_DATA)\r",
    "result_with_covariates = smf.ols(\n",
    "    \"response_att ~ is_treatment + food_share_15d + age + is_women\",\n",
    "    data=df_abtest\n",
    ").fit()\r",
    "result_with_covariates.summary().tables[1]\n",
    "```"
   ]
  },
  {
   "cell_type": "code",
   "execution_count": 96,
   "id": "ec06f40e-4c4d-4130-87f6-c68af35ffd2e",
   "metadata": {},
   "outputs": [
    {
     "data": {
      "text/html": [
       "<div>\n",
       "<style scoped>\n",
       "    .dataframe tbody tr th:only-of-type {\n",
       "        vertical-align: middle;\n",
       "    }\n",
       "\n",
       "    .dataframe tbody tr th {\n",
       "        vertical-align: top;\n",
       "    }\n",
       "\n",
       "    .dataframe thead th {\n",
       "        text-align: right;\n",
       "    }\n",
       "</style>\n",
       "<table border=\"1\" class=\"dataframe\">\n",
       "  <thead>\n",
       "    <tr style=\"text-align: right;\">\n",
       "      <th></th>\n",
       "      <th>is_treatment</th>\n",
       "      <th>response_att</th>\n",
       "      <th>food_share_15d</th>\n",
       "      <th>age</th>\n",
       "      <th>is_women</th>\n",
       "    </tr>\n",
       "  </thead>\n",
       "  <tbody>\n",
       "    <tr>\n",
       "      <th>0</th>\n",
       "      <td>1</td>\n",
       "      <td>0</td>\n",
       "      <td>0.0000</td>\n",
       "      <td>33.0</td>\n",
       "      <td>1</td>\n",
       "    </tr>\n",
       "    <tr>\n",
       "      <th>1</th>\n",
       "      <td>0</td>\n",
       "      <td>0</td>\n",
       "      <td>0.0000</td>\n",
       "      <td>63.0</td>\n",
       "      <td>1</td>\n",
       "    </tr>\n",
       "    <tr>\n",
       "      <th>2</th>\n",
       "      <td>1</td>\n",
       "      <td>0</td>\n",
       "      <td>0.0000</td>\n",
       "      <td>51.0</td>\n",
       "      <td>1</td>\n",
       "    </tr>\n",
       "    <tr>\n",
       "      <th>3</th>\n",
       "      <td>0</td>\n",
       "      <td>0</td>\n",
       "      <td>0.0000</td>\n",
       "      <td>38.0</td>\n",
       "      <td>1</td>\n",
       "    </tr>\n",
       "    <tr>\n",
       "      <th>4</th>\n",
       "      <td>1</td>\n",
       "      <td>0</td>\n",
       "      <td>0.5105</td>\n",
       "      <td>20.0</td>\n",
       "      <td>1</td>\n",
       "    </tr>\n",
       "    <tr>\n",
       "      <th>...</th>\n",
       "      <td>...</td>\n",
       "      <td>...</td>\n",
       "      <td>...</td>\n",
       "      <td>...</td>\n",
       "      <td>...</td>\n",
       "    </tr>\n",
       "    <tr>\n",
       "      <th>49995</th>\n",
       "      <td>1</td>\n",
       "      <td>0</td>\n",
       "      <td>0.0000</td>\n",
       "      <td>60.0</td>\n",
       "      <td>1</td>\n",
       "    </tr>\n",
       "    <tr>\n",
       "      <th>49996</th>\n",
       "      <td>0</td>\n",
       "      <td>0</td>\n",
       "      <td>0.0000</td>\n",
       "      <td>26.0</td>\n",
       "      <td>0</td>\n",
       "    </tr>\n",
       "    <tr>\n",
       "      <th>49997</th>\n",
       "      <td>1</td>\n",
       "      <td>0</td>\n",
       "      <td>0.8461</td>\n",
       "      <td>28.0</td>\n",
       "      <td>1</td>\n",
       "    </tr>\n",
       "    <tr>\n",
       "      <th>49998</th>\n",
       "      <td>1</td>\n",
       "      <td>0</td>\n",
       "      <td>0.0000</td>\n",
       "      <td>19.0</td>\n",
       "      <td>1</td>\n",
       "    </tr>\n",
       "    <tr>\n",
       "      <th>49999</th>\n",
       "      <td>1</td>\n",
       "      <td>0</td>\n",
       "      <td>0.8453</td>\n",
       "      <td>69.0</td>\n",
       "      <td>0</td>\n",
       "    </tr>\n",
       "  </tbody>\n",
       "</table>\n",
       "<p>50000 rows × 5 columns</p>\n",
       "</div>"
      ],
      "text/plain": [
       "       is_treatment  response_att  food_share_15d   age  is_women\n",
       "0                 1             0          0.0000  33.0         1\n",
       "1                 0             0          0.0000  63.0         1\n",
       "2                 1             0          0.0000  51.0         1\n",
       "3                 0             0          0.0000  38.0         1\n",
       "4                 1             0          0.5105  20.0         1\n",
       "...             ...           ...             ...   ...       ...\n",
       "49995             1             0          0.0000  60.0         1\n",
       "49996             0             0          0.0000  26.0         0\n",
       "49997             1             0          0.8461  28.0         1\n",
       "49998             1             0          0.0000  19.0         1\n",
       "49999             1             0          0.8453  69.0         0\n",
       "\n",
       "[50000 rows x 5 columns]"
      ]
     },
     "execution_count": 96,
     "metadata": {},
     "output_type": "execute_result"
    }
   ],
   "source": [
    "# サブサンプル分割\n",
    "df_abtest = pd.read_csv(URL_LENTA_DATA)\n",
    "df_abtest"
   ]
  },
  {
   "cell_type": "code",
   "execution_count": 99,
   "id": "76f90f14-4d54-4527-b42f-529510b278a7",
   "metadata": {},
   "outputs": [
    {
     "data": {
      "text/html": [
       "<table class=\"simpletable\">\n",
       "<tr>\n",
       "         <td></td>           <th>coef</th>     <th>std err</th>      <th>t</th>      <th>P>|t|</th>  <th>[0.025</th>    <th>0.975]</th>  \n",
       "</tr>\n",
       "<tr>\n",
       "  <th>Intercept</th>      <td>    0.0539</td> <td>    0.005</td> <td>   10.555</td> <td> 0.000</td> <td>    0.044</td> <td>    0.064</td>\n",
       "</tr>\n",
       "<tr>\n",
       "  <th>is_treatment</th>   <td>    0.0072</td> <td>    0.003</td> <td>    2.285</td> <td> 0.022</td> <td>    0.001</td> <td>    0.013</td>\n",
       "</tr>\n",
       "<tr>\n",
       "  <th>food_share_15d</th> <td>    0.1713</td> <td>    0.003</td> <td>   51.131</td> <td> 0.000</td> <td>    0.165</td> <td>    0.178</td>\n",
       "</tr>\n",
       "<tr>\n",
       "  <th>age</th>            <td>   -0.0003</td> <td>  9.3e-05</td> <td>   -3.047</td> <td> 0.002</td> <td>   -0.000</td> <td>   -0.000</td>\n",
       "</tr>\n",
       "<tr>\n",
       "  <th>is_women</th>       <td>    0.0033</td> <td>    0.003</td> <td>    1.157</td> <td> 0.247</td> <td>   -0.002</td> <td>    0.009</td>\n",
       "</tr>\n",
       "</table>"
      ],
      "text/plain": [
       "<class 'statsmodels.iolib.table.SimpleTable'>"
      ]
     },
     "execution_count": 99,
     "metadata": {},
     "output_type": "execute_result"
    }
   ],
   "source": [
    "df_abterst = pd.read_csv(URL_LENTA_DATA)\n",
    "result_with_covariates = smf.ols(\n",
    "    \"response_att ~ is_treatment + food_share_15d + age + is_women\",\n",
    "    data=df_abtest\n",
    ").fit()\n",
    "result_with_covariates.summary().tables[1]"
   ]
  },
  {
   "cell_type": "markdown",
   "id": "5bae9607-2e7d-4a80-b1be-77607c540eea",
   "metadata": {},
   "source": [
    "- A/Bテストの結果再掲"
   ]
  },
  {
   "cell_type": "code",
   "execution_count": 98,
   "id": "02402a2f-3dc7-4fc4-a591-0cdd98408fb5",
   "metadata": {},
   "outputs": [
    {
     "data": {
      "text/html": [
       "<table class=\"simpletable\">\n",
       "<tr>\n",
       "        <td></td>          <th>coef</th>     <th>std err</th>      <th>t</th>      <th>P>|t|</th>  <th>[0.025</th>    <th>0.975]</th>  \n",
       "</tr>\n",
       "<tr>\n",
       "  <th>Intercept</th>    <td>    0.1024</td> <td>    0.003</td> <td>   36.412</td> <td> 0.000</td> <td>    0.097</td> <td>    0.108</td>\n",
       "</tr>\n",
       "<tr>\n",
       "  <th>is_treatment</th> <td>    0.0091</td> <td>    0.003</td> <td>    2.809</td> <td> 0.005</td> <td>    0.003</td> <td>    0.015</td>\n",
       "</tr>\n",
       "</table>"
      ],
      "text/plain": [
       "<class 'statsmodels.iolib.table.SimpleTable'>"
      ]
     },
     "execution_count": 98,
     "metadata": {},
     "output_type": "execute_result"
    }
   ],
   "source": [
    "result_plain = smf.ols(\"response_att ~ is_treatment \", data=df_abtest).fit()\n",
    "result_plain.summary().tables[1]"
   ]
  },
  {
   "cell_type": "markdown",
   "id": "684f4fe8-3085-4d1e-b0be-99f446cf612b",
   "metadata": {},
   "source": [
    "# 施策効果の異質性 ~ どこで効果があるのか知る"
   ]
  },
  {
   "cell_type": "markdown",
   "id": "0709d945-c1b0-4821-8a55-cf6158763aa4",
   "metadata": {},
   "source": [
    "#### プログラム3.15 サブサンプル分割による異質性の分析\n",
    "\n",
    "```\n",
    "import pandas as pd\r",
    "import statsmodels. formula. api as smf\r",
    "from statsmodels. iolib. summary2 import summary_col\n",
    "\n",
    "# サブサンプル分割\n",
    "df_men = df_abtest.loc[df_abtest['is_women'] == 0, :]\n",
    "df_women = df_abtest.loc[df_abtest['is_women'] == 1, :]\n",
    "# 推定（is_women = 0）\n",
    "result_men = smf.ols(\"response_att ~ is_treatment\", data=df_men).fit()\n",
    "result_men.summary().tables[1]\n",
    "# 推定（is_women = 1）\n",
    "result_women = smf.ols(\"response_att ~ is_treatment\", data=df_women).fit()\n",
    "result_women.summary().tables[1]\n",
    "# 推定した結果をまとめて表示\n",
    "summary_col(\n",
    "    [result_men, result_women],\n",
    "    model_names=('only men model', 'only women model'), stars=True\n",
    ")\n",
    "```"
   ]
  },
  {
   "cell_type": "code",
   "execution_count": 100,
   "id": "6854dd78-ce22-4119-b3f0-3584edeb79ed",
   "metadata": {},
   "outputs": [],
   "source": [
    "# サブサンプル分割\n",
    "df_men = df_abtest.loc[df_abtest['is_women'] == 0, :]\n",
    "df_women = df_abtest.loc[df_abtest['is_women'] == 1, :]"
   ]
  },
  {
   "cell_type": "code",
   "execution_count": 101,
   "id": "202ef941-4309-47b2-98a5-7642d0d99e68",
   "metadata": {},
   "outputs": [
    {
     "data": {
      "text/html": [
       "<table class=\"simpletable\">\n",
       "<tr>\n",
       "        <td></td>          <th>coef</th>     <th>std err</th>      <th>t</th>      <th>P>|t|</th>  <th>[0.025</th>    <th>0.975]</th>  \n",
       "</tr>\n",
       "<tr>\n",
       "  <th>Intercept</th>    <td>    0.1010</td> <td>    0.005</td> <td>   22.021</td> <td> 0.000</td> <td>    0.092</td> <td>    0.110</td>\n",
       "</tr>\n",
       "<tr>\n",
       "  <th>is_treatment</th> <td>    0.0135</td> <td>    0.005</td> <td>    2.543</td> <td> 0.011</td> <td>    0.003</td> <td>    0.024</td>\n",
       "</tr>\n",
       "</table>"
      ],
      "text/plain": [
       "<class 'statsmodels.iolib.table.SimpleTable'>"
      ]
     },
     "execution_count": 101,
     "metadata": {},
     "output_type": "execute_result"
    }
   ],
   "source": [
    "# 推定（is_women = 0）\n",
    "result_men = smf.ols(\"response_att ~ is_treatment\", data=df_men).fit()\n",
    "result_men.summary().tables[1]"
   ]
  },
  {
   "cell_type": "code",
   "execution_count": 23,
   "id": "45d76158-7b68-413a-8b8c-3d19592a25a8",
   "metadata": {},
   "outputs": [
    {
     "data": {
      "text/html": [
       "<table class=\"simpletable\">\n",
       "<tr>\n",
       "        <td></td>          <th>coef</th>     <th>std err</th>      <th>t</th>      <th>P>|t|</th>  <th>[0.025</th>    <th>0.975]</th>  \n",
       "</tr>\n",
       "<tr>\n",
       "  <th>Intercept</th>    <td>    0.1032</td> <td>    0.004</td> <td>   29.006</td> <td> 0.000</td> <td>    0.096</td> <td>    0.110</td>\n",
       "</tr>\n",
       "<tr>\n",
       "  <th>is_treatment</th> <td>    0.0065</td> <td>    0.004</td> <td>    1.583</td> <td> 0.113</td> <td>   -0.002</td> <td>    0.014</td>\n",
       "</tr>\n",
       "</table>"
      ],
      "text/plain": [
       "<class 'statsmodels.iolib.table.SimpleTable'>"
      ]
     },
     "execution_count": 23,
     "metadata": {},
     "output_type": "execute_result"
    }
   ],
   "source": [
    "# 推定（is_women = 1）\n",
    "result_women = smf.ols(\"response_att ~ is_treatment\", data=df_women).fit()\n",
    "result_women.summary().tables[1]"
   ]
  },
  {
   "cell_type": "code",
   "execution_count": 102,
   "id": "e99b8994-ba10-465d-815e-311a17b298ce",
   "metadata": {},
   "outputs": [
    {
     "data": {
      "text/html": [
       "<table class=\"simpletable\">\n",
       "<tr>\n",
       "         <td></td>        <th>only men model</th> <th>only women model</th>\n",
       "</tr>\n",
       "<tr>\n",
       "  <th>Intercept</th>         <td>0.1010***</td>       <td>0.1032***</td>   \n",
       "</tr>\n",
       "<tr>\n",
       "  <th></th>                  <td>(0.0046)</td>        <td>(0.0036)</td>    \n",
       "</tr>\n",
       "<tr>\n",
       "  <th>is_treatment</th>      <td>0.0135**</td>         <td>0.0065</td>     \n",
       "</tr>\n",
       "<tr>\n",
       "  <th></th>                  <td>(0.0053)</td>        <td>(0.0041)</td>    \n",
       "</tr>\n",
       "<tr>\n",
       "  <th>R-squared</th>          <td>0.0003</td>          <td>0.0001</td>     \n",
       "</tr>\n",
       "<tr>\n",
       "  <th>R-squared Adj.</th>     <td>0.0003</td>          <td>0.0000</td>     \n",
       "</tr>\n",
       "</table>"
      ],
      "text/plain": [
       "<class 'statsmodels.iolib.summary2.Summary'>\n",
       "\"\"\"\n",
       "\n",
       "==============================================\n",
       "               only men model only women model\n",
       "----------------------------------------------\n",
       "Intercept      0.1010***      0.1032***       \n",
       "               (0.0046)       (0.0036)        \n",
       "is_treatment   0.0135**       0.0065          \n",
       "               (0.0053)       (0.0041)        \n",
       "R-squared      0.0003         0.0001          \n",
       "R-squared Adj. 0.0003         0.0000          \n",
       "==============================================\n",
       "Standard errors in parentheses.\n",
       "* p<.1, ** p<.05, ***p<.01\n",
       "\"\"\""
      ]
     },
     "execution_count": 102,
     "metadata": {},
     "output_type": "execute_result"
    }
   ],
   "source": [
    "# 推定した結果をまとめて表示\n",
    "summary_col(\n",
    "    [result_men, result_women],\n",
    "    model_names=('only men model', 'only women model'), stars=True\n",
    ")"
   ]
  },
  {
   "cell_type": "code",
   "execution_count": 25,
   "id": "3866e741-7850-43a8-9b6e-1a311ba0fa4d",
   "metadata": {},
   "outputs": [
    {
     "data": {
      "text/html": [
       "<div>\n",
       "<style scoped>\n",
       "    .dataframe tbody tr th:only-of-type {\n",
       "        vertical-align: middle;\n",
       "    }\n",
       "\n",
       "    .dataframe tbody tr th {\n",
       "        vertical-align: top;\n",
       "    }\n",
       "\n",
       "    .dataframe thead th {\n",
       "        text-align: right;\n",
       "    }\n",
       "</style>\n",
       "<table border=\"1\" class=\"dataframe\">\n",
       "  <thead>\n",
       "    <tr style=\"text-align: right;\">\n",
       "      <th></th>\n",
       "      <th>is_women</th>\n",
       "    </tr>\n",
       "  </thead>\n",
       "  <tbody>\n",
       "    <tr>\n",
       "      <th>0</th>\n",
       "      <td>1</td>\n",
       "    </tr>\n",
       "    <tr>\n",
       "      <th>1</th>\n",
       "      <td>1</td>\n",
       "    </tr>\n",
       "    <tr>\n",
       "      <th>2</th>\n",
       "      <td>1</td>\n",
       "    </tr>\n",
       "    <tr>\n",
       "      <th>3</th>\n",
       "      <td>1</td>\n",
       "    </tr>\n",
       "    <tr>\n",
       "      <th>4</th>\n",
       "      <td>1</td>\n",
       "    </tr>\n",
       "    <tr>\n",
       "      <th>...</th>\n",
       "      <td>...</td>\n",
       "    </tr>\n",
       "    <tr>\n",
       "      <th>49995</th>\n",
       "      <td>1</td>\n",
       "    </tr>\n",
       "    <tr>\n",
       "      <th>49996</th>\n",
       "      <td>0</td>\n",
       "    </tr>\n",
       "    <tr>\n",
       "      <th>49997</th>\n",
       "      <td>1</td>\n",
       "    </tr>\n",
       "    <tr>\n",
       "      <th>49998</th>\n",
       "      <td>1</td>\n",
       "    </tr>\n",
       "    <tr>\n",
       "      <th>49999</th>\n",
       "      <td>0</td>\n",
       "    </tr>\n",
       "  </tbody>\n",
       "</table>\n",
       "<p>50000 rows × 1 columns</p>\n",
       "</div>"
      ],
      "text/plain": [
       "       is_women\n",
       "0             1\n",
       "1             1\n",
       "2             1\n",
       "3             1\n",
       "4             1\n",
       "...         ...\n",
       "49995         1\n",
       "49996         0\n",
       "49997         1\n",
       "49998         1\n",
       "49999         0\n",
       "\n",
       "[50000 rows x 1 columns]"
      ]
     },
     "execution_count": 25,
     "metadata": {},
     "output_type": "execute_result"
    }
   ],
   "source": [
    "# ダミー変数であるis_womenカラムの中身を確認する\n",
    "df_abtest[['is_women']]"
   ]
  },
  {
   "cell_type": "markdown",
   "id": "68e62cfc-668f-40ff-9103-1c6eb1643b44",
   "metadata": {},
   "source": [
    "#### プログラム3.16 交差項による異質性の分析\n",
    "本文では次のように記載しています。\n",
    "```\n",
    "import pandas as pd\n",
    "import statsmodels.formula.api as smf\n",
    "\n",
    "# 推定\n",
    "result_hetero = smf.ols(\n",
    "    \"response_att ~ is_treatment + is_women + is_treatment * is_women\",\n",
    "    data=df_abtest\n",
    ").fit()\n",
    "# 推定結果の表示\n",
    "result_hetero.summary().tables[1]\n",
    "```"
   ]
  },
  {
   "cell_type": "code",
   "execution_count": 103,
   "id": "6a6b2e1f-9128-4ee2-929a-30fd4a3fb4d2",
   "metadata": {},
   "outputs": [
    {
     "data": {
      "text/html": [
       "<table class=\"simpletable\">\n",
       "<tr>\n",
       "            <td></td>               <th>coef</th>     <th>std err</th>      <th>t</th>      <th>P>|t|</th>  <th>[0.025</th>    <th>0.975]</th>  \n",
       "</tr>\n",
       "<tr>\n",
       "  <th>Intercept</th>             <td>    0.1010</td> <td>    0.005</td> <td>   22.184</td> <td> 0.000</td> <td>    0.092</td> <td>    0.110</td>\n",
       "</tr>\n",
       "<tr>\n",
       "  <th>is_treatment</th>          <td>    0.0135</td> <td>    0.005</td> <td>    2.562</td> <td> 0.010</td> <td>    0.003</td> <td>    0.024</td>\n",
       "</tr>\n",
       "<tr>\n",
       "  <th>is_women</th>              <td>    0.0022</td> <td>    0.006</td> <td>    0.380</td> <td> 0.704</td> <td>   -0.009</td> <td>    0.014</td>\n",
       "</tr>\n",
       "<tr>\n",
       "  <th>is_treatment:is_women</th> <td>   -0.0070</td> <td>    0.007</td> <td>   -1.050</td> <td> 0.294</td> <td>   -0.020</td> <td>    0.006</td>\n",
       "</tr>\n",
       "</table>"
      ],
      "text/plain": [
       "<class 'statsmodels.iolib.table.SimpleTable'>"
      ]
     },
     "execution_count": 103,
     "metadata": {},
     "output_type": "execute_result"
    }
   ],
   "source": [
    "# 推定\n",
    "result_hetero = smf.ols(\n",
    "    \"response_att ~ is_treatment + is_women + is_treatment * is_women\",\n",
    "    data=df_abtest\n",
    ").fit()\n",
    "# 推定結果の表示\n",
    "result_hetero.summary().tables[1]"
   ]
  },
  {
   "cell_type": "code",
   "execution_count": null,
   "id": "34d88249-ae38-4f92-a1a2-cae7408a1ac2",
   "metadata": {},
   "outputs": [],
   "source": []
  }
 ],
 "metadata": {
  "kernelspec": {
   "display_name": "Python 3 (ipykernel)",
   "language": "python",
   "name": "python3"
  },
  "language_info": {
   "codemirror_mode": {
    "name": "ipython",
    "version": 3
   },
   "file_extension": ".py",
   "mimetype": "text/x-python",
   "name": "python",
   "nbconvert_exporter": "python",
   "pygments_lexer": "ipython3",
   "version": "3.8.5"
  }
 },
 "nbformat": 4,
 "nbformat_minor": 5
}
