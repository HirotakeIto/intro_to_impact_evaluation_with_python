{
 "cells": [
  {
   "cell_type": "markdown",
   "id": "bb74e562-9bc6-4f99-b88f-4e05197eed7c",
   "metadata": {},
   "source": [
    "# Google Colaboratoryとは"
   ]
  },
  {
   "cell_type": "markdown",
   "id": "bd1d639e-3612-4f6c-baf9-669e2cd0749b",
   "metadata": {},
   "source": [
    "本付録では、Google Colaboratory(Colab)の使い方について説明をします。[^1]\n",
    "\n",
    "Google Colaboratoryは、Googleが提供するクラウド上で動作するJupyter Notebook[^2]の環境です。Pythonやその他のJupyter Notebookをブラウザ上で書き実行することが可能です。Colabは無料で提供されており、自分のPC環境上へのPythonの環境構築などの手間を取ることなくデータ分析や機械学習を行うことができます。\n",
    "本書では不要ですが、無料でのGPUアクセスが可能でDeep Learningのモデル訓練もこれらを用いて可能であったり、共有機能を用いた他ユーザとの共同作業も可能で非常に便利です。"
   ]
  },
  {
   "cell_type": "markdown",
   "id": "c411aa7e-2615-4930-8f42-fba7d5781aa0",
   "metadata": {},
   "source": [
    "[^1] Colabの使用にはGoogleアカウントが必要です。お持ちでない方はまずはGoogleアカウントを作成してください\n",
    "\n",
    "[^2] Jupyter Notebookはコードの実行やテキスト、数式、図表などを一つのドキュメントとして作成することができるウェブアプリケーション"
   ]
  },
  {
   "cell_type": "markdown",
   "id": "4e312cea-6849-46c5-a071-576946ca4220",
   "metadata": {},
   "source": [
    "## notebookファイルの生成\n"
   ]
  },
  {
   "cell_type": "markdown",
   "id": "6264dbcf-0321-4d1e-b58a-6108c982e491",
   "metadata": {},
   "source": [
    "Google Colabでnotebookを作成する方法は複数ありますが、Google Colabのウェブサイトに直接アクセスする方法を紹介します。\n",
    "まず、Googleアカウントにログインをします。\n",
    "Google Colabのウェブサイトに直接アクセスする場合は、次のURL[^3]にアクセスをするとよいです。\n",
    "すると、チュートリアルのnotebook画面にアクセスされますが、この時に出てくるポップアップの右下の「ノートブックを新規作成」ボタンを押すと「Untitled0.ipynb」というファイル[^4]が作成され、新しいファイルを簡単に生成することができます。"
   ]
  },
  {
   "cell_type": "markdown",
   "id": "e8fb8f0c-3952-49ef-9b33-537f9626e031",
   "metadata": {},
   "source": [
    "[^3] https://colab.research.google.com/\n",
    "\n",
    "[^4] ipynbというファイル形式は、Jupyter Notebook環境で利用することができるファイル形式です。ipynb形式ファイルはコード、テキスト、数式、図表などを1つのドキュメントに組み合わせることができ、データサイエンスプロジェクトでは頻繁に利用される形式になります。"
   ]
  },
  {
   "cell_type": "markdown",
   "id": "c9b18c5f-42a0-4c77-a5dc-6b42e5d982ef",
   "metadata": {},
   "source": [
    "![ファイルの作成(その1)](create_file_1_v2.png)"
   ]
  },
  {
   "cell_type": "markdown",
   "id": "7a9a4e6e-38c8-476c-a0bc-895b1430127f",
   "metadata": {},
   "source": [
    "あるいは、右上のファイルボタンから「ノートブックを新規作成」ボタンを押すことでも同様に作成が可能です。"
   ]
  },
  {
   "cell_type": "markdown",
   "id": "b35e4312-c939-4e26-910f-d5f7d9703289",
   "metadata": {},
   "source": [
    "![ファイルの作成(その2)](create_file_2_v2.png)"
   ]
  },
  {
   "cell_type": "markdown",
   "id": "b27d2caf-659c-48d7-b42e-01fc62c473b8",
   "metadata": {},
   "source": [
    "## パッケージのインストール"
   ]
  },
  {
   "cell_type": "markdown",
   "id": "e70c9eb8-f26e-473d-9156-35726cc19f16",
   "metadata": {},
   "source": [
    "Colabでは、`pandas`や`numpy`など、データ分析や機械学習に標準的に用いられるパッケージ類は事前にインストールされた状態のnotebook環境で作業を始めることが可能です。\n",
    "本書で紹介したパッケージ類は基本的にはこれらの事前にインストールされたパッケージに含まれますが、一部のパッケージは事前にインストールされていないことがあります。\n",
    "そのような場合は、以下のコマンドを使用することによってパッケージをインストールすることが可能です。\n",
    "\n",
    "```python\n",
    "! pip install [パッケージ名1] [パッケージ名2]\n",
    "```\n",
    "\n",
    "ここでは、第5章で紹介したrdrobust, rddensityパッケージを試しにインストールしてみましょう。\n",
    "新しいセルを作成し、その中に必要なパッケージをインストールするためのコードを入力してセルを実行します。セルの左側にある再生ボタンをクリックするか、キーボードのShift + Enterキーを押すことでセルを実行できます。これにより、指定したパッケージがインストールされます。\n",
    "新しいセルを作成し、インストールしたパッケージをインポートしてみることでインストールが成功したか確認できます。\n",
    "\n",
    "```python\n",
    "! pip install rdrobust rddensity\n",
    "\n",
    "import rdrobust, rddensity\n",
    "```\n",
    "\n",
    "これでパッケージのインストールが完了しました。Google Colabはクラウド上で動作するため、セッションが切れるとインストールしたパッケージは消えてしまいます。そのため、必要なパッケージはノートブックを開くたびにインストールする必要があります。"
   ]
  },
  {
   "cell_type": "markdown",
   "id": "f7fc355f-c61c-43fb-b678-e454b175d354",
   "metadata": {},
   "source": [
    "![colabでのパッケージのインストール](sample_pip_install_v2.png)"
   ]
  },
  {
   "cell_type": "markdown",
   "id": "942ca6f2-ac67-4094-b8f9-010bfb4017be",
   "metadata": {},
   "source": [
    "\n",
    "これでパッケージのインストールが完了しました。Google Colabはクラウド上で動作するため、セッションが切れるとインストールしたパッケージは消えてしまいます。そのため、必要なパッケージはノートブックを開くたびにインストールする必要があります。"
   ]
  },
  {
   "cell_type": "markdown",
   "id": "0863a982-129d-4cd0-8a19-6a3cc5531f82",
   "metadata": {},
   "source": [
    "# 本書で用いたコードを実行する"
   ]
  },
  {
   "cell_type": "markdown",
   "id": "7c98fb0c-3df1-4395-9649-a4477a2c3b59",
   "metadata": {},
   "source": [
    "ここまでColabratoryの基本的な使い方について解説してきました。ここからは本書のコードをColabratoryを用いて実行するところまでを解説します。これによって、手元のPCでのPythonの環境構築などの手間などなしに、本書の分析結果を全般的に自分自身の手で確認することができるようになるはずです。"
   ]
  },
  {
   "cell_type": "markdown",
   "id": "ab2958f7-5e33-47f6-beeb-ed3801ac8a24",
   "metadata": {},
   "source": [
    "## サポートページからipynbファイルをダウンロードする"
   ]
  },
  {
   "cell_type": "markdown",
   "id": "910e555d-acf3-4e90-af78-eebd7864490b",
   "metadata": {},
   "source": [
    "Colabratoryでは前述のとおりipynbファイルを利用することができます。本書ではipynbファイルを含めた関連ファイルをサポートページ[^5]にて公開しています。まずはそのページにいってダウンロードをします。\n",
    "\n",
    "以下のような画面が表示されたらば、右上のボタンメニューなどからダウンロードすることができます。"
   ]
  },
  {
   "cell_type": "markdown",
   "id": "e329f884-cb95-401e-908b-7eb45579d82d",
   "metadata": {},
   "source": [
    "[^5] https://github.com/HirotakeIto/intro_to_impact_evaluation_with_python"
   ]
  },
  {
   "cell_type": "markdown",
   "id": "1753242f-992f-4cd3-8fd5-daf27bb09d75",
   "metadata": {},
   "source": [
    "![公開されているipynbファイル](github1.png)"
   ]
  },
  {
   "cell_type": "markdown",
   "id": "111b3440-a702-4d4a-b981-c6b6a0a0f698",
   "metadata": {},
   "source": [
    "## ipynbファイルをGoogle Driveにアップロードする"
   ]
  },
  {
   "cell_type": "markdown",
   "id": "1336c798-538e-490d-8277-02f3e64c9553",
   "metadata": {},
   "source": [
    "ダウンロードをしたら、そのファイルをGoogle Driveにアップロード。Google DriveはGoogleアカウントを持っている人間であれば限定的な利用をすることができます。\n",
    "\n",
    "アップロードしたファイルは以下のように表示されます。"
   ]
  },
  {
   "cell_type": "markdown",
   "id": "792e1b8f-9af9-4dae-ae7a-78c151f40646",
   "metadata": {},
   "source": [
    "![Google Driveに置かれたipynbファイル](github2.png)"
   ]
  },
  {
   "cell_type": "markdown",
   "id": "1eb1f180-1ee1-4092-be5b-12969a7f9917",
   "metadata": {},
   "source": [
    "## Google Colaboratoryで立ち上げる"
   ]
  },
  {
   "cell_type": "markdown",
   "id": "c0ebad55-4c73-446e-8119-c0bebe5cd50b",
   "metadata": {},
   "source": [
    "Google Colaboratoryで立ち上げようとしているファイルにカーソルを合わせ、右クリックを押すといくつかのメニューが案内されます。その中から「アプリを開く」→「Google Colaboratory」で立ち上げることができます。"
   ]
  },
  {
   "cell_type": "markdown",
   "id": "71be6828-34c4-491d-aa84-a56cf572f7b9",
   "metadata": {},
   "source": [
    "![ipynbファイルをGoogle Colabratoryで立ち上げる](github3.png)"
   ]
  },
  {
   "cell_type": "code",
   "execution_count": null,
   "id": "41f40839-f4ce-4563-b5b2-523df6f90b46",
   "metadata": {},
   "outputs": [],
   "source": []
  }
 ],
 "metadata": {
  "kernelspec": {
   "display_name": "Python 3 (ipykernel)",
   "language": "python",
   "name": "python3"
  },
  "language_info": {
   "codemirror_mode": {
    "name": "ipython",
    "version": 3
   },
   "file_extension": ".py",
   "mimetype": "text/x-python",
   "name": "python",
   "nbconvert_exporter": "python",
   "pygments_lexer": "ipython3",
   "version": "3.8.5"
  }
 },
 "nbformat": 4,
 "nbformat_minor": 5
}
